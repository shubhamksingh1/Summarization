{
  "nbformat": 4,
  "nbformat_minor": 0,
  "metadata": {
    "colab": {
      "name": "Summary_Using_TF_IDF (1).ipynb",
      "provenance": [],
      "collapsed_sections": [],
      "toc_visible": true,
      "include_colab_link": true
    },
    "kernelspec": {
      "name": "python3",
      "display_name": "Python 3"
    },
    "accelerator": "GPU"
  },
  "cells": [
    {
      "cell_type": "markdown",
      "metadata": {
        "id": "view-in-github",
        "colab_type": "text"
      },
      "source": [
        "<a href=\"https://colab.research.google.com/github/shubhamksingh1/Summarization/blob/main/Summary_Using_TF_IDF.ipynb\" target=\"_parent\"><img src=\"https://colab.research.google.com/assets/colab-badge.svg\" alt=\"Open In Colab\"/></a>"
      ]
    },
    {
      "cell_type": "markdown",
      "metadata": {
        "id": "SO4QJo6Xvjp_"
      },
      "source": [
        "####Term Frequency * Inverse Document Frequency \n",
        "\n",
        "TF-IDF algorithm is made of 2 algorithms multiplied together.\n",
        "\n",
        "Term Frequency\n",
        "Term frequency (TF) is how often a word appears in a document, divided by how many words there are.\n",
        "\n",
        "TF(t) = (Number of times term t appears in a document) / (Total number of terms in the document)\n",
        "\n",
        "Inverse document frequency\n",
        "Term frequency is how common a word is, inverse document frequency (IDF) is how unique or rare a word is.\n",
        "\n",
        "IDF(t) = log_e(Total number of documents / Number of documents with term t in it);\n",
        "\n",
        "Example, \n",
        "\n",
        "Consider a document containing 100 words wherein the word appleappears 5times. The term frequency (i.e., TF) for apple is then (5 / 100) = 0.05.\n",
        "Now, assume we have 10 million documents and the word apple appears in one thousand of these. Then, the inverse document frequency (i.e., IDF) is calculated as log(10,000,000 / 1,000) = 4.\n",
        "Thus, the TF-IDF weight is the product of these quantities: 0.05 * 4 = 0.20."
      ]
    },
    {
      "cell_type": "code",
      "metadata": {
        "id": "14Gw1Xu-dmdm",
        "outputId": "221e6630-5152-4c33-ead1-b6585653531c",
        "colab": {
          "base_uri": "https://localhost:8080/",
          "height": 122
        }
      },
      "source": [
        "from google.colab import drive\n",
        "drive.mount('/content/drive')"
      ],
      "execution_count": null,
      "outputs": [
        {
          "output_type": "stream",
          "text": [
            "Go to this URL in a browser: https://accounts.google.com/o/oauth2/auth?client_id=947318989803-6bn6qk8qdgf4n4g3pfee6491hc0brc4i.apps.googleusercontent.com&redirect_uri=urn%3Aietf%3Awg%3Aoauth%3A2.0%3Aoob&scope=email%20https%3A%2F%2Fwww.googleapis.com%2Fauth%2Fdocs.test%20https%3A%2F%2Fwww.googleapis.com%2Fauth%2Fdrive%20https%3A%2F%2Fwww.googleapis.com%2Fauth%2Fdrive.photos.readonly%20https%3A%2F%2Fwww.googleapis.com%2Fauth%2Fpeopleapi.readonly&response_type=code\n",
            "\n",
            "Enter your authorization code:\n",
            "··········\n",
            "Mounted at /content/drive\n"
          ],
          "name": "stdout"
        }
      ]
    },
    {
      "cell_type": "code",
      "metadata": {
        "id": "Pe5MD2zEZx5M"
      },
      "source": [
        "import math\n",
        "import nltk\n",
        "from nltk import sent_tokenize, word_tokenize, PorterStemmer\n",
        "from nltk.corpus import stopwords"
      ],
      "execution_count": null,
      "outputs": []
    },
    {
      "cell_type": "code",
      "metadata": {
        "id": "IUeXwXEZbZ6_",
        "outputId": "00b7a2b2-c6b1-4007-d36c-e3b83f3909a0",
        "colab": {
          "base_uri": "https://localhost:8080/",
          "height": 102
        }
      },
      "source": [
        "nltk.download('punkt')\n",
        "nltk.download('stopwords')"
      ],
      "execution_count": null,
      "outputs": [
        {
          "output_type": "stream",
          "text": [
            "[nltk_data] Downloading package punkt to /root/nltk_data...\n",
            "[nltk_data]   Package punkt is already up-to-date!\n",
            "[nltk_data] Downloading package stopwords to /root/nltk_data...\n",
            "[nltk_data]   Package stopwords is already up-to-date!\n"
          ],
          "name": "stdout"
        },
        {
          "output_type": "execute_result",
          "data": {
            "text/plain": [
              "True"
            ]
          },
          "metadata": {
            "tags": []
          },
          "execution_count": 2
        }
      ]
    },
    {
      "cell_type": "markdown",
      "metadata": {
        "id": "KPAll2_QE6Uh"
      },
      "source": [
        "###The 9 steps implementation\n",
        "\n",
        "**Prerequisites** Python3, NLTK library of python\n",
        "\n"
      ]
    },
    {
      "cell_type": "markdown",
      "metadata": {
        "id": "SHuilx9fPOtj"
      },
      "source": [
        "###1. Tokenize the sentences\n",
        "We’ll tokenize the sentences here instead of words. And we’ll give weight to these sentences."
      ]
    },
    {
      "cell_type": "markdown",
      "metadata": {
        "id": "qFs3lHpnFZ1k"
      },
      "source": [
        "###2. Create the Frequency matrix of the words in each sentence.\n",
        "\n",
        "We calculate the frequency of words in each sentence.\n",
        "Here, each sentence is the key and the value is a dictionary of word frequency."
      ]
    },
    {
      "cell_type": "code",
      "metadata": {
        "id": "lzF0qvUrZ8vg"
      },
      "source": [
        "def _create_frequency_matrix(sentences) -> dict:\n",
        "    \"\"\"\n",
        "    we create a dictionary for the word frequency table.\n",
        "    For this, we should only use the words that are not part of the stopWords array.\n",
        "\n",
        "    Removing stop words and making frequency table\n",
        "    Stemmer - an algorithm to bring words to its root word.\n",
        "    :rtype: dict\n",
        "    \"\"\"\n",
        "    frequency_matrix = {}\n",
        "    stopWords = set(stopwords.words(\"english\"))\n",
        "    ps = PorterStemmer()\n",
        "\n",
        "    for sent in sentences:\n",
        "        freq_table = {}\n",
        "        words = word_tokenize(sent)\n",
        "        for word in words:\n",
        "            word = word.lower()\n",
        "            word = ps.stem(word)\n",
        "            if word in stopWords:\n",
        "                continue\n",
        "\n",
        "            if word in freq_table:\n",
        "                freq_table[word] += 1\n",
        "            else:\n",
        "                freq_table[word] = 1\n",
        "\n",
        "        frequency_matrix[sent[:15]] = freq_table\n",
        "\n",
        "    return frequency_matrix\n"
      ],
      "execution_count": null,
      "outputs": []
    },
    {
      "cell_type": "markdown",
      "metadata": {
        "id": "OtMRrj1xF-iP"
      },
      "source": [
        "###3. Calculate TermFrequency and generate a matrix\n",
        "\n",
        "We’ll find the TermFrequency for each word in a paragraph.\n",
        "\n",
        "Now, remember the definition of TF,\n",
        "\n",
        "TF(t) = (Number of times term t appears in a document) / (Total number of terms in the document)\n",
        "Here, the document is a paragraph, the term is a word in a paragraph.\n",
        "\n",
        "If we compare this table with the table we’ve generated in step 2, you will see the words having the same frequency are having the similar TF score."
      ]
    },
    {
      "cell_type": "code",
      "metadata": {
        "id": "XTrpPzdvZ9Go"
      },
      "source": [
        "def _create_tf_matrix(freq_matrix):\n",
        "    tf_matrix = {}\n",
        "\n",
        "    for sent, f_table in freq_matrix.items():\n",
        "        tf_table = {}\n",
        "\n",
        "        count_words_in_sentence = len(f_table)\n",
        "        for word, count in f_table.items():\n",
        "            tf_table[word] = count / count_words_in_sentence\n",
        "\n",
        "        tf_matrix[sent] = tf_table\n",
        "\n",
        "    return tf_matrix\n",
        "\n"
      ],
      "execution_count": null,
      "outputs": []
    },
    {
      "cell_type": "markdown",
      "metadata": {
        "id": "5n2fKKUXGaaZ"
      },
      "source": [
        "###4. Creating a table for documents per words\n",
        "\n",
        "\n",
        "This again a simple table which helps in calculating IDF matrix.\n",
        "we calculate, “how many sentences contain a word”, Let’s call it Documents per words matrix."
      ]
    },
    {
      "cell_type": "code",
      "metadata": {
        "id": "HB3PgbQsZ9jw"
      },
      "source": [
        "def _create_documents_per_words(freq_matrix):\n",
        "    word_per_doc_table = {}\n",
        "\n",
        "    for sent, f_table in freq_matrix.items():\n",
        "        for word, count in f_table.items():\n",
        "            if word in word_per_doc_table:\n",
        "                word_per_doc_table[word] += 1\n",
        "            else:\n",
        "                word_per_doc_table[word] = 1\n",
        "\n",
        "    return word_per_doc_table\n"
      ],
      "execution_count": null,
      "outputs": []
    },
    {
      "cell_type": "markdown",
      "metadata": {
        "id": "8yNFTNMUGq0G"
      },
      "source": [
        "###5. Calculate IDF and generate a matrix\n",
        "\n",
        "\n",
        "We’ll find the IDF for each word in a paragraph.\n",
        "\n",
        "Now, remember the definition of IDF,\n",
        "\n",
        "IDF(t) = log_e(Total number of documents / Number of documents with term t in it)\n",
        "Here, the document is a paragraph, the term is a word in a paragraph."
      ]
    },
    {
      "cell_type": "code",
      "metadata": {
        "id": "KIeHtKmwZ-Hy"
      },
      "source": [
        "\n",
        "def _create_idf_matrix(freq_matrix, count_doc_per_words, total_documents):\n",
        "    idf_matrix = {}\n",
        "\n",
        "    for sent, f_table in freq_matrix.items():\n",
        "        idf_table = {}\n",
        "\n",
        "        for word in f_table.keys():\n",
        "            idf_table[word] = math.log10(total_documents / float(count_doc_per_words[word]))\n",
        "\n",
        "        idf_matrix[sent] = idf_table\n",
        "\n",
        "    return idf_matrix"
      ],
      "execution_count": null,
      "outputs": []
    },
    {
      "cell_type": "markdown",
      "metadata": {
        "id": "-a5WBNf9G54g"
      },
      "source": [
        "###6. Calculate TF-IDF and generate a matrix\n",
        "\n",
        "Now we have both the matrix and the next step is very easy.\n",
        "TF-IDF algorithm is made of 2 algorithms multiplied together.\n",
        "In simple terms, we are multiplying the values from both the matrix and generating new matrix."
      ]
    },
    {
      "cell_type": "code",
      "metadata": {
        "id": "Yvn0PLAUZ-lI"
      },
      "source": [
        "\n",
        "def _create_tf_idf_matrix(tf_matrix, idf_matrix):\n",
        "    tf_idf_matrix = {}\n",
        "\n",
        "    for (sent1, f_table1), (sent2, f_table2) in zip(tf_matrix.items(), idf_matrix.items()):\n",
        "\n",
        "        tf_idf_table = {}\n",
        "\n",
        "        for (word1, value1), (word2, value2) in zip(f_table1.items(),\n",
        "                                                    f_table2.items()):  # here, keys are the same in both the table\n",
        "            tf_idf_table[word1] = float(value1 * value2)\n",
        "\n",
        "        tf_idf_matrix[sent1] = tf_idf_table\n",
        "\n",
        "    return tf_idf_matrix"
      ],
      "execution_count": null,
      "outputs": []
    },
    {
      "cell_type": "markdown",
      "metadata": {
        "id": "EKR1Xz1VHB0x"
      },
      "source": [
        "###7. Score the sentences\n",
        "\n",
        "Scoring a sentence is differs with different algorithms. Here, we are using Tf-IDF score of words in a sentence to give weight to the paragraph.\n",
        "This gives the table of sentences and their respected score"
      ]
    },
    {
      "cell_type": "code",
      "metadata": {
        "id": "sl6UzZ-_Z-8p"
      },
      "source": [
        "def _score_sentences(tf_idf_matrix) -> dict:\n",
        "    \"\"\"\n",
        "    score a sentence by its word's TF\n",
        "    Basic algorithm: adding the TF frequency of every non-stop word in a sentence divided by total no of words in a sentence.\n",
        "    :rtype: dict\n",
        "    \"\"\"\n",
        "\n",
        "    sentenceValue = {}\n",
        "\n",
        "    for sent, f_table in tf_idf_matrix.items():\n",
        "        total_score_per_sentence = 0\n",
        "\n",
        "        count_words_in_sentence = len(f_table)\n",
        "        for word, score in f_table.items():\n",
        "            total_score_per_sentence += score\n",
        "\n",
        "        sentenceValue[sent] = total_score_per_sentence / count_words_in_sentence\n",
        "\n",
        "    return sentenceValue"
      ],
      "execution_count": null,
      "outputs": []
    },
    {
      "cell_type": "markdown",
      "metadata": {
        "id": "hcU_KDTSHKNn"
      },
      "source": [
        "###8. Find the threshold\n",
        "\n",
        "Similar to any summarization algorithms, there can be different ways to calculate a threshold value. We’re calculating the average sentence score."
      ]
    },
    {
      "cell_type": "code",
      "metadata": {
        "id": "mJN0QcFqaafJ"
      },
      "source": [
        "def _find_average_score(sentenceValue) -> int:\n",
        "    \"\"\"\n",
        "    Find the average score from the sentence value dictionary\n",
        "    :rtype: int\n",
        "    \"\"\"\n",
        "    sumValues = 0\n",
        "    for entry in sentenceValue:\n",
        "        sumValues += sentenceValue[entry]\n",
        "\n",
        "    # Average value of a sentence from original summary_text\n",
        "    average = (sumValues / len(sentenceValue))\n",
        "\n",
        "    return average"
      ],
      "execution_count": null,
      "outputs": []
    },
    {
      "cell_type": "markdown",
      "metadata": {
        "id": "8uyP6xESHRze"
      },
      "source": [
        "###9. Generate the summary\n",
        "\n",
        "Algorithm: Select a sentence for a summarization if the sentence score is more than the average score."
      ]
    },
    {
      "cell_type": "code",
      "metadata": {
        "id": "GpCFiVpWaaNx"
      },
      "source": [
        "def _generate_summary(sentences, sentenceValue, threshold):\n",
        "    sentence_count = 0\n",
        "    summary = ''\n",
        "\n",
        "    for sentence in sentences:\n",
        "        if sentence[:15] in sentenceValue and sentenceValue[sentence[:15]] >= (threshold):\n",
        "            if summary == \"\":\n",
        "                summary = sentence\n",
        "            else:\n",
        "                summary += \" \" + sentence\n",
        "            sentence_count += 1\n",
        "\n",
        "    return summary"
      ],
      "execution_count": null,
      "outputs": []
    },
    {
      "cell_type": "code",
      "metadata": {
        "id": "4IGwIgapam1j"
      },
      "source": [
        "def run_summarization(text):\n",
        "    \"\"\"\n",
        "    :param text: Plain summary_text of long article\n",
        "    :return: summarized summary_text\n",
        "    \"\"\"\n",
        "\n",
        "    '''\n",
        "    We already have a sentence tokenizer, so we just need \n",
        "    to run the sent_tokenize() method to create the array of sentences.\n",
        "    '''\n",
        "    # 1 Sentence Tokenize\n",
        "    sentences = sent_tokenize(text)\n",
        "    total_documents = len(sentences)\n",
        "    print(type(sentences))\n",
        "    print(\"sentences:\\n\")\n",
        "    print(sentences)\n",
        "    print(\"\\n\\n\")\n",
        "\n",
        "    # 2 Create the Frequency matrix of the words in each sentence.\n",
        "    freq_matrix = _create_frequency_matrix(sentences)\n",
        "    print(\"freq_matrix:\\n\")\n",
        "    print(freq_matrix)\n",
        "    print(\"\\n\\n\")\n",
        "\n",
        "    '''\n",
        "    Term frequency (TF) is how often a word appears in a document, divided by how many words are there in a document.\n",
        "    '''\n",
        "    # 3 Calculate TermFrequency and generate a matrix\n",
        "    tf_matrix = _create_tf_matrix(freq_matrix)\n",
        "    print(\"tf_matrix:\\n\")\n",
        "    print(tf_matrix)\n",
        "    print(\"\\n\\n\")\n",
        "\n",
        "    # 4 creating table for documents per words\n",
        "    count_doc_per_words = _create_documents_per_words(freq_matrix)\n",
        "    print(\"count_doc_per_words:\\n\")\n",
        "    print(count_doc_per_words)\n",
        "    print(\"\\n\\n\")\n",
        "\n",
        "    '''\n",
        "    Inverse document frequency (IDF) is how unique or rare a word is.\n",
        "    '''\n",
        "    # 5 Calculate IDF and generate a matrix\n",
        "    idf_matrix = _create_idf_matrix(freq_matrix, count_doc_per_words, total_documents)\n",
        "    print(\"idf_matrix:\\n\")\n",
        "    print(idf_matrix)\n",
        "    print(\"\\n\\n\")\n",
        "\n",
        "    # 6 Calculate TF-IDF and generate a matrix\n",
        "    tf_idf_matrix = _create_tf_idf_matrix(tf_matrix, idf_matrix)\n",
        "    print(\"tf_idf_matrix:\\n\")\n",
        "    print(tf_idf_matrix)\n",
        "    print(\"\\n\\n\")\n",
        "\n",
        "    # 7 Important Algorithm: score the sentences\n",
        "    sentence_scores = _score_sentences(tf_idf_matrix)\n",
        "    print(\"sentence_scores:\\n\")\n",
        "    print(sentence_scores)\n",
        "    print(\"\\n\\n\")\n",
        "\n",
        "    # 8 Find the threshold\n",
        "    threshold = _find_average_score(sentence_scores)\n",
        "    print(\"threshold:\\n\")\n",
        "    print(threshold)\n",
        "    print(\"\\n\\n\")\n",
        "\n",
        "    # 9 Important Algorithm: Generate the summary\n",
        "    summary = _generate_summary(sentences, sentence_scores, 1 * threshold)\n",
        "    return summary\n",
        "\n"
      ],
      "execution_count": null,
      "outputs": []
    },
    {
      "cell_type": "code",
      "metadata": {
        "id": "K7iZIGJADDW3"
      },
      "source": [
        "with open(r'/content/drive/My Drive/Colab Notebooks/data.txt', 'r') as myfile:\n",
        "    data = myfile.read()"
      ],
      "execution_count": null,
      "outputs": []
    },
    {
      "cell_type": "code",
      "metadata": {
        "id": "7Pr5qMq2Rr5S",
        "outputId": "98c69b34-f0ed-4d08-c087-af2d4df1a82b",
        "colab": {
          "base_uri": "https://localhost:8080/",
          "height": 411
        }
      },
      "source": [
        "print(data)"
      ],
      "execution_count": null,
      "outputs": [
        {
          "output_type": "stream",
          "text": [
            "Apple Inc. is one of the world’s largest makers of PCs and peripheral and consumer products, such as the\n",
            "iPod digital music player, the iPad tablet, the iPhone smartphone, and the ‘‘Apple Watch,’’ for sale\n",
            "primarily to the business, creative, education, government, and consumer markets. It also sells operating\n",
            "systems, utilities, languages, developer tools, and database software.\n",
            "AAPL's iPhone directly accounted for 66% of FY 15 revenues, with over 230 million units sold. AAPL sold\n",
            "over 169 million iPhones in FY 14, contributing 56% of revenues. This was AAPL's fastest-growing\n",
            "segment over the past couple of years, and while we expect the rate of growth to slow as the business\n",
            "becomes larger and more mature, we still see substantial opportunities related to international,\n",
            "enterprise and education markets. We note the fall 2015 introductions of the next generation iPhone 6s\n",
            "and the iPhone 6s Plus devices.\n",
            "Released in April 2010, the iPad quickly became the best-selling tablet computer by far. Before the iPad,\n",
            "unit sales for similar computing devices were less than 200,000 units, according to market researchers.\n",
            "In FY 10, the first year of availability, AAPL sold over 7 million iPads, accounting for around 8% of total\n",
            "revenues. In FY 15, about 55 million iPads were sold (10% of sales), but showed a decline from the 68\n",
            "million units shipped (17% of sales) the previous fiscal year. We believe the tablet form factor will remain\n",
            "popular as it launches next generation devices, but we see new entrants diluting AAPL's overall market\n",
            "share over time. Nonetheless, we expect AAPL to continue to dominate in the upper part of this fastgrowing computing market. Sales of AAPL's computers, commonly known as Macs, made up 11% of\n",
            "revenues in FY 15 compared to 13% in FY 14. On a unit shipment basis, Macs had grown notably faster\n",
            "than what was reported for the PC industry. Revenue from Services and other hardware products\n",
            "comprised for about 13% of sales in FY 15. This includes revenue from the iTunes Store, the App Store,\n",
            "the Mac App Store, the iBooks Store, AppleCare, licensing and other services. It also includes sales of\n",
            "Apple TV, Apple Watch, Beats products, iPod and Apple-branded and third-party accessories\n"
          ],
          "name": "stdout"
        }
      ]
    },
    {
      "cell_type": "code",
      "metadata": {
        "id": "r8g6EP3VR_Ql",
        "outputId": "7ec5fdb4-3162-43c4-e852-7e7663b4035f",
        "colab": {
          "base_uri": "https://localhost:8080/",
          "height": 887
        }
      },
      "source": [
        "filesummary=run_summarization(data)\n",
        "print(filesummary.replace(\"\\n\",\"\"))"
      ],
      "execution_count": null,
      "outputs": [
        {
          "output_type": "stream",
          "text": [
            "<class 'list'>\n",
            "sentences:\n",
            "\n",
            "['Apple Inc. is one of the world’s largest makers of PCs and peripheral and consumer products, such as the\\niPod digital music player, the iPad tablet, the iPhone smartphone, and the ‘‘Apple Watch,’’ for sale\\nprimarily to the business, creative, education, government, and consumer markets.', 'It also sells operating\\nsystems, utilities, languages, developer tools, and database software.', \"AAPL's iPhone directly accounted for 66% of FY 15 revenues, with over 230 million units sold.\", 'AAPL sold\\nover 169 million iPhones in FY 14, contributing 56% of revenues.', \"This was AAPL's fastest-growing\\nsegment over the past couple of years, and while we expect the rate of growth to slow as the business\\nbecomes larger and more mature, we still see substantial opportunities related to international,\\nenterprise and education markets.\", 'We note the fall 2015 introductions of the next generation iPhone 6s\\nand the iPhone 6s Plus devices.', 'Released in April 2010, the iPad quickly became the best-selling tablet computer by far.', 'Before the iPad,\\nunit sales for similar computing devices were less than 200,000 units, according to market researchers.', 'In FY 10, the first year of availability, AAPL sold over 7 million iPads, accounting for around 8% of total\\nrevenues.', 'In FY 15, about 55 million iPads were sold (10% of sales), but showed a decline from the 68\\nmillion units shipped (17% of sales) the previous fiscal year.', \"We believe the tablet form factor will remain\\npopular as it launches next generation devices, but we see new entrants diluting AAPL's overall market\\nshare over time.\", 'Nonetheless, we expect AAPL to continue to dominate in the upper part of this fastgrowing computing market.', \"Sales of AAPL's computers, commonly known as Macs, made up 11% of\\nrevenues in FY 15 compared to 13% in FY 14.\", 'On a unit shipment basis, Macs had grown notably faster\\nthan what was reported for the PC industry.', 'Revenue from Services and other hardware products\\ncomprised for about 13% of sales in FY 15.', 'This includes revenue from the iTunes Store, the App Store,\\nthe Mac App Store, the iBooks Store, AppleCare, licensing and other services.', 'It also includes sales of\\nApple TV, Apple Watch, Beats products, iPod and Apple-branded and third-party accessories']\n",
            "\n",
            "\n",
            "\n",
            "freq_matrix:\n",
            "\n",
            "{'Apple Inc. is o': {'appl': 2, 'inc.': 1, 'one': 1, 'world': 1, '’': 3, 'largest': 1, 'maker': 1, 'pc': 1, 'peripher': 1, 'consum': 2, 'product': 1, ',': 9, 'ipod': 1, 'digit': 1, 'music': 1, 'player': 1, 'ipad': 1, 'tablet': 1, 'iphon': 1, 'smartphon': 1, '‘': 2, 'watch': 1, 'sale': 1, 'primarili': 1, 'busi': 1, 'creativ': 1, 'educ': 1, 'govern': 1, 'market': 1, '.': 1}, 'It also sells o': {'also': 1, 'sell': 1, 'oper': 1, 'system': 1, ',': 4, 'util': 1, 'languag': 1, 'develop': 1, 'tool': 1, 'databas': 1, 'softwar': 1, '.': 1}, \"AAPL's iPhone d\": {'aapl': 1, \"'s\": 1, 'iphon': 1, 'directli': 1, 'account': 1, '66': 1, '%': 1, 'fy': 1, '15': 1, 'revenu': 1, ',': 1, '230': 1, 'million': 1, 'unit': 1, 'sold': 1, '.': 1}, 'AAPL sold\\nover ': {'aapl': 1, 'sold': 1, '169': 1, 'million': 1, 'iphon': 1, 'fy': 1, '14': 1, ',': 1, 'contribut': 1, '56': 1, '%': 1, 'revenu': 1, '.': 1}, \"This was AAPL's\": {'thi': 1, 'wa': 1, 'aapl': 1, \"'s\": 1, 'fastest-grow': 1, 'segment': 1, 'past': 1, 'coupl': 1, 'year': 1, ',': 3, 'expect': 1, 'rate': 1, 'growth': 1, 'slow': 1, 'busi': 1, 'becom': 1, 'larger': 1, 'matur': 1, 'still': 1, 'see': 1, 'substanti': 1, 'opportun': 1, 'relat': 1, 'intern': 1, 'enterpris': 1, 'educ': 1, 'market': 1, '.': 1}, 'We note the fal': {'note': 1, 'fall': 1, '2015': 1, 'introduct': 1, 'next': 1, 'gener': 1, 'iphon': 2, '6s': 2, 'plu': 1, 'devic': 1, '.': 1}, 'Released in Apr': {'releas': 1, 'april': 1, '2010': 1, ',': 1, 'ipad': 1, 'quickli': 1, 'becam': 1, 'best-sel': 1, 'tablet': 1, 'comput': 1, 'far': 1, '.': 1}, 'Before the iPad': {'befor': 1, 'ipad': 1, ',': 2, 'unit': 2, 'sale': 1, 'similar': 1, 'comput': 1, 'devic': 1, 'less': 1, '200,000': 1, 'accord': 1, 'market': 1, 'research': 1, '.': 1}, 'In FY 10, the f': {'fy': 1, '10': 1, ',': 3, 'first': 1, 'year': 1, 'avail': 1, 'aapl': 1, 'sold': 1, '7': 1, 'million': 1, 'ipad': 1, 'account': 1, 'around': 1, '8': 1, '%': 1, 'total': 1, 'revenu': 1, '.': 1}, 'In FY 15, about': {'fy': 1, '15': 1, ',': 2, '55': 1, 'million': 2, 'ipad': 1, 'sold': 1, '(': 2, '10': 1, '%': 2, 'sale': 2, ')': 2, 'show': 1, 'declin': 1, '68': 1, 'unit': 1, 'ship': 1, '17': 1, 'previou': 1, 'fiscal': 1, 'year': 1, '.': 1}, 'We believe the ': {'believ': 1, 'tablet': 1, 'form': 1, 'factor': 1, 'remain': 1, 'popular': 1, 'launch': 1, 'next': 1, 'gener': 1, 'devic': 1, ',': 1, 'see': 1, 'new': 1, 'entrant': 1, 'dilut': 1, 'aapl': 1, \"'s\": 1, 'overal': 1, 'market': 1, 'share': 1, 'time': 1, '.': 1}, 'Nonetheless, we': {'nonetheless': 1, ',': 1, 'expect': 1, 'aapl': 1, 'continu': 1, 'domin': 1, 'upper': 1, 'part': 1, 'thi': 1, 'fastgrow': 1, 'comput': 1, 'market': 1, '.': 1}, \"Sales of AAPL's\": {'sale': 1, 'aapl': 1, \"'s\": 1, 'comput': 1, ',': 2, 'commonli': 1, 'known': 1, 'mac': 1, 'made': 1, '11': 1, '%': 2, 'revenu': 1, 'fy': 2, '15': 1, 'compar': 1, '13': 1, '14': 1, '.': 1}, 'On a unit shipm': {'unit': 1, 'shipment': 1, 'basi': 1, ',': 1, 'mac': 1, 'grown': 1, 'notabl': 1, 'faster': 1, 'wa': 1, 'report': 1, 'pc': 1, 'industri': 1, '.': 1}, 'Revenue from Se': {'revenu': 1, 'servic': 1, 'hardwar': 1, 'product': 1, 'compris': 1, '13': 1, '%': 1, 'sale': 1, 'fy': 1, '15': 1, '.': 1}, 'This includes r': {'thi': 1, 'includ': 1, 'revenu': 1, 'itun': 1, 'store': 4, ',': 5, 'app': 2, 'mac': 1, 'ibook': 1, 'applecar': 1, 'licens': 1, 'servic': 1, '.': 1}, 'It also include': {'also': 1, 'includ': 1, 'sale': 1, 'appl': 2, 'tv': 1, ',': 3, 'watch': 1, 'beat': 1, 'product': 1, 'ipod': 1, 'apple-brand': 1, 'third-parti': 1, 'accessori': 1}}\n",
            "\n",
            "\n",
            "\n",
            "tf_matrix:\n",
            "\n",
            "{'Apple Inc. is o': {'appl': 0.06666666666666667, 'inc.': 0.03333333333333333, 'one': 0.03333333333333333, 'world': 0.03333333333333333, '’': 0.1, 'largest': 0.03333333333333333, 'maker': 0.03333333333333333, 'pc': 0.03333333333333333, 'peripher': 0.03333333333333333, 'consum': 0.06666666666666667, 'product': 0.03333333333333333, ',': 0.3, 'ipod': 0.03333333333333333, 'digit': 0.03333333333333333, 'music': 0.03333333333333333, 'player': 0.03333333333333333, 'ipad': 0.03333333333333333, 'tablet': 0.03333333333333333, 'iphon': 0.03333333333333333, 'smartphon': 0.03333333333333333, '‘': 0.06666666666666667, 'watch': 0.03333333333333333, 'sale': 0.03333333333333333, 'primarili': 0.03333333333333333, 'busi': 0.03333333333333333, 'creativ': 0.03333333333333333, 'educ': 0.03333333333333333, 'govern': 0.03333333333333333, 'market': 0.03333333333333333, '.': 0.03333333333333333}, 'It also sells o': {'also': 0.08333333333333333, 'sell': 0.08333333333333333, 'oper': 0.08333333333333333, 'system': 0.08333333333333333, ',': 0.3333333333333333, 'util': 0.08333333333333333, 'languag': 0.08333333333333333, 'develop': 0.08333333333333333, 'tool': 0.08333333333333333, 'databas': 0.08333333333333333, 'softwar': 0.08333333333333333, '.': 0.08333333333333333}, \"AAPL's iPhone d\": {'aapl': 0.0625, \"'s\": 0.0625, 'iphon': 0.0625, 'directli': 0.0625, 'account': 0.0625, '66': 0.0625, '%': 0.0625, 'fy': 0.0625, '15': 0.0625, 'revenu': 0.0625, ',': 0.0625, '230': 0.0625, 'million': 0.0625, 'unit': 0.0625, 'sold': 0.0625, '.': 0.0625}, 'AAPL sold\\nover ': {'aapl': 0.07692307692307693, 'sold': 0.07692307692307693, '169': 0.07692307692307693, 'million': 0.07692307692307693, 'iphon': 0.07692307692307693, 'fy': 0.07692307692307693, '14': 0.07692307692307693, ',': 0.07692307692307693, 'contribut': 0.07692307692307693, '56': 0.07692307692307693, '%': 0.07692307692307693, 'revenu': 0.07692307692307693, '.': 0.07692307692307693}, \"This was AAPL's\": {'thi': 0.03571428571428571, 'wa': 0.03571428571428571, 'aapl': 0.03571428571428571, \"'s\": 0.03571428571428571, 'fastest-grow': 0.03571428571428571, 'segment': 0.03571428571428571, 'past': 0.03571428571428571, 'coupl': 0.03571428571428571, 'year': 0.03571428571428571, ',': 0.10714285714285714, 'expect': 0.03571428571428571, 'rate': 0.03571428571428571, 'growth': 0.03571428571428571, 'slow': 0.03571428571428571, 'busi': 0.03571428571428571, 'becom': 0.03571428571428571, 'larger': 0.03571428571428571, 'matur': 0.03571428571428571, 'still': 0.03571428571428571, 'see': 0.03571428571428571, 'substanti': 0.03571428571428571, 'opportun': 0.03571428571428571, 'relat': 0.03571428571428571, 'intern': 0.03571428571428571, 'enterpris': 0.03571428571428571, 'educ': 0.03571428571428571, 'market': 0.03571428571428571, '.': 0.03571428571428571}, 'We note the fal': {'note': 0.09090909090909091, 'fall': 0.09090909090909091, '2015': 0.09090909090909091, 'introduct': 0.09090909090909091, 'next': 0.09090909090909091, 'gener': 0.09090909090909091, 'iphon': 0.18181818181818182, '6s': 0.18181818181818182, 'plu': 0.09090909090909091, 'devic': 0.09090909090909091, '.': 0.09090909090909091}, 'Released in Apr': {'releas': 0.08333333333333333, 'april': 0.08333333333333333, '2010': 0.08333333333333333, ',': 0.08333333333333333, 'ipad': 0.08333333333333333, 'quickli': 0.08333333333333333, 'becam': 0.08333333333333333, 'best-sel': 0.08333333333333333, 'tablet': 0.08333333333333333, 'comput': 0.08333333333333333, 'far': 0.08333333333333333, '.': 0.08333333333333333}, 'Before the iPad': {'befor': 0.07142857142857142, 'ipad': 0.07142857142857142, ',': 0.14285714285714285, 'unit': 0.14285714285714285, 'sale': 0.07142857142857142, 'similar': 0.07142857142857142, 'comput': 0.07142857142857142, 'devic': 0.07142857142857142, 'less': 0.07142857142857142, '200,000': 0.07142857142857142, 'accord': 0.07142857142857142, 'market': 0.07142857142857142, 'research': 0.07142857142857142, '.': 0.07142857142857142}, 'In FY 10, the f': {'fy': 0.05555555555555555, '10': 0.05555555555555555, ',': 0.16666666666666666, 'first': 0.05555555555555555, 'year': 0.05555555555555555, 'avail': 0.05555555555555555, 'aapl': 0.05555555555555555, 'sold': 0.05555555555555555, '7': 0.05555555555555555, 'million': 0.05555555555555555, 'ipad': 0.05555555555555555, 'account': 0.05555555555555555, 'around': 0.05555555555555555, '8': 0.05555555555555555, '%': 0.05555555555555555, 'total': 0.05555555555555555, 'revenu': 0.05555555555555555, '.': 0.05555555555555555}, 'In FY 15, about': {'fy': 0.045454545454545456, '15': 0.045454545454545456, ',': 0.09090909090909091, '55': 0.045454545454545456, 'million': 0.09090909090909091, 'ipad': 0.045454545454545456, 'sold': 0.045454545454545456, '(': 0.09090909090909091, '10': 0.045454545454545456, '%': 0.09090909090909091, 'sale': 0.09090909090909091, ')': 0.09090909090909091, 'show': 0.045454545454545456, 'declin': 0.045454545454545456, '68': 0.045454545454545456, 'unit': 0.045454545454545456, 'ship': 0.045454545454545456, '17': 0.045454545454545456, 'previou': 0.045454545454545456, 'fiscal': 0.045454545454545456, 'year': 0.045454545454545456, '.': 0.045454545454545456}, 'We believe the ': {'believ': 0.045454545454545456, 'tablet': 0.045454545454545456, 'form': 0.045454545454545456, 'factor': 0.045454545454545456, 'remain': 0.045454545454545456, 'popular': 0.045454545454545456, 'launch': 0.045454545454545456, 'next': 0.045454545454545456, 'gener': 0.045454545454545456, 'devic': 0.045454545454545456, ',': 0.045454545454545456, 'see': 0.045454545454545456, 'new': 0.045454545454545456, 'entrant': 0.045454545454545456, 'dilut': 0.045454545454545456, 'aapl': 0.045454545454545456, \"'s\": 0.045454545454545456, 'overal': 0.045454545454545456, 'market': 0.045454545454545456, 'share': 0.045454545454545456, 'time': 0.045454545454545456, '.': 0.045454545454545456}, 'Nonetheless, we': {'nonetheless': 0.07692307692307693, ',': 0.07692307692307693, 'expect': 0.07692307692307693, 'aapl': 0.07692307692307693, 'continu': 0.07692307692307693, 'domin': 0.07692307692307693, 'upper': 0.07692307692307693, 'part': 0.07692307692307693, 'thi': 0.07692307692307693, 'fastgrow': 0.07692307692307693, 'comput': 0.07692307692307693, 'market': 0.07692307692307693, '.': 0.07692307692307693}, \"Sales of AAPL's\": {'sale': 0.05555555555555555, 'aapl': 0.05555555555555555, \"'s\": 0.05555555555555555, 'comput': 0.05555555555555555, ',': 0.1111111111111111, 'commonli': 0.05555555555555555, 'known': 0.05555555555555555, 'mac': 0.05555555555555555, 'made': 0.05555555555555555, '11': 0.05555555555555555, '%': 0.1111111111111111, 'revenu': 0.05555555555555555, 'fy': 0.1111111111111111, '15': 0.05555555555555555, 'compar': 0.05555555555555555, '13': 0.05555555555555555, '14': 0.05555555555555555, '.': 0.05555555555555555}, 'On a unit shipm': {'unit': 0.07692307692307693, 'shipment': 0.07692307692307693, 'basi': 0.07692307692307693, ',': 0.07692307692307693, 'mac': 0.07692307692307693, 'grown': 0.07692307692307693, 'notabl': 0.07692307692307693, 'faster': 0.07692307692307693, 'wa': 0.07692307692307693, 'report': 0.07692307692307693, 'pc': 0.07692307692307693, 'industri': 0.07692307692307693, '.': 0.07692307692307693}, 'Revenue from Se': {'revenu': 0.09090909090909091, 'servic': 0.09090909090909091, 'hardwar': 0.09090909090909091, 'product': 0.09090909090909091, 'compris': 0.09090909090909091, '13': 0.09090909090909091, '%': 0.09090909090909091, 'sale': 0.09090909090909091, 'fy': 0.09090909090909091, '15': 0.09090909090909091, '.': 0.09090909090909091}, 'This includes r': {'thi': 0.07692307692307693, 'includ': 0.07692307692307693, 'revenu': 0.07692307692307693, 'itun': 0.07692307692307693, 'store': 0.3076923076923077, ',': 0.38461538461538464, 'app': 0.15384615384615385, 'mac': 0.07692307692307693, 'ibook': 0.07692307692307693, 'applecar': 0.07692307692307693, 'licens': 0.07692307692307693, 'servic': 0.07692307692307693, '.': 0.07692307692307693}, 'It also include': {'also': 0.07692307692307693, 'includ': 0.07692307692307693, 'sale': 0.07692307692307693, 'appl': 0.15384615384615385, 'tv': 0.07692307692307693, ',': 0.23076923076923078, 'watch': 0.07692307692307693, 'beat': 0.07692307692307693, 'product': 0.07692307692307693, 'ipod': 0.07692307692307693, 'apple-brand': 0.07692307692307693, 'third-parti': 0.07692307692307693, 'accessori': 0.07692307692307693}}\n",
            "\n",
            "\n",
            "\n",
            "count_doc_per_words:\n",
            "\n",
            "{'appl': 2, 'inc.': 1, 'one': 1, 'world': 1, '’': 1, 'largest': 1, 'maker': 1, 'pc': 2, 'peripher': 1, 'consum': 1, 'product': 3, ',': 15, 'ipod': 2, 'digit': 1, 'music': 1, 'player': 1, 'ipad': 5, 'tablet': 3, 'iphon': 4, 'smartphon': 1, '‘': 1, 'watch': 2, 'sale': 6, 'primarili': 1, 'busi': 2, 'creativ': 1, 'educ': 2, 'govern': 1, 'market': 5, '.': 16, 'also': 2, 'sell': 1, 'oper': 1, 'system': 1, 'util': 1, 'languag': 1, 'develop': 1, 'tool': 1, 'databas': 1, 'softwar': 1, 'aapl': 7, \"'s\": 4, 'directli': 1, 'account': 2, '66': 1, '%': 6, 'fy': 6, '15': 4, 'revenu': 6, '230': 1, 'million': 4, 'unit': 4, 'sold': 4, '169': 1, '14': 2, 'contribut': 1, '56': 1, 'thi': 3, 'wa': 2, 'fastest-grow': 1, 'segment': 1, 'past': 1, 'coupl': 1, 'year': 3, 'expect': 2, 'rate': 1, 'growth': 1, 'slow': 1, 'becom': 1, 'larger': 1, 'matur': 1, 'still': 1, 'see': 2, 'substanti': 1, 'opportun': 1, 'relat': 1, 'intern': 1, 'enterpris': 1, 'note': 1, 'fall': 1, '2015': 1, 'introduct': 1, 'next': 2, 'gener': 2, '6s': 1, 'plu': 1, 'devic': 3, 'releas': 1, 'april': 1, '2010': 1, 'quickli': 1, 'becam': 1, 'best-sel': 1, 'comput': 4, 'far': 1, 'befor': 1, 'similar': 1, 'less': 1, '200,000': 1, 'accord': 1, 'research': 1, '10': 2, 'first': 1, 'avail': 1, '7': 1, 'around': 1, '8': 1, 'total': 1, '55': 1, '(': 1, ')': 1, 'show': 1, 'declin': 1, '68': 1, 'ship': 1, '17': 1, 'previou': 1, 'fiscal': 1, 'believ': 1, 'form': 1, 'factor': 1, 'remain': 1, 'popular': 1, 'launch': 1, 'new': 1, 'entrant': 1, 'dilut': 1, 'overal': 1, 'share': 1, 'time': 1, 'nonetheless': 1, 'continu': 1, 'domin': 1, 'upper': 1, 'part': 1, 'fastgrow': 1, 'commonli': 1, 'known': 1, 'mac': 3, 'made': 1, '11': 1, 'compar': 1, '13': 2, 'shipment': 1, 'basi': 1, 'grown': 1, 'notabl': 1, 'faster': 1, 'report': 1, 'industri': 1, 'servic': 2, 'hardwar': 1, 'compris': 1, 'includ': 2, 'itun': 1, 'store': 1, 'app': 1, 'ibook': 1, 'applecar': 1, 'licens': 1, 'tv': 1, 'beat': 1, 'apple-brand': 1, 'third-parti': 1, 'accessori': 1}\n",
            "\n",
            "\n",
            "\n",
            "idf_matrix:\n",
            "\n",
            "{'Apple Inc. is o': {'appl': 0.9294189257142927, 'inc.': 1.2304489213782739, 'one': 1.2304489213782739, 'world': 1.2304489213782739, '’': 1.2304489213782739, 'largest': 1.2304489213782739, 'maker': 1.2304489213782739, 'pc': 0.9294189257142927, 'peripher': 1.2304489213782739, 'consum': 1.2304489213782739, 'product': 0.7533276666586115, ',': 0.054357662322592676, 'ipod': 0.9294189257142927, 'digit': 1.2304489213782739, 'music': 1.2304489213782739, 'player': 1.2304489213782739, 'ipad': 0.5314789170422551, 'tablet': 0.7533276666586115, 'iphon': 0.6283889300503115, 'smartphon': 1.2304489213782739, '‘': 1.2304489213782739, 'watch': 0.9294189257142927, 'sale': 0.4522976709946303, 'primarili': 1.2304489213782739, 'busi': 0.9294189257142927, 'creativ': 1.2304489213782739, 'educ': 0.9294189257142927, 'govern': 1.2304489213782739, 'market': 0.5314789170422551, '.': 0.026328938722349145}, 'It also sells o': {'also': 0.9294189257142927, 'sell': 1.2304489213782739, 'oper': 1.2304489213782739, 'system': 1.2304489213782739, ',': 0.054357662322592676, 'util': 1.2304489213782739, 'languag': 1.2304489213782739, 'develop': 1.2304489213782739, 'tool': 1.2304489213782739, 'databas': 1.2304489213782739, 'softwar': 1.2304489213782739, '.': 0.026328938722349145}, \"AAPL's iPhone d\": {'aapl': 0.3853508813640171, \"'s\": 0.6283889300503115, 'iphon': 0.6283889300503115, 'directli': 1.2304489213782739, 'account': 0.9294189257142927, '66': 1.2304489213782739, '%': 0.4522976709946303, 'fy': 0.4522976709946303, '15': 0.6283889300503115, 'revenu': 0.4522976709946303, ',': 0.054357662322592676, '230': 1.2304489213782739, 'million': 0.6283889300503115, 'unit': 0.6283889300503115, 'sold': 0.6283889300503115, '.': 0.026328938722349145}, 'AAPL sold\\nover ': {'aapl': 0.3853508813640171, 'sold': 0.6283889300503115, '169': 1.2304489213782739, 'million': 0.6283889300503115, 'iphon': 0.6283889300503115, 'fy': 0.4522976709946303, '14': 0.9294189257142927, ',': 0.054357662322592676, 'contribut': 1.2304489213782739, '56': 1.2304489213782739, '%': 0.4522976709946303, 'revenu': 0.4522976709946303, '.': 0.026328938722349145}, \"This was AAPL's\": {'thi': 0.7533276666586115, 'wa': 0.9294189257142927, 'aapl': 0.3853508813640171, \"'s\": 0.6283889300503115, 'fastest-grow': 1.2304489213782739, 'segment': 1.2304489213782739, 'past': 1.2304489213782739, 'coupl': 1.2304489213782739, 'year': 0.7533276666586115, ',': 0.054357662322592676, 'expect': 0.9294189257142927, 'rate': 1.2304489213782739, 'growth': 1.2304489213782739, 'slow': 1.2304489213782739, 'busi': 0.9294189257142927, 'becom': 1.2304489213782739, 'larger': 1.2304489213782739, 'matur': 1.2304489213782739, 'still': 1.2304489213782739, 'see': 0.9294189257142927, 'substanti': 1.2304489213782739, 'opportun': 1.2304489213782739, 'relat': 1.2304489213782739, 'intern': 1.2304489213782739, 'enterpris': 1.2304489213782739, 'educ': 0.9294189257142927, 'market': 0.5314789170422551, '.': 0.026328938722349145}, 'We note the fal': {'note': 1.2304489213782739, 'fall': 1.2304489213782739, '2015': 1.2304489213782739, 'introduct': 1.2304489213782739, 'next': 0.9294189257142927, 'gener': 0.9294189257142927, 'iphon': 0.6283889300503115, '6s': 1.2304489213782739, 'plu': 1.2304489213782739, 'devic': 0.7533276666586115, '.': 0.026328938722349145}, 'Released in Apr': {'releas': 1.2304489213782739, 'april': 1.2304489213782739, '2010': 1.2304489213782739, ',': 0.054357662322592676, 'ipad': 0.5314789170422551, 'quickli': 1.2304489213782739, 'becam': 1.2304489213782739, 'best-sel': 1.2304489213782739, 'tablet': 0.7533276666586115, 'comput': 0.6283889300503115, 'far': 1.2304489213782739, '.': 0.026328938722349145}, 'Before the iPad': {'befor': 1.2304489213782739, 'ipad': 0.5314789170422551, ',': 0.054357662322592676, 'unit': 0.6283889300503115, 'sale': 0.4522976709946303, 'similar': 1.2304489213782739, 'comput': 0.6283889300503115, 'devic': 0.7533276666586115, 'less': 1.2304489213782739, '200,000': 1.2304489213782739, 'accord': 1.2304489213782739, 'market': 0.5314789170422551, 'research': 1.2304489213782739, '.': 0.026328938722349145}, 'In FY 10, the f': {'fy': 0.4522976709946303, '10': 0.9294189257142927, ',': 0.054357662322592676, 'first': 1.2304489213782739, 'year': 0.7533276666586115, 'avail': 1.2304489213782739, 'aapl': 0.3853508813640171, 'sold': 0.6283889300503115, '7': 1.2304489213782739, 'million': 0.6283889300503115, 'ipad': 0.5314789170422551, 'account': 0.9294189257142927, 'around': 1.2304489213782739, '8': 1.2304489213782739, '%': 0.4522976709946303, 'total': 1.2304489213782739, 'revenu': 0.4522976709946303, '.': 0.026328938722349145}, 'In FY 15, about': {'fy': 0.4522976709946303, '15': 0.6283889300503115, ',': 0.054357662322592676, '55': 1.2304489213782739, 'million': 0.6283889300503115, 'ipad': 0.5314789170422551, 'sold': 0.6283889300503115, '(': 1.2304489213782739, '10': 0.9294189257142927, '%': 0.4522976709946303, 'sale': 0.4522976709946303, ')': 1.2304489213782739, 'show': 1.2304489213782739, 'declin': 1.2304489213782739, '68': 1.2304489213782739, 'unit': 0.6283889300503115, 'ship': 1.2304489213782739, '17': 1.2304489213782739, 'previou': 1.2304489213782739, 'fiscal': 1.2304489213782739, 'year': 0.7533276666586115, '.': 0.026328938722349145}, 'We believe the ': {'believ': 1.2304489213782739, 'tablet': 0.7533276666586115, 'form': 1.2304489213782739, 'factor': 1.2304489213782739, 'remain': 1.2304489213782739, 'popular': 1.2304489213782739, 'launch': 1.2304489213782739, 'next': 0.9294189257142927, 'gener': 0.9294189257142927, 'devic': 0.7533276666586115, ',': 0.054357662322592676, 'see': 0.9294189257142927, 'new': 1.2304489213782739, 'entrant': 1.2304489213782739, 'dilut': 1.2304489213782739, 'aapl': 0.3853508813640171, \"'s\": 0.6283889300503115, 'overal': 1.2304489213782739, 'market': 0.5314789170422551, 'share': 1.2304489213782739, 'time': 1.2304489213782739, '.': 0.026328938722349145}, 'Nonetheless, we': {'nonetheless': 1.2304489213782739, ',': 0.054357662322592676, 'expect': 0.9294189257142927, 'aapl': 0.3853508813640171, 'continu': 1.2304489213782739, 'domin': 1.2304489213782739, 'upper': 1.2304489213782739, 'part': 1.2304489213782739, 'thi': 0.7533276666586115, 'fastgrow': 1.2304489213782739, 'comput': 0.6283889300503115, 'market': 0.5314789170422551, '.': 0.026328938722349145}, \"Sales of AAPL's\": {'sale': 0.4522976709946303, 'aapl': 0.3853508813640171, \"'s\": 0.6283889300503115, 'comput': 0.6283889300503115, ',': 0.054357662322592676, 'commonli': 1.2304489213782739, 'known': 1.2304489213782739, 'mac': 0.7533276666586115, 'made': 1.2304489213782739, '11': 1.2304489213782739, '%': 0.4522976709946303, 'revenu': 0.4522976709946303, 'fy': 0.4522976709946303, '15': 0.6283889300503115, 'compar': 1.2304489213782739, '13': 0.9294189257142927, '14': 0.9294189257142927, '.': 0.026328938722349145}, 'On a unit shipm': {'unit': 0.6283889300503115, 'shipment': 1.2304489213782739, 'basi': 1.2304489213782739, ',': 0.054357662322592676, 'mac': 0.7533276666586115, 'grown': 1.2304489213782739, 'notabl': 1.2304489213782739, 'faster': 1.2304489213782739, 'wa': 0.9294189257142927, 'report': 1.2304489213782739, 'pc': 0.9294189257142927, 'industri': 1.2304489213782739, '.': 0.026328938722349145}, 'Revenue from Se': {'revenu': 0.4522976709946303, 'servic': 0.9294189257142927, 'hardwar': 1.2304489213782739, 'product': 0.7533276666586115, 'compris': 1.2304489213782739, '13': 0.9294189257142927, '%': 0.4522976709946303, 'sale': 0.4522976709946303, 'fy': 0.4522976709946303, '15': 0.6283889300503115, '.': 0.026328938722349145}, 'This includes r': {'thi': 0.7533276666586115, 'includ': 0.9294189257142927, 'revenu': 0.4522976709946303, 'itun': 1.2304489213782739, 'store': 1.2304489213782739, ',': 0.054357662322592676, 'app': 1.2304489213782739, 'mac': 0.7533276666586115, 'ibook': 1.2304489213782739, 'applecar': 1.2304489213782739, 'licens': 1.2304489213782739, 'servic': 0.9294189257142927, '.': 0.026328938722349145}, 'It also include': {'also': 0.9294189257142927, 'includ': 0.9294189257142927, 'sale': 0.4522976709946303, 'appl': 0.9294189257142927, 'tv': 1.2304489213782739, ',': 0.054357662322592676, 'watch': 0.9294189257142927, 'beat': 1.2304489213782739, 'product': 0.7533276666586115, 'ipod': 0.9294189257142927, 'apple-brand': 1.2304489213782739, 'third-parti': 1.2304489213782739, 'accessori': 1.2304489213782739}}\n",
            "\n",
            "\n",
            "\n",
            "tf_idf_matrix:\n",
            "\n",
            "{'Apple Inc. is o': {'appl': 0.06196126171428618, 'inc.': 0.04101496404594246, 'one': 0.04101496404594246, 'world': 0.04101496404594246, '’': 0.12304489213782739, 'largest': 0.04101496404594246, 'maker': 0.04101496404594246, 'pc': 0.03098063085714309, 'peripher': 0.04101496404594246, 'consum': 0.08202992809188492, 'product': 0.025110922221953717, ',': 0.016307298696777803, 'ipod': 0.03098063085714309, 'digit': 0.04101496404594246, 'music': 0.04101496404594246, 'player': 0.04101496404594246, 'ipad': 0.017715963901408505, 'tablet': 0.025110922221953717, 'iphon': 0.020946297668343716, 'smartphon': 0.04101496404594246, '‘': 0.08202992809188492, 'watch': 0.03098063085714309, 'sale': 0.015076589033154343, 'primarili': 0.04101496404594246, 'busi': 0.03098063085714309, 'creativ': 0.04101496404594246, 'educ': 0.03098063085714309, 'govern': 0.04101496404594246, 'market': 0.017715963901408505, '.': 0.0008776312907449715}, 'It also sells o': {'also': 0.07745157714285772, 'sell': 0.10253741011485615, 'oper': 0.10253741011485615, 'system': 0.10253741011485615, ',': 0.01811922077419756, 'util': 0.10253741011485615, 'languag': 0.10253741011485615, 'develop': 0.10253741011485615, 'tool': 0.10253741011485615, 'databas': 0.10253741011485615, 'softwar': 0.10253741011485615, '.': 0.0021940782268624285}, \"AAPL's iPhone d\": {'aapl': 0.024084430085251067, \"'s\": 0.03927430812814447, 'iphon': 0.03927430812814447, 'directli': 0.07690305758614212, 'account': 0.058088682857143296, '66': 0.07690305758614212, '%': 0.028268604437164394, 'fy': 0.028268604437164394, '15': 0.03927430812814447, 'revenu': 0.028268604437164394, ',': 0.0033973538951620422, '230': 0.07690305758614212, 'million': 0.03927430812814447, 'unit': 0.03927430812814447, 'sold': 0.03927430812814447, '.': 0.0016455586701468216}, 'AAPL sold\\nover ': {'aapl': 0.029642375489539775, 'sold': 0.048337610003870116, '169': 0.094649917029098, 'million': 0.048337610003870116, 'iphon': 0.048337610003870116, 'fy': 0.034792128538048486, '14': 0.07149376351648407, ',': 0.0041813586401994365, 'contribut': 0.094649917029098, '56': 0.094649917029098, '%': 0.034792128538048486, 'revenu': 0.034792128538048486, '.': 0.002025302978642242}, \"This was AAPL's\": {'thi': 0.02690455952352184, 'wa': 0.03319353306122474, 'aapl': 0.013762531477286323, \"'s\": 0.022442461787511123, 'fastest-grow': 0.04394460433493835, 'segment': 0.04394460433493835, 'past': 0.04394460433493835, 'coupl': 0.04394460433493835, 'year': 0.02690455952352184, ',': 0.005824035248849215, 'expect': 0.03319353306122474, 'rate': 0.04394460433493835, 'growth': 0.04394460433493835, 'slow': 0.04394460433493835, 'busi': 0.03319353306122474, 'becom': 0.04394460433493835, 'larger': 0.04394460433493835, 'matur': 0.04394460433493835, 'still': 0.04394460433493835, 'see': 0.03319353306122474, 'substanti': 0.04394460433493835, 'opportun': 0.04394460433493835, 'relat': 0.04394460433493835, 'intern': 0.04394460433493835, 'enterpris': 0.04394460433493835, 'educ': 0.03319353306122474, 'market': 0.018981389894366252, '.': 0.000940319240083898}, 'We note the fal': {'note': 0.11185899285257035, 'fall': 0.11185899285257035, '2015': 0.11185899285257035, 'introduct': 0.11185899285257035, 'next': 0.08449262961039025, 'gener': 0.08449262961039025, 'iphon': 0.11425253273642028, '6s': 0.2237179857051407, 'plu': 0.11185899285257035, 'devic': 0.06848433333260105, '.': 0.0023935398838499226}, 'Released in Apr': {'releas': 0.10253741011485615, 'april': 0.10253741011485615, '2010': 0.10253741011485615, ',': 0.00452980519354939, 'ipad': 0.04428990975352126, 'quickli': 0.10253741011485615, 'becam': 0.10253741011485615, 'best-sel': 0.10253741011485615, 'tablet': 0.06277730555488428, 'comput': 0.05236574417085929, 'far': 0.10253741011485615, '.': 0.0021940782268624285}, 'Before the iPad': {'befor': 0.0878892086698767, 'ipad': 0.037962779788732505, ',': 0.0077653803317989534, 'unit': 0.08976984715004449, 'sale': 0.03230697649961645, 'similar': 0.0878892086698767, 'comput': 0.044884923575022245, 'devic': 0.05380911904704368, 'less': 0.0878892086698767, '200,000': 0.0878892086698767, 'accord': 0.0878892086698767, 'market': 0.037962779788732505, 'research': 0.0878892086698767, '.': 0.001880638480167796}, 'In FY 10, the f': {'fy': 0.025127648388590572, '10': 0.05163438476190515, ',': 0.00905961038709878, 'first': 0.06835827340990411, 'year': 0.041851537036589524, 'avail': 0.06835827340990411, 'aapl': 0.021408382298000947, 'sold': 0.03491049611390619, '7': 0.06835827340990411, 'million': 0.03491049611390619, 'ipad': 0.029526606502347508, 'account': 0.05163438476190515, 'around': 0.06835827340990411, '8': 0.06835827340990411, '%': 0.025127648388590572, 'total': 0.06835827340990411, 'revenu': 0.025127648388590572, '.': 0.0014627188179082858}, 'In FY 15, about': {'fy': 0.02055898504521047, '15': 0.02856313318410507, ',': 0.004941605665690243, '55': 0.055929496426285176, 'million': 0.05712626636821014, 'ipad': 0.02415813259282978, 'sold': 0.02856313318410507, '(': 0.11185899285257035, '10': 0.042246314805195126, '%': 0.04111797009042094, 'sale': 0.04111797009042094, ')': 0.11185899285257035, 'show': 0.055929496426285176, 'declin': 0.055929496426285176, '68': 0.055929496426285176, 'unit': 0.02856313318410507, 'ship': 0.055929496426285176, '17': 0.055929496426285176, 'previou': 0.055929496426285176, 'fiscal': 0.055929496426285176, 'year': 0.034242166666300526, '.': 0.0011967699419249613}, 'We believe the ': {'believ': 0.055929496426285176, 'tablet': 0.034242166666300526, 'form': 0.055929496426285176, 'factor': 0.055929496426285176, 'remain': 0.055929496426285176, 'popular': 0.055929496426285176, 'launch': 0.055929496426285176, 'next': 0.042246314805195126, 'gener': 0.042246314805195126, 'devic': 0.034242166666300526, ',': 0.0024708028328451217, 'see': 0.042246314805195126, 'new': 0.055929496426285176, 'entrant': 0.055929496426285176, 'dilut': 0.055929496426285176, 'aapl': 0.017515949152909868, \"'s\": 0.02856313318410507, 'overal': 0.055929496426285176, 'market': 0.02415813259282978, 'share': 0.055929496426285176, 'time': 0.055929496426285176, '.': 0.0011967699419249613}, 'Nonetheless, we': {'nonetheless': 0.094649917029098, ',': 0.0041813586401994365, 'expect': 0.07149376351648407, 'aapl': 0.029642375489539775, 'continu': 0.094649917029098, 'domin': 0.094649917029098, 'upper': 0.094649917029098, 'part': 0.094649917029098, 'thi': 0.05794828205066243, 'fastgrow': 0.094649917029098, 'comput': 0.048337610003870116, 'market': 0.04088299361863501, '.': 0.002025302978642242}, \"Sales of AAPL's\": {'sale': 0.025127648388590572, 'aapl': 0.021408382298000947, \"'s\": 0.03491049611390619, 'comput': 0.03491049611390619, ',': 0.006039740258065853, 'commonli': 0.06835827340990411, 'known': 0.06835827340990411, 'mac': 0.041851537036589524, 'made': 0.06835827340990411, '11': 0.06835827340990411, '%': 0.050255296777181144, 'revenu': 0.025127648388590572, 'fy': 0.050255296777181144, '15': 0.03491049611390619, 'compar': 0.06835827340990411, '13': 0.05163438476190515, '14': 0.05163438476190515, '.': 0.0014627188179082858}, 'On a unit shipm': {'unit': 0.048337610003870116, 'shipment': 0.094649917029098, 'basi': 0.094649917029098, ',': 0.0041813586401994365, 'mac': 0.05794828205066243, 'grown': 0.094649917029098, 'notabl': 0.094649917029098, 'faster': 0.094649917029098, 'wa': 0.07149376351648407, 'report': 0.094649917029098, 'pc': 0.07149376351648407, 'industri': 0.094649917029098, '.': 0.002025302978642242}, 'Revenue from Se': {'revenu': 0.04111797009042094, 'servic': 0.08449262961039025, 'hardwar': 0.11185899285257035, 'product': 0.06848433333260105, 'compris': 0.11185899285257035, '13': 0.08449262961039025, '%': 0.04111797009042094, 'sale': 0.04111797009042094, 'fy': 0.04111797009042094, '15': 0.05712626636821014, '.': 0.0023935398838499226}, 'This includes r': {'thi': 0.05794828205066243, 'includ': 0.07149376351648407, 'revenu': 0.034792128538048486, 'itun': 0.094649917029098, 'store': 0.378599668116392, ',': 0.020906793200997184, 'app': 0.189299834058196, 'mac': 0.05794828205066243, 'ibook': 0.094649917029098, 'applecar': 0.094649917029098, 'licens': 0.094649917029098, 'servic': 0.07149376351648407, '.': 0.002025302978642242}, 'It also include': {'also': 0.07149376351648407, 'includ': 0.07149376351648407, 'sale': 0.034792128538048486, 'appl': 0.14298752703296813, 'tv': 0.094649917029098, ',': 0.012544075920598311, 'watch': 0.07149376351648407, 'beat': 0.094649917029098, 'product': 0.05794828205066243, 'ipod': 0.07149376351648407, 'apple-brand': 0.094649917029098, 'third-parti': 0.094649917029098, 'accessori': 0.094649917029098}}\n",
            "\n",
            "\n",
            "\n",
            "sentence_scores:\n",
            "\n",
            "{'Apple Inc. is o': 0.0392008428618199, 'It also sells o': 0.08505013059813527, \"AAPL's iPhone d\": 0.0398985537716556, 'AAPL sold\\nover ': 0.049283212872147326, \"This was AAPL's\": 0.035172899691438476, 'We note the fal': 0.10337532864924039, 'Released in Apr': 0.07365989280863915, 'Before the iPad': 0.05954840690574421, 'In FY 10, the f': 0.042329511245486895, 'In FY 15, about': 0.0465249789969973, 'We believe the ': 0.04274009193491925, 'Nonetheless, we': 0.06326239911327854, \"Sales of AAPL's\": 0.04285110520317541, 'On a unit shipm': 0.07061765383923294, 'Revenue from Se': 0.06228902407929692, 'This includes r': 0.0971621143186893, 'It also include': 0.07749974251951565}\n",
            "\n",
            "\n",
            "\n",
            "threshold:\n",
            "\n",
            "0.06061564055349485\n",
            "\n",
            "\n",
            "\n",
            "It also sells operatingsystems, utilities, languages, developer tools, and database software. We note the fall 2015 introductions of the next generation iPhone 6sand the iPhone 6s Plus devices. Released in April 2010, the iPad quickly became the best-selling tablet computer by far. Nonetheless, we expect AAPL to continue to dominate in the upper part of this fastgrowing computing market. On a unit shipment basis, Macs had grown notably fasterthan what was reported for the PC industry. Revenue from Services and other hardware productscomprised for about 13% of sales in FY 15. This includes revenue from the iTunes Store, the App Store,the Mac App Store, the iBooks Store, AppleCare, licensing and other services. It also includes sales ofApple TV, Apple Watch, Beats products, iPod and Apple-branded and third-party accessories\n"
          ],
          "name": "stdout"
        }
      ]
    },
    {
      "cell_type": "code",
      "metadata": {
        "id": "_yb0C3uSgonA",
        "outputId": "ee2b5e95-54c6-44f1-a214-bc8bb52a5637",
        "colab": {
          "base_uri": "https://localhost:8080/",
          "height": 411
        }
      },
      "source": [
        "import docx\n",
        "from docx  import Document\n",
        "# doc = Document(\"/content/Data.docx\")\n",
        "\n",
        "def readtxt(filename):\n",
        "    doc = Document(filename)\n",
        "    fullText = []\n",
        "    for para in doc.paragraphs:\n",
        "        fullText.append(para.text)\n",
        "    return '\\n'.join(fullText)\n",
        "\n",
        "textfromdoc = readtxt('/content/Data.docx')\n",
        "print(textfromdoc)"
      ],
      "execution_count": null,
      "outputs": [
        {
          "output_type": "stream",
          "text": [
            "Apple Inc. is one of the world’s largest makers of PCs and peripheral and consumer products, such as the\n",
            "iPod digital music player, the iPad tablet, the iPhone smartphone, and the ‘‘Apple Watch,’’ for sale\n",
            "primarily to the business, creative, education, government, and consumer markets. It also sells operating\n",
            "systems, utilities, languages, developer tools, and database software.\n",
            "AAPL's iPhone directly accounted for 66% of FY 15 revenues, with over 230 million units sold. AAPL sold\n",
            "over 169 million iPhones in FY 14, contributing 56% of revenues. This was AAPL's fastest-growing\n",
            "segment over the past couple of years, and while we expect the rate of growth to slow as the business\n",
            "becomes larger and more mature, we still see substantial opportunities related to international,\n",
            "enterprise and education markets. We note the fall 2015 introductions of the next generation iPhone 6s\n",
            "and the iPhone 6s Plus devices.\n",
            "Released in April 2010, the iPad quickly became the best-selling tablet computer by far. Before the iPad,\n",
            "unit sales for similar computing devices were less than 200,000 units, according to market researchers.\n",
            "In FY 10, the first year of availability, AAPL sold over 7 million iPads, accounting for around 8% of total\n",
            "revenues. In FY 15, about 55 million iPads were sold (10% of sales), but showed a decline from the 68\n",
            "million units shipped (17% of sales) the previous fiscal year. We believe the tablet form factor will remain\n",
            "popular as it launches next generation devices, but we see new entrants diluting AAPL's overall market\n",
            "share over time. Nonetheless, we expect AAPL to continue to dominate in the upper part of this fastgrowing computing market. Sales of AAPL's computers, commonly known as Macs, made up 11% of\n",
            "revenues in FY 15 compared to 13% in FY 14. On a unit shipment basis, Macs had grown notably faster\n",
            "than what was reported for the PC industry. Revenue from Services and other hardware products\n",
            "comprised for about 13% of sales in FY 15. This includes revenue from the iTunes Store, the App Store,\n",
            "the Mac App Store, the iBooks Store, AppleCare, licensing and other services. It also includes sales of\n",
            "Apple TV, Apple Watch, Beats products, iPod and Apple-branded and third-party accessories.\n"
          ],
          "name": "stdout"
        }
      ]
    },
    {
      "cell_type": "code",
      "metadata": {
        "id": "4WIMQzT9kXxE",
        "outputId": "f9dba3b3-fd2c-4132-8ab4-c2e4b59d3254",
        "colab": {
          "base_uri": "https://localhost:8080/",
          "height": 887
        }
      },
      "source": [
        "filedocsummary=run_summarization(textfromdoc)\n",
        "print(filedocsummary.replace(\"\\n\",\"\"))"
      ],
      "execution_count": null,
      "outputs": [
        {
          "output_type": "stream",
          "text": [
            "<class 'list'>\n",
            "sentences:\n",
            "\n",
            "['Apple Inc. is one of the world’s largest makers of PCs and peripheral and consumer products, such as the\\niPod digital music player, the iPad tablet, the iPhone smartphone, and the ‘‘Apple Watch,’’ for sale\\nprimarily to the business, creative, education, government, and consumer markets.', 'It also sells operating\\nsystems, utilities, languages, developer tools, and database software.', \"AAPL's iPhone directly accounted for 66% of FY 15 revenues, with over 230 million units sold.\", 'AAPL sold\\nover 169 million iPhones in FY 14, contributing 56% of revenues.', \"This was AAPL's fastest-growing\\nsegment over the past couple of years, and while we expect the rate of growth to slow as the business\\nbecomes larger and more mature, we still see substantial opportunities related to international,\\nenterprise and education markets.\", 'We note the fall 2015 introductions of the next generation iPhone 6s\\nand the iPhone 6s Plus devices.', 'Released in April 2010, the iPad quickly became the best-selling tablet computer by far.', 'Before the iPad,\\nunit sales for similar computing devices were less than 200,000 units, according to market researchers.', 'In FY 10, the first year of availability, AAPL sold over 7 million iPads, accounting for around 8% of total\\nrevenues.', 'In FY 15, about 55 million iPads were sold (10% of sales), but showed a decline from the 68\\nmillion units shipped (17% of sales) the previous fiscal year.', \"We believe the tablet form factor will remain\\npopular as it launches next generation devices, but we see new entrants diluting AAPL's overall market\\nshare over time.\", 'Nonetheless, we expect AAPL to continue to dominate in the upper part of this fastgrowing computing market.', \"Sales of AAPL's computers, commonly known as Macs, made up 11% of\\nrevenues in FY 15 compared to 13% in FY 14.\", 'On a unit shipment basis, Macs had grown notably faster\\nthan what was reported for the PC industry.', 'Revenue from Services and other hardware products\\ncomprised for about 13% of sales in FY 15.', 'This includes revenue from the iTunes Store, the App Store,\\nthe Mac App Store, the iBooks Store, AppleCare, licensing and other services.', 'It also includes sales of\\nApple TV, Apple Watch, Beats products, iPod and Apple-branded and third-party accessories.']\n",
            "\n",
            "\n",
            "\n",
            "freq_matrix:\n",
            "\n",
            "{'Apple Inc. is o': {'appl': 2, 'inc.': 1, 'one': 1, 'world': 1, '’': 3, 'largest': 1, 'maker': 1, 'pc': 1, 'peripher': 1, 'consum': 2, 'product': 1, ',': 9, 'ipod': 1, 'digit': 1, 'music': 1, 'player': 1, 'ipad': 1, 'tablet': 1, 'iphon': 1, 'smartphon': 1, '‘': 2, 'watch': 1, 'sale': 1, 'primarili': 1, 'busi': 1, 'creativ': 1, 'educ': 1, 'govern': 1, 'market': 1, '.': 1}, 'It also sells o': {'also': 1, 'sell': 1, 'oper': 1, 'system': 1, ',': 4, 'util': 1, 'languag': 1, 'develop': 1, 'tool': 1, 'databas': 1, 'softwar': 1, '.': 1}, \"AAPL's iPhone d\": {'aapl': 1, \"'s\": 1, 'iphon': 1, 'directli': 1, 'account': 1, '66': 1, '%': 1, 'fy': 1, '15': 1, 'revenu': 1, ',': 1, '230': 1, 'million': 1, 'unit': 1, 'sold': 1, '.': 1}, 'AAPL sold\\nover ': {'aapl': 1, 'sold': 1, '169': 1, 'million': 1, 'iphon': 1, 'fy': 1, '14': 1, ',': 1, 'contribut': 1, '56': 1, '%': 1, 'revenu': 1, '.': 1}, \"This was AAPL's\": {'thi': 1, 'wa': 1, 'aapl': 1, \"'s\": 1, 'fastest-grow': 1, 'segment': 1, 'past': 1, 'coupl': 1, 'year': 1, ',': 3, 'expect': 1, 'rate': 1, 'growth': 1, 'slow': 1, 'busi': 1, 'becom': 1, 'larger': 1, 'matur': 1, 'still': 1, 'see': 1, 'substanti': 1, 'opportun': 1, 'relat': 1, 'intern': 1, 'enterpris': 1, 'educ': 1, 'market': 1, '.': 1}, 'We note the fal': {'note': 1, 'fall': 1, '2015': 1, 'introduct': 1, 'next': 1, 'gener': 1, 'iphon': 2, '6s': 2, 'plu': 1, 'devic': 1, '.': 1}, 'Released in Apr': {'releas': 1, 'april': 1, '2010': 1, ',': 1, 'ipad': 1, 'quickli': 1, 'becam': 1, 'best-sel': 1, 'tablet': 1, 'comput': 1, 'far': 1, '.': 1}, 'Before the iPad': {'befor': 1, 'ipad': 1, ',': 2, 'unit': 2, 'sale': 1, 'similar': 1, 'comput': 1, 'devic': 1, 'less': 1, '200,000': 1, 'accord': 1, 'market': 1, 'research': 1, '.': 1}, 'In FY 10, the f': {'fy': 1, '10': 1, ',': 3, 'first': 1, 'year': 1, 'avail': 1, 'aapl': 1, 'sold': 1, '7': 1, 'million': 1, 'ipad': 1, 'account': 1, 'around': 1, '8': 1, '%': 1, 'total': 1, 'revenu': 1, '.': 1}, 'In FY 15, about': {'fy': 1, '15': 1, ',': 2, '55': 1, 'million': 2, 'ipad': 1, 'sold': 1, '(': 2, '10': 1, '%': 2, 'sale': 2, ')': 2, 'show': 1, 'declin': 1, '68': 1, 'unit': 1, 'ship': 1, '17': 1, 'previou': 1, 'fiscal': 1, 'year': 1, '.': 1}, 'We believe the ': {'believ': 1, 'tablet': 1, 'form': 1, 'factor': 1, 'remain': 1, 'popular': 1, 'launch': 1, 'next': 1, 'gener': 1, 'devic': 1, ',': 1, 'see': 1, 'new': 1, 'entrant': 1, 'dilut': 1, 'aapl': 1, \"'s\": 1, 'overal': 1, 'market': 1, 'share': 1, 'time': 1, '.': 1}, 'Nonetheless, we': {'nonetheless': 1, ',': 1, 'expect': 1, 'aapl': 1, 'continu': 1, 'domin': 1, 'upper': 1, 'part': 1, 'thi': 1, 'fastgrow': 1, 'comput': 1, 'market': 1, '.': 1}, \"Sales of AAPL's\": {'sale': 1, 'aapl': 1, \"'s\": 1, 'comput': 1, ',': 2, 'commonli': 1, 'known': 1, 'mac': 1, 'made': 1, '11': 1, '%': 2, 'revenu': 1, 'fy': 2, '15': 1, 'compar': 1, '13': 1, '14': 1, '.': 1}, 'On a unit shipm': {'unit': 1, 'shipment': 1, 'basi': 1, ',': 1, 'mac': 1, 'grown': 1, 'notabl': 1, 'faster': 1, 'wa': 1, 'report': 1, 'pc': 1, 'industri': 1, '.': 1}, 'Revenue from Se': {'revenu': 1, 'servic': 1, 'hardwar': 1, 'product': 1, 'compris': 1, '13': 1, '%': 1, 'sale': 1, 'fy': 1, '15': 1, '.': 1}, 'This includes r': {'thi': 1, 'includ': 1, 'revenu': 1, 'itun': 1, 'store': 4, ',': 5, 'app': 2, 'mac': 1, 'ibook': 1, 'applecar': 1, 'licens': 1, 'servic': 1, '.': 1}, 'It also include': {'also': 1, 'includ': 1, 'sale': 1, 'appl': 2, 'tv': 1, ',': 3, 'watch': 1, 'beat': 1, 'product': 1, 'ipod': 1, 'apple-brand': 1, 'third-parti': 1, 'accessori': 1, '.': 1}}\n",
            "\n",
            "\n",
            "\n",
            "tf_matrix:\n",
            "\n",
            "{'Apple Inc. is o': {'appl': 0.06666666666666667, 'inc.': 0.03333333333333333, 'one': 0.03333333333333333, 'world': 0.03333333333333333, '’': 0.1, 'largest': 0.03333333333333333, 'maker': 0.03333333333333333, 'pc': 0.03333333333333333, 'peripher': 0.03333333333333333, 'consum': 0.06666666666666667, 'product': 0.03333333333333333, ',': 0.3, 'ipod': 0.03333333333333333, 'digit': 0.03333333333333333, 'music': 0.03333333333333333, 'player': 0.03333333333333333, 'ipad': 0.03333333333333333, 'tablet': 0.03333333333333333, 'iphon': 0.03333333333333333, 'smartphon': 0.03333333333333333, '‘': 0.06666666666666667, 'watch': 0.03333333333333333, 'sale': 0.03333333333333333, 'primarili': 0.03333333333333333, 'busi': 0.03333333333333333, 'creativ': 0.03333333333333333, 'educ': 0.03333333333333333, 'govern': 0.03333333333333333, 'market': 0.03333333333333333, '.': 0.03333333333333333}, 'It also sells o': {'also': 0.08333333333333333, 'sell': 0.08333333333333333, 'oper': 0.08333333333333333, 'system': 0.08333333333333333, ',': 0.3333333333333333, 'util': 0.08333333333333333, 'languag': 0.08333333333333333, 'develop': 0.08333333333333333, 'tool': 0.08333333333333333, 'databas': 0.08333333333333333, 'softwar': 0.08333333333333333, '.': 0.08333333333333333}, \"AAPL's iPhone d\": {'aapl': 0.0625, \"'s\": 0.0625, 'iphon': 0.0625, 'directli': 0.0625, 'account': 0.0625, '66': 0.0625, '%': 0.0625, 'fy': 0.0625, '15': 0.0625, 'revenu': 0.0625, ',': 0.0625, '230': 0.0625, 'million': 0.0625, 'unit': 0.0625, 'sold': 0.0625, '.': 0.0625}, 'AAPL sold\\nover ': {'aapl': 0.07692307692307693, 'sold': 0.07692307692307693, '169': 0.07692307692307693, 'million': 0.07692307692307693, 'iphon': 0.07692307692307693, 'fy': 0.07692307692307693, '14': 0.07692307692307693, ',': 0.07692307692307693, 'contribut': 0.07692307692307693, '56': 0.07692307692307693, '%': 0.07692307692307693, 'revenu': 0.07692307692307693, '.': 0.07692307692307693}, \"This was AAPL's\": {'thi': 0.03571428571428571, 'wa': 0.03571428571428571, 'aapl': 0.03571428571428571, \"'s\": 0.03571428571428571, 'fastest-grow': 0.03571428571428571, 'segment': 0.03571428571428571, 'past': 0.03571428571428571, 'coupl': 0.03571428571428571, 'year': 0.03571428571428571, ',': 0.10714285714285714, 'expect': 0.03571428571428571, 'rate': 0.03571428571428571, 'growth': 0.03571428571428571, 'slow': 0.03571428571428571, 'busi': 0.03571428571428571, 'becom': 0.03571428571428571, 'larger': 0.03571428571428571, 'matur': 0.03571428571428571, 'still': 0.03571428571428571, 'see': 0.03571428571428571, 'substanti': 0.03571428571428571, 'opportun': 0.03571428571428571, 'relat': 0.03571428571428571, 'intern': 0.03571428571428571, 'enterpris': 0.03571428571428571, 'educ': 0.03571428571428571, 'market': 0.03571428571428571, '.': 0.03571428571428571}, 'We note the fal': {'note': 0.09090909090909091, 'fall': 0.09090909090909091, '2015': 0.09090909090909091, 'introduct': 0.09090909090909091, 'next': 0.09090909090909091, 'gener': 0.09090909090909091, 'iphon': 0.18181818181818182, '6s': 0.18181818181818182, 'plu': 0.09090909090909091, 'devic': 0.09090909090909091, '.': 0.09090909090909091}, 'Released in Apr': {'releas': 0.08333333333333333, 'april': 0.08333333333333333, '2010': 0.08333333333333333, ',': 0.08333333333333333, 'ipad': 0.08333333333333333, 'quickli': 0.08333333333333333, 'becam': 0.08333333333333333, 'best-sel': 0.08333333333333333, 'tablet': 0.08333333333333333, 'comput': 0.08333333333333333, 'far': 0.08333333333333333, '.': 0.08333333333333333}, 'Before the iPad': {'befor': 0.07142857142857142, 'ipad': 0.07142857142857142, ',': 0.14285714285714285, 'unit': 0.14285714285714285, 'sale': 0.07142857142857142, 'similar': 0.07142857142857142, 'comput': 0.07142857142857142, 'devic': 0.07142857142857142, 'less': 0.07142857142857142, '200,000': 0.07142857142857142, 'accord': 0.07142857142857142, 'market': 0.07142857142857142, 'research': 0.07142857142857142, '.': 0.07142857142857142}, 'In FY 10, the f': {'fy': 0.05555555555555555, '10': 0.05555555555555555, ',': 0.16666666666666666, 'first': 0.05555555555555555, 'year': 0.05555555555555555, 'avail': 0.05555555555555555, 'aapl': 0.05555555555555555, 'sold': 0.05555555555555555, '7': 0.05555555555555555, 'million': 0.05555555555555555, 'ipad': 0.05555555555555555, 'account': 0.05555555555555555, 'around': 0.05555555555555555, '8': 0.05555555555555555, '%': 0.05555555555555555, 'total': 0.05555555555555555, 'revenu': 0.05555555555555555, '.': 0.05555555555555555}, 'In FY 15, about': {'fy': 0.045454545454545456, '15': 0.045454545454545456, ',': 0.09090909090909091, '55': 0.045454545454545456, 'million': 0.09090909090909091, 'ipad': 0.045454545454545456, 'sold': 0.045454545454545456, '(': 0.09090909090909091, '10': 0.045454545454545456, '%': 0.09090909090909091, 'sale': 0.09090909090909091, ')': 0.09090909090909091, 'show': 0.045454545454545456, 'declin': 0.045454545454545456, '68': 0.045454545454545456, 'unit': 0.045454545454545456, 'ship': 0.045454545454545456, '17': 0.045454545454545456, 'previou': 0.045454545454545456, 'fiscal': 0.045454545454545456, 'year': 0.045454545454545456, '.': 0.045454545454545456}, 'We believe the ': {'believ': 0.045454545454545456, 'tablet': 0.045454545454545456, 'form': 0.045454545454545456, 'factor': 0.045454545454545456, 'remain': 0.045454545454545456, 'popular': 0.045454545454545456, 'launch': 0.045454545454545456, 'next': 0.045454545454545456, 'gener': 0.045454545454545456, 'devic': 0.045454545454545456, ',': 0.045454545454545456, 'see': 0.045454545454545456, 'new': 0.045454545454545456, 'entrant': 0.045454545454545456, 'dilut': 0.045454545454545456, 'aapl': 0.045454545454545456, \"'s\": 0.045454545454545456, 'overal': 0.045454545454545456, 'market': 0.045454545454545456, 'share': 0.045454545454545456, 'time': 0.045454545454545456, '.': 0.045454545454545456}, 'Nonetheless, we': {'nonetheless': 0.07692307692307693, ',': 0.07692307692307693, 'expect': 0.07692307692307693, 'aapl': 0.07692307692307693, 'continu': 0.07692307692307693, 'domin': 0.07692307692307693, 'upper': 0.07692307692307693, 'part': 0.07692307692307693, 'thi': 0.07692307692307693, 'fastgrow': 0.07692307692307693, 'comput': 0.07692307692307693, 'market': 0.07692307692307693, '.': 0.07692307692307693}, \"Sales of AAPL's\": {'sale': 0.05555555555555555, 'aapl': 0.05555555555555555, \"'s\": 0.05555555555555555, 'comput': 0.05555555555555555, ',': 0.1111111111111111, 'commonli': 0.05555555555555555, 'known': 0.05555555555555555, 'mac': 0.05555555555555555, 'made': 0.05555555555555555, '11': 0.05555555555555555, '%': 0.1111111111111111, 'revenu': 0.05555555555555555, 'fy': 0.1111111111111111, '15': 0.05555555555555555, 'compar': 0.05555555555555555, '13': 0.05555555555555555, '14': 0.05555555555555555, '.': 0.05555555555555555}, 'On a unit shipm': {'unit': 0.07692307692307693, 'shipment': 0.07692307692307693, 'basi': 0.07692307692307693, ',': 0.07692307692307693, 'mac': 0.07692307692307693, 'grown': 0.07692307692307693, 'notabl': 0.07692307692307693, 'faster': 0.07692307692307693, 'wa': 0.07692307692307693, 'report': 0.07692307692307693, 'pc': 0.07692307692307693, 'industri': 0.07692307692307693, '.': 0.07692307692307693}, 'Revenue from Se': {'revenu': 0.09090909090909091, 'servic': 0.09090909090909091, 'hardwar': 0.09090909090909091, 'product': 0.09090909090909091, 'compris': 0.09090909090909091, '13': 0.09090909090909091, '%': 0.09090909090909091, 'sale': 0.09090909090909091, 'fy': 0.09090909090909091, '15': 0.09090909090909091, '.': 0.09090909090909091}, 'This includes r': {'thi': 0.07692307692307693, 'includ': 0.07692307692307693, 'revenu': 0.07692307692307693, 'itun': 0.07692307692307693, 'store': 0.3076923076923077, ',': 0.38461538461538464, 'app': 0.15384615384615385, 'mac': 0.07692307692307693, 'ibook': 0.07692307692307693, 'applecar': 0.07692307692307693, 'licens': 0.07692307692307693, 'servic': 0.07692307692307693, '.': 0.07692307692307693}, 'It also include': {'also': 0.07142857142857142, 'includ': 0.07142857142857142, 'sale': 0.07142857142857142, 'appl': 0.14285714285714285, 'tv': 0.07142857142857142, ',': 0.21428571428571427, 'watch': 0.07142857142857142, 'beat': 0.07142857142857142, 'product': 0.07142857142857142, 'ipod': 0.07142857142857142, 'apple-brand': 0.07142857142857142, 'third-parti': 0.07142857142857142, 'accessori': 0.07142857142857142, '.': 0.07142857142857142}}\n",
            "\n",
            "\n",
            "\n",
            "count_doc_per_words:\n",
            "\n",
            "{'appl': 2, 'inc.': 1, 'one': 1, 'world': 1, '’': 1, 'largest': 1, 'maker': 1, 'pc': 2, 'peripher': 1, 'consum': 1, 'product': 3, ',': 15, 'ipod': 2, 'digit': 1, 'music': 1, 'player': 1, 'ipad': 5, 'tablet': 3, 'iphon': 4, 'smartphon': 1, '‘': 1, 'watch': 2, 'sale': 6, 'primarili': 1, 'busi': 2, 'creativ': 1, 'educ': 2, 'govern': 1, 'market': 5, '.': 17, 'also': 2, 'sell': 1, 'oper': 1, 'system': 1, 'util': 1, 'languag': 1, 'develop': 1, 'tool': 1, 'databas': 1, 'softwar': 1, 'aapl': 7, \"'s\": 4, 'directli': 1, 'account': 2, '66': 1, '%': 6, 'fy': 6, '15': 4, 'revenu': 6, '230': 1, 'million': 4, 'unit': 4, 'sold': 4, '169': 1, '14': 2, 'contribut': 1, '56': 1, 'thi': 3, 'wa': 2, 'fastest-grow': 1, 'segment': 1, 'past': 1, 'coupl': 1, 'year': 3, 'expect': 2, 'rate': 1, 'growth': 1, 'slow': 1, 'becom': 1, 'larger': 1, 'matur': 1, 'still': 1, 'see': 2, 'substanti': 1, 'opportun': 1, 'relat': 1, 'intern': 1, 'enterpris': 1, 'note': 1, 'fall': 1, '2015': 1, 'introduct': 1, 'next': 2, 'gener': 2, '6s': 1, 'plu': 1, 'devic': 3, 'releas': 1, 'april': 1, '2010': 1, 'quickli': 1, 'becam': 1, 'best-sel': 1, 'comput': 4, 'far': 1, 'befor': 1, 'similar': 1, 'less': 1, '200,000': 1, 'accord': 1, 'research': 1, '10': 2, 'first': 1, 'avail': 1, '7': 1, 'around': 1, '8': 1, 'total': 1, '55': 1, '(': 1, ')': 1, 'show': 1, 'declin': 1, '68': 1, 'ship': 1, '17': 1, 'previou': 1, 'fiscal': 1, 'believ': 1, 'form': 1, 'factor': 1, 'remain': 1, 'popular': 1, 'launch': 1, 'new': 1, 'entrant': 1, 'dilut': 1, 'overal': 1, 'share': 1, 'time': 1, 'nonetheless': 1, 'continu': 1, 'domin': 1, 'upper': 1, 'part': 1, 'fastgrow': 1, 'commonli': 1, 'known': 1, 'mac': 3, 'made': 1, '11': 1, 'compar': 1, '13': 2, 'shipment': 1, 'basi': 1, 'grown': 1, 'notabl': 1, 'faster': 1, 'report': 1, 'industri': 1, 'servic': 2, 'hardwar': 1, 'compris': 1, 'includ': 2, 'itun': 1, 'store': 1, 'app': 1, 'ibook': 1, 'applecar': 1, 'licens': 1, 'tv': 1, 'beat': 1, 'apple-brand': 1, 'third-parti': 1, 'accessori': 1}\n",
            "\n",
            "\n",
            "\n",
            "idf_matrix:\n",
            "\n",
            "{'Apple Inc. is o': {'appl': 0.9294189257142927, 'inc.': 1.2304489213782739, 'one': 1.2304489213782739, 'world': 1.2304489213782739, '’': 1.2304489213782739, 'largest': 1.2304489213782739, 'maker': 1.2304489213782739, 'pc': 0.9294189257142927, 'peripher': 1.2304489213782739, 'consum': 1.2304489213782739, 'product': 0.7533276666586115, ',': 0.054357662322592676, 'ipod': 0.9294189257142927, 'digit': 1.2304489213782739, 'music': 1.2304489213782739, 'player': 1.2304489213782739, 'ipad': 0.5314789170422551, 'tablet': 0.7533276666586115, 'iphon': 0.6283889300503115, 'smartphon': 1.2304489213782739, '‘': 1.2304489213782739, 'watch': 0.9294189257142927, 'sale': 0.4522976709946303, 'primarili': 1.2304489213782739, 'busi': 0.9294189257142927, 'creativ': 1.2304489213782739, 'educ': 0.9294189257142927, 'govern': 1.2304489213782739, 'market': 0.5314789170422551, '.': 0.0}, 'It also sells o': {'also': 0.9294189257142927, 'sell': 1.2304489213782739, 'oper': 1.2304489213782739, 'system': 1.2304489213782739, ',': 0.054357662322592676, 'util': 1.2304489213782739, 'languag': 1.2304489213782739, 'develop': 1.2304489213782739, 'tool': 1.2304489213782739, 'databas': 1.2304489213782739, 'softwar': 1.2304489213782739, '.': 0.0}, \"AAPL's iPhone d\": {'aapl': 0.3853508813640171, \"'s\": 0.6283889300503115, 'iphon': 0.6283889300503115, 'directli': 1.2304489213782739, 'account': 0.9294189257142927, '66': 1.2304489213782739, '%': 0.4522976709946303, 'fy': 0.4522976709946303, '15': 0.6283889300503115, 'revenu': 0.4522976709946303, ',': 0.054357662322592676, '230': 1.2304489213782739, 'million': 0.6283889300503115, 'unit': 0.6283889300503115, 'sold': 0.6283889300503115, '.': 0.0}, 'AAPL sold\\nover ': {'aapl': 0.3853508813640171, 'sold': 0.6283889300503115, '169': 1.2304489213782739, 'million': 0.6283889300503115, 'iphon': 0.6283889300503115, 'fy': 0.4522976709946303, '14': 0.9294189257142927, ',': 0.054357662322592676, 'contribut': 1.2304489213782739, '56': 1.2304489213782739, '%': 0.4522976709946303, 'revenu': 0.4522976709946303, '.': 0.0}, \"This was AAPL's\": {'thi': 0.7533276666586115, 'wa': 0.9294189257142927, 'aapl': 0.3853508813640171, \"'s\": 0.6283889300503115, 'fastest-grow': 1.2304489213782739, 'segment': 1.2304489213782739, 'past': 1.2304489213782739, 'coupl': 1.2304489213782739, 'year': 0.7533276666586115, ',': 0.054357662322592676, 'expect': 0.9294189257142927, 'rate': 1.2304489213782739, 'growth': 1.2304489213782739, 'slow': 1.2304489213782739, 'busi': 0.9294189257142927, 'becom': 1.2304489213782739, 'larger': 1.2304489213782739, 'matur': 1.2304489213782739, 'still': 1.2304489213782739, 'see': 0.9294189257142927, 'substanti': 1.2304489213782739, 'opportun': 1.2304489213782739, 'relat': 1.2304489213782739, 'intern': 1.2304489213782739, 'enterpris': 1.2304489213782739, 'educ': 0.9294189257142927, 'market': 0.5314789170422551, '.': 0.0}, 'We note the fal': {'note': 1.2304489213782739, 'fall': 1.2304489213782739, '2015': 1.2304489213782739, 'introduct': 1.2304489213782739, 'next': 0.9294189257142927, 'gener': 0.9294189257142927, 'iphon': 0.6283889300503115, '6s': 1.2304489213782739, 'plu': 1.2304489213782739, 'devic': 0.7533276666586115, '.': 0.0}, 'Released in Apr': {'releas': 1.2304489213782739, 'april': 1.2304489213782739, '2010': 1.2304489213782739, ',': 0.054357662322592676, 'ipad': 0.5314789170422551, 'quickli': 1.2304489213782739, 'becam': 1.2304489213782739, 'best-sel': 1.2304489213782739, 'tablet': 0.7533276666586115, 'comput': 0.6283889300503115, 'far': 1.2304489213782739, '.': 0.0}, 'Before the iPad': {'befor': 1.2304489213782739, 'ipad': 0.5314789170422551, ',': 0.054357662322592676, 'unit': 0.6283889300503115, 'sale': 0.4522976709946303, 'similar': 1.2304489213782739, 'comput': 0.6283889300503115, 'devic': 0.7533276666586115, 'less': 1.2304489213782739, '200,000': 1.2304489213782739, 'accord': 1.2304489213782739, 'market': 0.5314789170422551, 'research': 1.2304489213782739, '.': 0.0}, 'In FY 10, the f': {'fy': 0.4522976709946303, '10': 0.9294189257142927, ',': 0.054357662322592676, 'first': 1.2304489213782739, 'year': 0.7533276666586115, 'avail': 1.2304489213782739, 'aapl': 0.3853508813640171, 'sold': 0.6283889300503115, '7': 1.2304489213782739, 'million': 0.6283889300503115, 'ipad': 0.5314789170422551, 'account': 0.9294189257142927, 'around': 1.2304489213782739, '8': 1.2304489213782739, '%': 0.4522976709946303, 'total': 1.2304489213782739, 'revenu': 0.4522976709946303, '.': 0.0}, 'In FY 15, about': {'fy': 0.4522976709946303, '15': 0.6283889300503115, ',': 0.054357662322592676, '55': 1.2304489213782739, 'million': 0.6283889300503115, 'ipad': 0.5314789170422551, 'sold': 0.6283889300503115, '(': 1.2304489213782739, '10': 0.9294189257142927, '%': 0.4522976709946303, 'sale': 0.4522976709946303, ')': 1.2304489213782739, 'show': 1.2304489213782739, 'declin': 1.2304489213782739, '68': 1.2304489213782739, 'unit': 0.6283889300503115, 'ship': 1.2304489213782739, '17': 1.2304489213782739, 'previou': 1.2304489213782739, 'fiscal': 1.2304489213782739, 'year': 0.7533276666586115, '.': 0.0}, 'We believe the ': {'believ': 1.2304489213782739, 'tablet': 0.7533276666586115, 'form': 1.2304489213782739, 'factor': 1.2304489213782739, 'remain': 1.2304489213782739, 'popular': 1.2304489213782739, 'launch': 1.2304489213782739, 'next': 0.9294189257142927, 'gener': 0.9294189257142927, 'devic': 0.7533276666586115, ',': 0.054357662322592676, 'see': 0.9294189257142927, 'new': 1.2304489213782739, 'entrant': 1.2304489213782739, 'dilut': 1.2304489213782739, 'aapl': 0.3853508813640171, \"'s\": 0.6283889300503115, 'overal': 1.2304489213782739, 'market': 0.5314789170422551, 'share': 1.2304489213782739, 'time': 1.2304489213782739, '.': 0.0}, 'Nonetheless, we': {'nonetheless': 1.2304489213782739, ',': 0.054357662322592676, 'expect': 0.9294189257142927, 'aapl': 0.3853508813640171, 'continu': 1.2304489213782739, 'domin': 1.2304489213782739, 'upper': 1.2304489213782739, 'part': 1.2304489213782739, 'thi': 0.7533276666586115, 'fastgrow': 1.2304489213782739, 'comput': 0.6283889300503115, 'market': 0.5314789170422551, '.': 0.0}, \"Sales of AAPL's\": {'sale': 0.4522976709946303, 'aapl': 0.3853508813640171, \"'s\": 0.6283889300503115, 'comput': 0.6283889300503115, ',': 0.054357662322592676, 'commonli': 1.2304489213782739, 'known': 1.2304489213782739, 'mac': 0.7533276666586115, 'made': 1.2304489213782739, '11': 1.2304489213782739, '%': 0.4522976709946303, 'revenu': 0.4522976709946303, 'fy': 0.4522976709946303, '15': 0.6283889300503115, 'compar': 1.2304489213782739, '13': 0.9294189257142927, '14': 0.9294189257142927, '.': 0.0}, 'On a unit shipm': {'unit': 0.6283889300503115, 'shipment': 1.2304489213782739, 'basi': 1.2304489213782739, ',': 0.054357662322592676, 'mac': 0.7533276666586115, 'grown': 1.2304489213782739, 'notabl': 1.2304489213782739, 'faster': 1.2304489213782739, 'wa': 0.9294189257142927, 'report': 1.2304489213782739, 'pc': 0.9294189257142927, 'industri': 1.2304489213782739, '.': 0.0}, 'Revenue from Se': {'revenu': 0.4522976709946303, 'servic': 0.9294189257142927, 'hardwar': 1.2304489213782739, 'product': 0.7533276666586115, 'compris': 1.2304489213782739, '13': 0.9294189257142927, '%': 0.4522976709946303, 'sale': 0.4522976709946303, 'fy': 0.4522976709946303, '15': 0.6283889300503115, '.': 0.0}, 'This includes r': {'thi': 0.7533276666586115, 'includ': 0.9294189257142927, 'revenu': 0.4522976709946303, 'itun': 1.2304489213782739, 'store': 1.2304489213782739, ',': 0.054357662322592676, 'app': 1.2304489213782739, 'mac': 0.7533276666586115, 'ibook': 1.2304489213782739, 'applecar': 1.2304489213782739, 'licens': 1.2304489213782739, 'servic': 0.9294189257142927, '.': 0.0}, 'It also include': {'also': 0.9294189257142927, 'includ': 0.9294189257142927, 'sale': 0.4522976709946303, 'appl': 0.9294189257142927, 'tv': 1.2304489213782739, ',': 0.054357662322592676, 'watch': 0.9294189257142927, 'beat': 1.2304489213782739, 'product': 0.7533276666586115, 'ipod': 0.9294189257142927, 'apple-brand': 1.2304489213782739, 'third-parti': 1.2304489213782739, 'accessori': 1.2304489213782739, '.': 0.0}}\n",
            "\n",
            "\n",
            "\n",
            "tf_idf_matrix:\n",
            "\n",
            "{'Apple Inc. is o': {'appl': 0.06196126171428618, 'inc.': 0.04101496404594246, 'one': 0.04101496404594246, 'world': 0.04101496404594246, '’': 0.12304489213782739, 'largest': 0.04101496404594246, 'maker': 0.04101496404594246, 'pc': 0.03098063085714309, 'peripher': 0.04101496404594246, 'consum': 0.08202992809188492, 'product': 0.025110922221953717, ',': 0.016307298696777803, 'ipod': 0.03098063085714309, 'digit': 0.04101496404594246, 'music': 0.04101496404594246, 'player': 0.04101496404594246, 'ipad': 0.017715963901408505, 'tablet': 0.025110922221953717, 'iphon': 0.020946297668343716, 'smartphon': 0.04101496404594246, '‘': 0.08202992809188492, 'watch': 0.03098063085714309, 'sale': 0.015076589033154343, 'primarili': 0.04101496404594246, 'busi': 0.03098063085714309, 'creativ': 0.04101496404594246, 'educ': 0.03098063085714309, 'govern': 0.04101496404594246, 'market': 0.017715963901408505, '.': 0.0}, 'It also sells o': {'also': 0.07745157714285772, 'sell': 0.10253741011485615, 'oper': 0.10253741011485615, 'system': 0.10253741011485615, ',': 0.01811922077419756, 'util': 0.10253741011485615, 'languag': 0.10253741011485615, 'develop': 0.10253741011485615, 'tool': 0.10253741011485615, 'databas': 0.10253741011485615, 'softwar': 0.10253741011485615, '.': 0.0}, \"AAPL's iPhone d\": {'aapl': 0.024084430085251067, \"'s\": 0.03927430812814447, 'iphon': 0.03927430812814447, 'directli': 0.07690305758614212, 'account': 0.058088682857143296, '66': 0.07690305758614212, '%': 0.028268604437164394, 'fy': 0.028268604437164394, '15': 0.03927430812814447, 'revenu': 0.028268604437164394, ',': 0.0033973538951620422, '230': 0.07690305758614212, 'million': 0.03927430812814447, 'unit': 0.03927430812814447, 'sold': 0.03927430812814447, '.': 0.0}, 'AAPL sold\\nover ': {'aapl': 0.029642375489539775, 'sold': 0.048337610003870116, '169': 0.094649917029098, 'million': 0.048337610003870116, 'iphon': 0.048337610003870116, 'fy': 0.034792128538048486, '14': 0.07149376351648407, ',': 0.0041813586401994365, 'contribut': 0.094649917029098, '56': 0.094649917029098, '%': 0.034792128538048486, 'revenu': 0.034792128538048486, '.': 0.0}, \"This was AAPL's\": {'thi': 0.02690455952352184, 'wa': 0.03319353306122474, 'aapl': 0.013762531477286323, \"'s\": 0.022442461787511123, 'fastest-grow': 0.04394460433493835, 'segment': 0.04394460433493835, 'past': 0.04394460433493835, 'coupl': 0.04394460433493835, 'year': 0.02690455952352184, ',': 0.005824035248849215, 'expect': 0.03319353306122474, 'rate': 0.04394460433493835, 'growth': 0.04394460433493835, 'slow': 0.04394460433493835, 'busi': 0.03319353306122474, 'becom': 0.04394460433493835, 'larger': 0.04394460433493835, 'matur': 0.04394460433493835, 'still': 0.04394460433493835, 'see': 0.03319353306122474, 'substanti': 0.04394460433493835, 'opportun': 0.04394460433493835, 'relat': 0.04394460433493835, 'intern': 0.04394460433493835, 'enterpris': 0.04394460433493835, 'educ': 0.03319353306122474, 'market': 0.018981389894366252, '.': 0.0}, 'We note the fal': {'note': 0.11185899285257035, 'fall': 0.11185899285257035, '2015': 0.11185899285257035, 'introduct': 0.11185899285257035, 'next': 0.08449262961039025, 'gener': 0.08449262961039025, 'iphon': 0.11425253273642028, '6s': 0.2237179857051407, 'plu': 0.11185899285257035, 'devic': 0.06848433333260105, '.': 0.0}, 'Released in Apr': {'releas': 0.10253741011485615, 'april': 0.10253741011485615, '2010': 0.10253741011485615, ',': 0.00452980519354939, 'ipad': 0.04428990975352126, 'quickli': 0.10253741011485615, 'becam': 0.10253741011485615, 'best-sel': 0.10253741011485615, 'tablet': 0.06277730555488428, 'comput': 0.05236574417085929, 'far': 0.10253741011485615, '.': 0.0}, 'Before the iPad': {'befor': 0.0878892086698767, 'ipad': 0.037962779788732505, ',': 0.0077653803317989534, 'unit': 0.08976984715004449, 'sale': 0.03230697649961645, 'similar': 0.0878892086698767, 'comput': 0.044884923575022245, 'devic': 0.05380911904704368, 'less': 0.0878892086698767, '200,000': 0.0878892086698767, 'accord': 0.0878892086698767, 'market': 0.037962779788732505, 'research': 0.0878892086698767, '.': 0.0}, 'In FY 10, the f': {'fy': 0.025127648388590572, '10': 0.05163438476190515, ',': 0.00905961038709878, 'first': 0.06835827340990411, 'year': 0.041851537036589524, 'avail': 0.06835827340990411, 'aapl': 0.021408382298000947, 'sold': 0.03491049611390619, '7': 0.06835827340990411, 'million': 0.03491049611390619, 'ipad': 0.029526606502347508, 'account': 0.05163438476190515, 'around': 0.06835827340990411, '8': 0.06835827340990411, '%': 0.025127648388590572, 'total': 0.06835827340990411, 'revenu': 0.025127648388590572, '.': 0.0}, 'In FY 15, about': {'fy': 0.02055898504521047, '15': 0.02856313318410507, ',': 0.004941605665690243, '55': 0.055929496426285176, 'million': 0.05712626636821014, 'ipad': 0.02415813259282978, 'sold': 0.02856313318410507, '(': 0.11185899285257035, '10': 0.042246314805195126, '%': 0.04111797009042094, 'sale': 0.04111797009042094, ')': 0.11185899285257035, 'show': 0.055929496426285176, 'declin': 0.055929496426285176, '68': 0.055929496426285176, 'unit': 0.02856313318410507, 'ship': 0.055929496426285176, '17': 0.055929496426285176, 'previou': 0.055929496426285176, 'fiscal': 0.055929496426285176, 'year': 0.034242166666300526, '.': 0.0}, 'We believe the ': {'believ': 0.055929496426285176, 'tablet': 0.034242166666300526, 'form': 0.055929496426285176, 'factor': 0.055929496426285176, 'remain': 0.055929496426285176, 'popular': 0.055929496426285176, 'launch': 0.055929496426285176, 'next': 0.042246314805195126, 'gener': 0.042246314805195126, 'devic': 0.034242166666300526, ',': 0.0024708028328451217, 'see': 0.042246314805195126, 'new': 0.055929496426285176, 'entrant': 0.055929496426285176, 'dilut': 0.055929496426285176, 'aapl': 0.017515949152909868, \"'s\": 0.02856313318410507, 'overal': 0.055929496426285176, 'market': 0.02415813259282978, 'share': 0.055929496426285176, 'time': 0.055929496426285176, '.': 0.0}, 'Nonetheless, we': {'nonetheless': 0.094649917029098, ',': 0.0041813586401994365, 'expect': 0.07149376351648407, 'aapl': 0.029642375489539775, 'continu': 0.094649917029098, 'domin': 0.094649917029098, 'upper': 0.094649917029098, 'part': 0.094649917029098, 'thi': 0.05794828205066243, 'fastgrow': 0.094649917029098, 'comput': 0.048337610003870116, 'market': 0.04088299361863501, '.': 0.0}, \"Sales of AAPL's\": {'sale': 0.025127648388590572, 'aapl': 0.021408382298000947, \"'s\": 0.03491049611390619, 'comput': 0.03491049611390619, ',': 0.006039740258065853, 'commonli': 0.06835827340990411, 'known': 0.06835827340990411, 'mac': 0.041851537036589524, 'made': 0.06835827340990411, '11': 0.06835827340990411, '%': 0.050255296777181144, 'revenu': 0.025127648388590572, 'fy': 0.050255296777181144, '15': 0.03491049611390619, 'compar': 0.06835827340990411, '13': 0.05163438476190515, '14': 0.05163438476190515, '.': 0.0}, 'On a unit shipm': {'unit': 0.048337610003870116, 'shipment': 0.094649917029098, 'basi': 0.094649917029098, ',': 0.0041813586401994365, 'mac': 0.05794828205066243, 'grown': 0.094649917029098, 'notabl': 0.094649917029098, 'faster': 0.094649917029098, 'wa': 0.07149376351648407, 'report': 0.094649917029098, 'pc': 0.07149376351648407, 'industri': 0.094649917029098, '.': 0.0}, 'Revenue from Se': {'revenu': 0.04111797009042094, 'servic': 0.08449262961039025, 'hardwar': 0.11185899285257035, 'product': 0.06848433333260105, 'compris': 0.11185899285257035, '13': 0.08449262961039025, '%': 0.04111797009042094, 'sale': 0.04111797009042094, 'fy': 0.04111797009042094, '15': 0.05712626636821014, '.': 0.0}, 'This includes r': {'thi': 0.05794828205066243, 'includ': 0.07149376351648407, 'revenu': 0.034792128538048486, 'itun': 0.094649917029098, 'store': 0.378599668116392, ',': 0.020906793200997184, 'app': 0.189299834058196, 'mac': 0.05794828205066243, 'ibook': 0.094649917029098, 'applecar': 0.094649917029098, 'licens': 0.094649917029098, 'servic': 0.07149376351648407, '.': 0.0}, 'It also include': {'also': 0.06638706612244948, 'includ': 0.06638706612244948, 'sale': 0.03230697649961645, 'appl': 0.13277413224489895, 'tv': 0.0878892086698767, ',': 0.01164807049769843, 'watch': 0.06638706612244948, 'beat': 0.0878892086698767, 'product': 0.05380911904704368, 'ipod': 0.06638706612244948, 'apple-brand': 0.0878892086698767, 'third-parti': 0.0878892086698767, 'accessori': 0.0878892086698767, '.': 0.0}}\n",
            "\n",
            "\n",
            "\n",
            "sentence_scores:\n",
            "\n",
            "{'Apple Inc. is o': 0.039171588485461734, 'It also sells o': 0.08486729074589673, \"AAPL's iPhone d\": 0.03979570635477142, 'AAPL sold\\nover ': 0.04912742033532869, \"This was AAPL's\": 0.035139316861435475, 'We note the fal': 0.10315773411434494, 'Released in Apr': 0.0734770529564006, 'Before the iPad': 0.059414075585732216, 'In FY 10, the f': 0.042248249088936436, 'In FY 15, about': 0.046470580363273443, 'We believe the ': 0.042685693301195385, 'Nonetheless, we': 0.0631066065764599, \"Sales of AAPL's\": 0.04276984304662495, 'On a unit shipm': 0.0704618613024143, 'Revenue from Se': 0.06207142954440147, 'This includes r': 0.09700632178187066, 'It also include': 0.06682375758060279}\n",
            "\n",
            "\n",
            "\n",
            "threshold:\n",
            "\n",
            "0.059870266354420665\n",
            "\n",
            "\n",
            "\n",
            "It also sells operatingsystems, utilities, languages, developer tools, and database software. We note the fall 2015 introductions of the next generation iPhone 6sand the iPhone 6s Plus devices. Released in April 2010, the iPad quickly became the best-selling tablet computer by far. Nonetheless, we expect AAPL to continue to dominate in the upper part of this fastgrowing computing market. On a unit shipment basis, Macs had grown notably fasterthan what was reported for the PC industry. Revenue from Services and other hardware productscomprised for about 13% of sales in FY 15. This includes revenue from the iTunes Store, the App Store,the Mac App Store, the iBooks Store, AppleCare, licensing and other services. It also includes sales ofApple TV, Apple Watch, Beats products, iPod and Apple-branded and third-party accessories.\n"
          ],
          "name": "stdout"
        }
      ]
    },
    {
      "cell_type": "code",
      "metadata": {
        "id": "RbHUF96Xamjw",
        "outputId": "527ac168-275b-424d-ec21-715f2dd3e039",
        "colab": {
          "base_uri": "https://localhost:8080/",
          "height": 887
        }
      },
      "source": [
        "result = run_summarization(text_str)\n",
        "print(result)"
      ],
      "execution_count": null,
      "outputs": [
        {
          "output_type": "stream",
          "text": [
            "<class 'list'>\n",
            "sentences:\n",
            "\n",
            "['\\nThose Who Are Resilient Stay In The Game Longer\\n“On the mountains of truth you can never climb in vain: either you will reach a point higher up today, or you will be training your powers so that you will be able to climb higher tomorrow.”\\u200a—\\u200aFriedrich Nietzsche\\nChallenges and setbacks are not meant to defeat you, but promote you.', 'However, I realise after many years of defeats, it can crush your spirit and it is easier to give up than risk further setbacks and disappointments.Have you experienced this before?', 'To be honest, I don’t have the answers.', 'I can’t tell you what the right course of action is; only you will know.', 'However, it’s important not to be discouraged by failure when pursuing a goal or a dream, since failure itself means different things to different people.', 'To a person with a Fixed Mindset failure is a blow to their self-esteem, yet to a person with a Growth Mindset, it’s an opportunity to improve and find new ways to overcome their obstacles.', 'Same failure, yet different responses.', 'Who is right and who is wrong?', 'Neither.', 'Each person has a different mindset that decides their outcome.', 'Those who are resilient stay in the game longer and draw on their inner means to succeed.', 'I’ve coached mummy and mom clients who gave up after many years toiling away at their respective goal or dream.', 'It was at that point their biggest breakthrough came.', 'Perhaps all those years of perseverance finally paid off.', 'It was the 19th Century’s minister Henry Ward Beecher who once said: “One’s best success comes after their greatest disappointments.” No one knows what the future holds, so your only guide is whether you can endure repeated defeats and disappointments and still pursue your dream.', 'Consider the advice from the American academic and psychologist Angela Duckworth who writes in Grit: The Power of Passion and Perseverance: “Many of us, it seems, quit what we start far too early and far too often.', 'Even more than the effort a gritty person puts in on a single day, what matters is that they wake up the next day, and the next, ready to get on that treadmill and keep going.”\\n\\nI know one thing for certain: don’t settle for less than what you’re capable of, but strive for something bigger.', 'Some of you reading this might identify with this message because it resonates with you on a deeper level.', 'For others, at the end of their tether the message might be nothing more than a trivial pep talk.', 'What I wish to convey irrespective of where you are in your journey is: NEVER settle for less.', 'If you settle for less, you will receive less than you deserve and convince yourself you are justified to receive it.', '“Two people on a precipice over Yosemite Valley” by Nathan Shipps on Unsplash\\nDevelop A Powerful Vision Of What You Want\\n“Your problem is to bridge the gap which exists between where you are now and the goal you intend to reach.”\\u200a—\\u200aEarl Nightingale\\nI recall a passage my father often used growing up in 1990s: “Don’t tell me your problems unless you’ve spent weeks trying to solve them yourself.” That advice has echoed in my mind for decades and became my motivator.', 'Don’t leave it to other people or outside circumstances to motivate you because you will be let down every time.', 'It must come from within you.', 'Gnaw away at your problems until you solve them or find a solution.', 'Problems are not stop signs, they are advising you that more work is required to overcome them.', 'Most times, problems help you gain a skill or develop the resources to succeed later.', 'So embrace your challenges and develop the grit to push past them instead of retreat in resignation.', 'Where are you settling in your life right now?', 'Could you be you playing for bigger stakes than you are?', 'Are you willing to play bigger even if it means repeated failures and setbacks?', 'You should ask yourself these questions to decide whether you’re willing to put yourself on the line or settle for less.', 'And that’s fine if you’re content to receive less, as long as you’re not regretful later.', 'If you have not achieved the success you deserve and are considering giving up, will you regret it in a few years or decades from now?', 'Only you can answer that, but you should carve out time to discover your motivation for pursuing your goals.', 'It’s a fact, if you don’t know what you want you’ll get what life hands you and it may not be in your best interest, affirms author Larry Weidel: “Winners know that if you don’t figure out what you want, you’ll get whatever life hands you.” The key is to develop a powerful vision of what you want and hold that image in your mind.', 'Nurture it daily and give it life by taking purposeful action towards it.', 'Vision + desire + dedication + patience + daily action leads to astonishing success.', 'Are you willing to commit to this way of life or jump ship at the first sign of failure?', 'I’m amused when I read questions written by millennials on Quora who ask how they can become rich and famous or the next Elon Musk.', 'Success is a fickle and long game with highs and lows.', 'Similarly, there are no assurances even if you’re an overnight sensation, to sustain it for long, particularly if you don’t have the mental and emotional means to endure it.', 'This means you must rely on the one true constant in your favour: your personal development.', 'The more you grow, the more you gain in terms of financial resources, status, success\\u200a—\\u200asimple.', 'If you leave it to outside conditions to dictate your circumstances, you are rolling the dice on your future.', 'So become intentional on what you want out of life.', 'Commit to it.', 'Nurture your dreams.', 'Focus on your development and if you want to give up, know what’s involved before you take the plunge.', 'Because I assure you, someone out there right now is working harder than you, reading more books, sleeping less and sacrificing all they have to realise their dreams and it may contest with yours.', 'Don’t leave your dreams to chance.']\n",
            "\n",
            "\n",
            "\n",
            "freq_matrix:\n",
            "\n",
            "{'\\nThose Who Are ': {'resili': 1, 'stay': 1, 'game': 1, 'longer': 1, '“': 1, 'mountain': 1, 'truth': 1, 'never': 1, 'climb': 2, 'vain': 1, ':': 1, 'either': 1, 'reach': 1, 'point': 1, 'higher': 2, 'today': 1, ',': 2, 'train': 1, 'power': 1, 'abl': 1, 'tomorrow.': 1, '”': 1, '—': 1, 'friedrich': 1, 'nietzsch': 1, 'challeng': 1, 'setback': 1, 'meant': 1, 'defeat': 1, 'promot': 1, '.': 1}, 'However, I real': {'howev': 1, ',': 2, 'realis': 1, 'mani': 1, 'year': 1, 'defeat': 1, 'crush': 1, 'spirit': 1, 'easier': 1, 'give': 1, 'risk': 1, 'setback': 1, 'disappointments.hav': 1, 'experienc': 1, 'thi': 1, 'befor': 1, '?': 1}, 'To be honest, I': {'honest': 1, ',': 1, '’': 1, 'answer': 1, '.': 1}, 'I can’t tell yo': {'’': 1, 'tell': 1, 'right': 1, 'cours': 1, 'action': 1, ';': 1, 'onli': 1, 'know': 1, '.': 1}, 'However, it’s i': {'howev': 1, ',': 2, '’': 1, 'import': 1, 'discourag': 1, 'failur': 2, 'pursu': 1, 'goal': 1, 'dream': 1, 'sinc': 1, 'mean': 1, 'differ': 2, 'thing': 1, 'peopl': 1, '.': 1}, 'To a person wit': {'person': 2, 'fix': 1, 'mindset': 2, 'failur': 1, 'blow': 1, 'self-esteem': 1, ',': 2, 'yet': 1, 'growth': 1, '’': 1, 'opportun': 1, 'improv': 1, 'find': 1, 'new': 1, 'way': 1, 'overcom': 1, 'obstacl': 1, '.': 1}, 'Same failure, y': {'failur': 1, ',': 1, 'yet': 1, 'differ': 1, 'respons': 1, '.': 1}, 'Who is right an': {'right': 1, 'wrong': 1, '?': 1}, 'Neither.': {'neither': 1, '.': 1}, 'Each person has': {'person': 1, 'ha': 1, 'differ': 1, 'mindset': 1, 'decid': 1, 'outcom': 1, '.': 1}, 'Those who are r': {'resili': 1, 'stay': 1, 'game': 1, 'longer': 1, 'draw': 1, 'inner': 1, 'mean': 1, 'succeed': 1, '.': 1}, 'I’ve coached mu': {'’': 1, 'coach': 1, 'mummi': 1, 'mom': 1, 'client': 1, 'gave': 1, 'mani': 1, 'year': 1, 'toil': 1, 'away': 1, 'respect': 1, 'goal': 1, 'dream': 1, '.': 1}, 'It was at that ': {'wa': 1, 'point': 1, 'biggest': 1, 'breakthrough': 1, 'came': 1, '.': 1}, 'Perhaps all tho': {'perhap': 1, 'year': 1, 'persever': 1, 'final': 1, 'paid': 1, '.': 1}, 'It was the 19th': {'wa': 1, '19th': 1, 'centuri': 1, '’': 2, 'minist': 1, 'henri': 1, 'ward': 1, 'beecher': 1, 'onc': 1, 'said': 1, ':': 1, '“': 1, 'one': 2, 'best': 1, 'success': 1, 'come': 1, 'greatest': 1, 'disappointments.': 1, '”': 1, 'know': 1, 'futur': 1, 'hold': 1, ',': 1, 'onli': 1, 'guid': 1, 'whether': 1, 'endur': 1, 'repeat': 1, 'defeat': 1, 'disappoint': 1, 'still': 1, 'pursu': 1, 'dream': 1, '.': 1}, 'Consider the ad': {'consid': 1, 'advic': 1, 'american': 1, 'academ': 1, 'psychologist': 1, 'angela': 1, 'duckworth': 1, 'write': 1, 'grit': 1, ':': 2, 'power': 1, 'passion': 1, 'persever': 1, '“': 1, 'mani': 1, 'us': 1, ',': 2, 'seem': 1, 'quit': 1, 'start': 1, 'far': 2, 'earli': 1, 'often': 1, '.': 1}, 'Even more than ': {'even': 1, 'effort': 1, 'gritti': 1, 'person': 1, 'put': 1, 'singl': 1, 'day': 2, ',': 4, 'matter': 1, 'wake': 1, 'next': 2, 'readi': 1, 'get': 1, 'treadmil': 1, 'keep': 1, 'going.': 1, '”': 1, 'know': 1, 'one': 1, 'thing': 1, 'certain': 1, ':': 1, '’': 2, 'settl': 1, 'less': 1, 'capabl': 1, 'strive': 1, 'someth': 1, 'bigger': 1, '.': 1}, 'Some of you rea': {'read': 1, 'thi': 2, 'might': 1, 'identifi': 1, 'messag': 1, 'becaus': 1, 'reson': 1, 'deeper': 1, 'level': 1, '.': 1}, 'For others, at ': {',': 1, 'end': 1, 'tether': 1, 'messag': 1, 'might': 1, 'noth': 1, 'trivial': 1, 'pep': 1, 'talk': 1, '.': 1}, 'What I wish to ': {'wish': 1, 'convey': 1, 'irrespect': 1, 'journey': 1, ':': 1, 'never': 1, 'settl': 1, 'less': 1, '.': 1}, 'If you settle f': {'settl': 1, 'less': 2, ',': 1, 'receiv': 2, 'deserv': 1, 'convinc': 1, 'justifi': 1, '.': 1}, '“Two people on ': {'“': 3, 'two': 1, 'peopl': 1, 'precipic': 1, 'yosemit': 1, 'valley': 1, '”': 3, 'nathan': 1, 'shipp': 1, 'unsplash': 1, 'develop': 1, 'power': 1, 'vision': 1, 'want': 1, 'problem': 2, 'bridg': 1, 'gap': 1, 'exist': 1, 'goal': 1, 'intend': 1, 'reach.': 1, '—': 1, 'earl': 1, 'nightingal': 1, 'recal': 1, 'passag': 1, 'father': 1, 'often': 1, 'use': 1, 'grow': 1, '1990': 1, ':': 1, '’': 2, 'tell': 1, 'unless': 1, 'spent': 1, 'week': 1, 'tri': 1, 'solv': 1, 'yourself.': 1, 'advic': 1, 'ha': 1, 'echo': 1, 'mind': 1, 'decad': 1, 'becam': 1, 'motiv': 1, '.': 1}, 'Don’t leave it ': {'’': 1, 'leav': 1, 'peopl': 1, 'outsid': 1, 'circumst': 1, 'motiv': 1, 'becaus': 1, 'let': 1, 'everi': 1, 'time': 1, '.': 1}, 'It must come fr': {'must': 1, 'come': 1, 'within': 1, '.': 1}, 'Gnaw away at yo': {'gnaw': 1, 'away': 1, 'problem': 1, 'solv': 1, 'find': 1, 'solut': 1, '.': 1}, 'Problems are no': {'problem': 1, 'stop': 1, 'sign': 1, ',': 1, 'advis': 1, 'work': 1, 'requir': 1, 'overcom': 1, '.': 1}, 'Most times, pro': {'time': 1, ',': 1, 'problem': 1, 'help': 1, 'gain': 1, 'skill': 1, 'develop': 1, 'resourc': 1, 'succeed': 1, 'later': 1, '.': 1}, 'So embrace your': {'embrac': 1, 'challeng': 1, 'develop': 1, 'grit': 1, 'push': 1, 'past': 1, 'instead': 1, 'retreat': 1, 'resign': 1, '.': 1}, 'Where are you s': {'settl': 1, 'life': 1, 'right': 1, '?': 1}, 'Could you be yo': {'could': 1, 'play': 1, 'bigger': 1, 'stake': 1, '?': 1}, 'Are you willing': {'commit': 1, 'thi': 1, 'way': 1, 'life': 1, 'jump': 1, 'ship': 1, 'first': 1, 'sign': 1, 'failur': 1, '?': 1}, 'You should ask ': {'ask': 1, 'question': 1, 'decid': 1, 'whether': 1, '’': 1, 'put': 1, 'line': 1, 'settl': 1, 'less': 1, '.': 1}, 'And that’s fine': {'’': 3, 'fine': 1, 'content': 1, 'receiv': 1, 'less': 1, ',': 1, 'long': 1, 'regret': 1, 'later': 1, '.': 1}, 'If you have not': {'achiev': 1, 'success': 1, 'deserv': 1, 'consid': 1, 'give': 1, ',': 1, 'regret': 1, 'year': 1, 'decad': 1, '?': 1}, 'Only you can an': {'onli': 1, 'answer': 1, ',': 1, 'carv': 1, 'time': 1, 'discov': 1, 'motiv': 1, 'pursu': 1, 'goal': 1, '.': 1}, 'It’s a fact, if': {'’': 5, 'fact': 1, ',': 3, 'know': 2, 'want': 3, 'get': 2, 'life': 2, 'hand': 2, 'may': 1, 'best': 1, 'interest': 1, 'affirm': 1, 'author': 1, 'larri': 1, 'weidel': 1, ':': 1, '“': 1, 'winner': 1, 'figur': 1, 'whatev': 1, 'you.': 1, '”': 1, 'key': 1, 'develop': 1, 'power': 1, 'vision': 1, 'hold': 1, 'imag': 1, 'mind': 1, '.': 1}, 'Nurture it dail': {'nurtur': 1, 'daili': 1, 'give': 1, 'life': 1, 'take': 1, 'purpos': 1, 'action': 1, 'toward': 1, '.': 1}, 'Vision + desire': {'vision': 1, '+': 4, 'desir': 1, 'dedic': 1, 'patienc': 1, 'daili': 1, 'action': 1, 'lead': 1, 'astonish': 1, 'success': 1, '.': 1}, 'I’m amused when': {'’': 1, 'amus': 1, 'read': 1, 'question': 1, 'written': 1, 'millenni': 1, 'quora': 1, 'ask': 1, 'becom': 1, 'rich': 1, 'famou': 1, 'next': 1, 'elon': 1, 'musk': 1, '.': 1}, 'Success is a fi': {'success': 1, 'fickl': 1, 'long': 1, 'game': 1, 'high': 1, 'low': 1, '.': 1}, 'Similarly, ther': {'similarli': 1, ',': 3, 'assur': 1, 'even': 1, '’': 2, 'overnight': 1, 'sensat': 1, 'sustain': 1, 'long': 1, 'particularli': 1, 'mental': 1, 'emot': 1, 'mean': 1, 'endur': 1, '.': 1}, 'This means you ': {'thi': 1, 'mean': 1, 'must': 1, 'reli': 1, 'one': 1, 'true': 1, 'constant': 1, 'favour': 1, ':': 1, 'person': 1, 'develop': 1, '.': 1}, 'The more you gr': {'grow': 1, ',': 3, 'gain': 1, 'term': 1, 'financi': 1, 'resourc': 1, 'statu': 1, 'success': 1, '—': 1, 'simpl': 1, '.': 1}, 'If you leave it': {'leav': 1, 'outsid': 1, 'condit': 1, 'dictat': 1, 'circumst': 1, ',': 1, 'roll': 1, 'dice': 1, 'futur': 1, '.': 1}, 'So become inten': {'becom': 1, 'intent': 1, 'want': 1, 'life': 1, '.': 1}, 'Commit to it.': {'commit': 1, '.': 1}, 'Nurture your dr': {'nurtur': 1, 'dream': 1, '.': 1}, 'Focus on your d': {'focu': 1, 'develop': 1, 'want': 1, 'give': 1, ',': 1, 'know': 1, '’': 1, 'involv': 1, 'befor': 1, 'take': 1, 'plung': 1, '.': 1}, 'Because I assur': {'becaus': 1, 'assur': 1, ',': 3, 'someon': 1, 'right': 1, 'work': 1, 'harder': 1, 'read': 1, 'book': 1, 'sleep': 1, 'less': 1, 'sacrif': 1, 'realis': 1, 'dream': 1, 'may': 1, 'contest': 1, '.': 1}, 'Don’t leave you': {'’': 1, 'leav': 1, 'dream': 1, 'chanc': 1, '.': 1}}\n",
            "\n",
            "\n",
            "\n",
            "tf_matrix:\n",
            "\n",
            "{'\\nThose Who Are ': {'resili': 0.03225806451612903, 'stay': 0.03225806451612903, 'game': 0.03225806451612903, 'longer': 0.03225806451612903, '“': 0.03225806451612903, 'mountain': 0.03225806451612903, 'truth': 0.03225806451612903, 'never': 0.03225806451612903, 'climb': 0.06451612903225806, 'vain': 0.03225806451612903, ':': 0.03225806451612903, 'either': 0.03225806451612903, 'reach': 0.03225806451612903, 'point': 0.03225806451612903, 'higher': 0.06451612903225806, 'today': 0.03225806451612903, ',': 0.06451612903225806, 'train': 0.03225806451612903, 'power': 0.03225806451612903, 'abl': 0.03225806451612903, 'tomorrow.': 0.03225806451612903, '”': 0.03225806451612903, '—': 0.03225806451612903, 'friedrich': 0.03225806451612903, 'nietzsch': 0.03225806451612903, 'challeng': 0.03225806451612903, 'setback': 0.03225806451612903, 'meant': 0.03225806451612903, 'defeat': 0.03225806451612903, 'promot': 0.03225806451612903, '.': 0.03225806451612903}, 'However, I real': {'howev': 0.058823529411764705, ',': 0.11764705882352941, 'realis': 0.058823529411764705, 'mani': 0.058823529411764705, 'year': 0.058823529411764705, 'defeat': 0.058823529411764705, 'crush': 0.058823529411764705, 'spirit': 0.058823529411764705, 'easier': 0.058823529411764705, 'give': 0.058823529411764705, 'risk': 0.058823529411764705, 'setback': 0.058823529411764705, 'disappointments.hav': 0.058823529411764705, 'experienc': 0.058823529411764705, 'thi': 0.058823529411764705, 'befor': 0.058823529411764705, '?': 0.058823529411764705}, 'To be honest, I': {'honest': 0.2, ',': 0.2, '’': 0.2, 'answer': 0.2, '.': 0.2}, 'I can’t tell yo': {'’': 0.1111111111111111, 'tell': 0.1111111111111111, 'right': 0.1111111111111111, 'cours': 0.1111111111111111, 'action': 0.1111111111111111, ';': 0.1111111111111111, 'onli': 0.1111111111111111, 'know': 0.1111111111111111, '.': 0.1111111111111111}, 'However, it’s i': {'howev': 0.06666666666666667, ',': 0.13333333333333333, '’': 0.06666666666666667, 'import': 0.06666666666666667, 'discourag': 0.06666666666666667, 'failur': 0.13333333333333333, 'pursu': 0.06666666666666667, 'goal': 0.06666666666666667, 'dream': 0.06666666666666667, 'sinc': 0.06666666666666667, 'mean': 0.06666666666666667, 'differ': 0.13333333333333333, 'thing': 0.06666666666666667, 'peopl': 0.06666666666666667, '.': 0.06666666666666667}, 'To a person wit': {'person': 0.1111111111111111, 'fix': 0.05555555555555555, 'mindset': 0.1111111111111111, 'failur': 0.05555555555555555, 'blow': 0.05555555555555555, 'self-esteem': 0.05555555555555555, ',': 0.1111111111111111, 'yet': 0.05555555555555555, 'growth': 0.05555555555555555, '’': 0.05555555555555555, 'opportun': 0.05555555555555555, 'improv': 0.05555555555555555, 'find': 0.05555555555555555, 'new': 0.05555555555555555, 'way': 0.05555555555555555, 'overcom': 0.05555555555555555, 'obstacl': 0.05555555555555555, '.': 0.05555555555555555}, 'Same failure, y': {'failur': 0.16666666666666666, ',': 0.16666666666666666, 'yet': 0.16666666666666666, 'differ': 0.16666666666666666, 'respons': 0.16666666666666666, '.': 0.16666666666666666}, 'Who is right an': {'right': 0.3333333333333333, 'wrong': 0.3333333333333333, '?': 0.3333333333333333}, 'Neither.': {'neither': 0.5, '.': 0.5}, 'Each person has': {'person': 0.14285714285714285, 'ha': 0.14285714285714285, 'differ': 0.14285714285714285, 'mindset': 0.14285714285714285, 'decid': 0.14285714285714285, 'outcom': 0.14285714285714285, '.': 0.14285714285714285}, 'Those who are r': {'resili': 0.1111111111111111, 'stay': 0.1111111111111111, 'game': 0.1111111111111111, 'longer': 0.1111111111111111, 'draw': 0.1111111111111111, 'inner': 0.1111111111111111, 'mean': 0.1111111111111111, 'succeed': 0.1111111111111111, '.': 0.1111111111111111}, 'I’ve coached mu': {'’': 0.07142857142857142, 'coach': 0.07142857142857142, 'mummi': 0.07142857142857142, 'mom': 0.07142857142857142, 'client': 0.07142857142857142, 'gave': 0.07142857142857142, 'mani': 0.07142857142857142, 'year': 0.07142857142857142, 'toil': 0.07142857142857142, 'away': 0.07142857142857142, 'respect': 0.07142857142857142, 'goal': 0.07142857142857142, 'dream': 0.07142857142857142, '.': 0.07142857142857142}, 'It was at that ': {'wa': 0.16666666666666666, 'point': 0.16666666666666666, 'biggest': 0.16666666666666666, 'breakthrough': 0.16666666666666666, 'came': 0.16666666666666666, '.': 0.16666666666666666}, 'Perhaps all tho': {'perhap': 0.16666666666666666, 'year': 0.16666666666666666, 'persever': 0.16666666666666666, 'final': 0.16666666666666666, 'paid': 0.16666666666666666, '.': 0.16666666666666666}, 'It was the 19th': {'wa': 0.029411764705882353, '19th': 0.029411764705882353, 'centuri': 0.029411764705882353, '’': 0.058823529411764705, 'minist': 0.029411764705882353, 'henri': 0.029411764705882353, 'ward': 0.029411764705882353, 'beecher': 0.029411764705882353, 'onc': 0.029411764705882353, 'said': 0.029411764705882353, ':': 0.029411764705882353, '“': 0.029411764705882353, 'one': 0.058823529411764705, 'best': 0.029411764705882353, 'success': 0.029411764705882353, 'come': 0.029411764705882353, 'greatest': 0.029411764705882353, 'disappointments.': 0.029411764705882353, '”': 0.029411764705882353, 'know': 0.029411764705882353, 'futur': 0.029411764705882353, 'hold': 0.029411764705882353, ',': 0.029411764705882353, 'onli': 0.029411764705882353, 'guid': 0.029411764705882353, 'whether': 0.029411764705882353, 'endur': 0.029411764705882353, 'repeat': 0.029411764705882353, 'defeat': 0.029411764705882353, 'disappoint': 0.029411764705882353, 'still': 0.029411764705882353, 'pursu': 0.029411764705882353, 'dream': 0.029411764705882353, '.': 0.029411764705882353}, 'Consider the ad': {'consid': 0.041666666666666664, 'advic': 0.041666666666666664, 'american': 0.041666666666666664, 'academ': 0.041666666666666664, 'psychologist': 0.041666666666666664, 'angela': 0.041666666666666664, 'duckworth': 0.041666666666666664, 'write': 0.041666666666666664, 'grit': 0.041666666666666664, ':': 0.08333333333333333, 'power': 0.041666666666666664, 'passion': 0.041666666666666664, 'persever': 0.041666666666666664, '“': 0.041666666666666664, 'mani': 0.041666666666666664, 'us': 0.041666666666666664, ',': 0.08333333333333333, 'seem': 0.041666666666666664, 'quit': 0.041666666666666664, 'start': 0.041666666666666664, 'far': 0.08333333333333333, 'earli': 0.041666666666666664, 'often': 0.041666666666666664, '.': 0.041666666666666664}, 'Even more than ': {'even': 0.03333333333333333, 'effort': 0.03333333333333333, 'gritti': 0.03333333333333333, 'person': 0.03333333333333333, 'put': 0.03333333333333333, 'singl': 0.03333333333333333, 'day': 0.06666666666666667, ',': 0.13333333333333333, 'matter': 0.03333333333333333, 'wake': 0.03333333333333333, 'next': 0.06666666666666667, 'readi': 0.03333333333333333, 'get': 0.03333333333333333, 'treadmil': 0.03333333333333333, 'keep': 0.03333333333333333, 'going.': 0.03333333333333333, '”': 0.03333333333333333, 'know': 0.03333333333333333, 'one': 0.03333333333333333, 'thing': 0.03333333333333333, 'certain': 0.03333333333333333, ':': 0.03333333333333333, '’': 0.06666666666666667, 'settl': 0.03333333333333333, 'less': 0.03333333333333333, 'capabl': 0.03333333333333333, 'strive': 0.03333333333333333, 'someth': 0.03333333333333333, 'bigger': 0.03333333333333333, '.': 0.03333333333333333}, 'Some of you rea': {'read': 0.1, 'thi': 0.2, 'might': 0.1, 'identifi': 0.1, 'messag': 0.1, 'becaus': 0.1, 'reson': 0.1, 'deeper': 0.1, 'level': 0.1, '.': 0.1}, 'For others, at ': {',': 0.1, 'end': 0.1, 'tether': 0.1, 'messag': 0.1, 'might': 0.1, 'noth': 0.1, 'trivial': 0.1, 'pep': 0.1, 'talk': 0.1, '.': 0.1}, 'What I wish to ': {'wish': 0.1111111111111111, 'convey': 0.1111111111111111, 'irrespect': 0.1111111111111111, 'journey': 0.1111111111111111, ':': 0.1111111111111111, 'never': 0.1111111111111111, 'settl': 0.1111111111111111, 'less': 0.1111111111111111, '.': 0.1111111111111111}, 'If you settle f': {'settl': 0.125, 'less': 0.25, ',': 0.125, 'receiv': 0.25, 'deserv': 0.125, 'convinc': 0.125, 'justifi': 0.125, '.': 0.125}, '“Two people on ': {'“': 0.0625, 'two': 0.020833333333333332, 'peopl': 0.020833333333333332, 'precipic': 0.020833333333333332, 'yosemit': 0.020833333333333332, 'valley': 0.020833333333333332, '”': 0.0625, 'nathan': 0.020833333333333332, 'shipp': 0.020833333333333332, 'unsplash': 0.020833333333333332, 'develop': 0.020833333333333332, 'power': 0.020833333333333332, 'vision': 0.020833333333333332, 'want': 0.020833333333333332, 'problem': 0.041666666666666664, 'bridg': 0.020833333333333332, 'gap': 0.020833333333333332, 'exist': 0.020833333333333332, 'goal': 0.020833333333333332, 'intend': 0.020833333333333332, 'reach.': 0.020833333333333332, '—': 0.020833333333333332, 'earl': 0.020833333333333332, 'nightingal': 0.020833333333333332, 'recal': 0.020833333333333332, 'passag': 0.020833333333333332, 'father': 0.020833333333333332, 'often': 0.020833333333333332, 'use': 0.020833333333333332, 'grow': 0.020833333333333332, '1990': 0.020833333333333332, ':': 0.020833333333333332, '’': 0.041666666666666664, 'tell': 0.020833333333333332, 'unless': 0.020833333333333332, 'spent': 0.020833333333333332, 'week': 0.020833333333333332, 'tri': 0.020833333333333332, 'solv': 0.020833333333333332, 'yourself.': 0.020833333333333332, 'advic': 0.020833333333333332, 'ha': 0.020833333333333332, 'echo': 0.020833333333333332, 'mind': 0.020833333333333332, 'decad': 0.020833333333333332, 'becam': 0.020833333333333332, 'motiv': 0.020833333333333332, '.': 0.020833333333333332}, 'Don’t leave it ': {'’': 0.09090909090909091, 'leav': 0.09090909090909091, 'peopl': 0.09090909090909091, 'outsid': 0.09090909090909091, 'circumst': 0.09090909090909091, 'motiv': 0.09090909090909091, 'becaus': 0.09090909090909091, 'let': 0.09090909090909091, 'everi': 0.09090909090909091, 'time': 0.09090909090909091, '.': 0.09090909090909091}, 'It must come fr': {'must': 0.25, 'come': 0.25, 'within': 0.25, '.': 0.25}, 'Gnaw away at yo': {'gnaw': 0.14285714285714285, 'away': 0.14285714285714285, 'problem': 0.14285714285714285, 'solv': 0.14285714285714285, 'find': 0.14285714285714285, 'solut': 0.14285714285714285, '.': 0.14285714285714285}, 'Problems are no': {'problem': 0.1111111111111111, 'stop': 0.1111111111111111, 'sign': 0.1111111111111111, ',': 0.1111111111111111, 'advis': 0.1111111111111111, 'work': 0.1111111111111111, 'requir': 0.1111111111111111, 'overcom': 0.1111111111111111, '.': 0.1111111111111111}, 'Most times, pro': {'time': 0.09090909090909091, ',': 0.09090909090909091, 'problem': 0.09090909090909091, 'help': 0.09090909090909091, 'gain': 0.09090909090909091, 'skill': 0.09090909090909091, 'develop': 0.09090909090909091, 'resourc': 0.09090909090909091, 'succeed': 0.09090909090909091, 'later': 0.09090909090909091, '.': 0.09090909090909091}, 'So embrace your': {'embrac': 0.1, 'challeng': 0.1, 'develop': 0.1, 'grit': 0.1, 'push': 0.1, 'past': 0.1, 'instead': 0.1, 'retreat': 0.1, 'resign': 0.1, '.': 0.1}, 'Where are you s': {'settl': 0.25, 'life': 0.25, 'right': 0.25, '?': 0.25}, 'Could you be yo': {'could': 0.2, 'play': 0.2, 'bigger': 0.2, 'stake': 0.2, '?': 0.2}, 'Are you willing': {'commit': 0.1, 'thi': 0.1, 'way': 0.1, 'life': 0.1, 'jump': 0.1, 'ship': 0.1, 'first': 0.1, 'sign': 0.1, 'failur': 0.1, '?': 0.1}, 'You should ask ': {'ask': 0.1, 'question': 0.1, 'decid': 0.1, 'whether': 0.1, '’': 0.1, 'put': 0.1, 'line': 0.1, 'settl': 0.1, 'less': 0.1, '.': 0.1}, 'And that’s fine': {'’': 0.3, 'fine': 0.1, 'content': 0.1, 'receiv': 0.1, 'less': 0.1, ',': 0.1, 'long': 0.1, 'regret': 0.1, 'later': 0.1, '.': 0.1}, 'If you have not': {'achiev': 0.1, 'success': 0.1, 'deserv': 0.1, 'consid': 0.1, 'give': 0.1, ',': 0.1, 'regret': 0.1, 'year': 0.1, 'decad': 0.1, '?': 0.1}, 'Only you can an': {'onli': 0.1, 'answer': 0.1, ',': 0.1, 'carv': 0.1, 'time': 0.1, 'discov': 0.1, 'motiv': 0.1, 'pursu': 0.1, 'goal': 0.1, '.': 0.1}, 'It’s a fact, if': {'’': 0.16666666666666666, 'fact': 0.03333333333333333, ',': 0.1, 'know': 0.06666666666666667, 'want': 0.1, 'get': 0.06666666666666667, 'life': 0.06666666666666667, 'hand': 0.06666666666666667, 'may': 0.03333333333333333, 'best': 0.03333333333333333, 'interest': 0.03333333333333333, 'affirm': 0.03333333333333333, 'author': 0.03333333333333333, 'larri': 0.03333333333333333, 'weidel': 0.03333333333333333, ':': 0.03333333333333333, '“': 0.03333333333333333, 'winner': 0.03333333333333333, 'figur': 0.03333333333333333, 'whatev': 0.03333333333333333, 'you.': 0.03333333333333333, '”': 0.03333333333333333, 'key': 0.03333333333333333, 'develop': 0.03333333333333333, 'power': 0.03333333333333333, 'vision': 0.03333333333333333, 'hold': 0.03333333333333333, 'imag': 0.03333333333333333, 'mind': 0.03333333333333333, '.': 0.03333333333333333}, 'Nurture it dail': {'nurtur': 0.1111111111111111, 'daili': 0.1111111111111111, 'give': 0.1111111111111111, 'life': 0.1111111111111111, 'take': 0.1111111111111111, 'purpos': 0.1111111111111111, 'action': 0.1111111111111111, 'toward': 0.1111111111111111, '.': 0.1111111111111111}, 'Vision + desire': {'vision': 0.09090909090909091, '+': 0.36363636363636365, 'desir': 0.09090909090909091, 'dedic': 0.09090909090909091, 'patienc': 0.09090909090909091, 'daili': 0.09090909090909091, 'action': 0.09090909090909091, 'lead': 0.09090909090909091, 'astonish': 0.09090909090909091, 'success': 0.09090909090909091, '.': 0.09090909090909091}, 'I’m amused when': {'’': 0.06666666666666667, 'amus': 0.06666666666666667, 'read': 0.06666666666666667, 'question': 0.06666666666666667, 'written': 0.06666666666666667, 'millenni': 0.06666666666666667, 'quora': 0.06666666666666667, 'ask': 0.06666666666666667, 'becom': 0.06666666666666667, 'rich': 0.06666666666666667, 'famou': 0.06666666666666667, 'next': 0.06666666666666667, 'elon': 0.06666666666666667, 'musk': 0.06666666666666667, '.': 0.06666666666666667}, 'Success is a fi': {'success': 0.14285714285714285, 'fickl': 0.14285714285714285, 'long': 0.14285714285714285, 'game': 0.14285714285714285, 'high': 0.14285714285714285, 'low': 0.14285714285714285, '.': 0.14285714285714285}, 'Similarly, ther': {'similarli': 0.06666666666666667, ',': 0.2, 'assur': 0.06666666666666667, 'even': 0.06666666666666667, '’': 0.13333333333333333, 'overnight': 0.06666666666666667, 'sensat': 0.06666666666666667, 'sustain': 0.06666666666666667, 'long': 0.06666666666666667, 'particularli': 0.06666666666666667, 'mental': 0.06666666666666667, 'emot': 0.06666666666666667, 'mean': 0.06666666666666667, 'endur': 0.06666666666666667, '.': 0.06666666666666667}, 'This means you ': {'thi': 0.08333333333333333, 'mean': 0.08333333333333333, 'must': 0.08333333333333333, 'reli': 0.08333333333333333, 'one': 0.08333333333333333, 'true': 0.08333333333333333, 'constant': 0.08333333333333333, 'favour': 0.08333333333333333, ':': 0.08333333333333333, 'person': 0.08333333333333333, 'develop': 0.08333333333333333, '.': 0.08333333333333333}, 'The more you gr': {'grow': 0.09090909090909091, ',': 0.2727272727272727, 'gain': 0.09090909090909091, 'term': 0.09090909090909091, 'financi': 0.09090909090909091, 'resourc': 0.09090909090909091, 'statu': 0.09090909090909091, 'success': 0.09090909090909091, '—': 0.09090909090909091, 'simpl': 0.09090909090909091, '.': 0.09090909090909091}, 'If you leave it': {'leav': 0.1, 'outsid': 0.1, 'condit': 0.1, 'dictat': 0.1, 'circumst': 0.1, ',': 0.1, 'roll': 0.1, 'dice': 0.1, 'futur': 0.1, '.': 0.1}, 'So become inten': {'becom': 0.2, 'intent': 0.2, 'want': 0.2, 'life': 0.2, '.': 0.2}, 'Commit to it.': {'commit': 0.5, '.': 0.5}, 'Nurture your dr': {'nurtur': 0.3333333333333333, 'dream': 0.3333333333333333, '.': 0.3333333333333333}, 'Focus on your d': {'focu': 0.08333333333333333, 'develop': 0.08333333333333333, 'want': 0.08333333333333333, 'give': 0.08333333333333333, ',': 0.08333333333333333, 'know': 0.08333333333333333, '’': 0.08333333333333333, 'involv': 0.08333333333333333, 'befor': 0.08333333333333333, 'take': 0.08333333333333333, 'plung': 0.08333333333333333, '.': 0.08333333333333333}, 'Because I assur': {'becaus': 0.058823529411764705, 'assur': 0.058823529411764705, ',': 0.17647058823529413, 'someon': 0.058823529411764705, 'right': 0.058823529411764705, 'work': 0.058823529411764705, 'harder': 0.058823529411764705, 'read': 0.058823529411764705, 'book': 0.058823529411764705, 'sleep': 0.058823529411764705, 'less': 0.058823529411764705, 'sacrif': 0.058823529411764705, 'realis': 0.058823529411764705, 'dream': 0.058823529411764705, 'may': 0.058823529411764705, 'contest': 0.058823529411764705, '.': 0.058823529411764705}, 'Don’t leave you': {'’': 0.2, 'leav': 0.2, 'dream': 0.2, 'chanc': 0.2, '.': 0.2}}\n",
            "\n",
            "\n",
            "\n",
            "count_doc_per_words:\n",
            "\n",
            "{'resili': 2, 'stay': 2, 'game': 3, 'longer': 2, '“': 5, 'mountain': 1, 'truth': 1, 'never': 2, 'climb': 1, 'vain': 1, ':': 8, 'either': 1, 'reach': 1, 'point': 2, 'higher': 1, 'today': 1, ',': 22, 'train': 1, 'power': 4, 'abl': 1, 'tomorrow.': 1, '”': 5, '—': 3, 'friedrich': 1, 'nietzsch': 1, 'challeng': 2, 'setback': 2, 'meant': 1, 'defeat': 3, 'promot': 1, '.': 44, 'howev': 2, 'realis': 2, 'mani': 3, 'year': 4, 'crush': 1, 'spirit': 1, 'easier': 1, 'give': 4, 'risk': 1, 'disappointments.hav': 1, 'experienc': 1, 'thi': 4, 'befor': 2, '?': 6, 'honest': 1, '’': 16, 'answer': 2, 'tell': 2, 'right': 4, 'cours': 1, 'action': 3, ';': 1, 'onli': 3, 'know': 5, 'import': 1, 'discourag': 1, 'failur': 4, 'pursu': 3, 'goal': 4, 'dream': 6, 'sinc': 1, 'mean': 4, 'differ': 3, 'thing': 2, 'peopl': 3, 'person': 4, 'fix': 1, 'mindset': 2, 'blow': 1, 'self-esteem': 1, 'yet': 2, 'growth': 1, 'opportun': 1, 'improv': 1, 'find': 2, 'new': 1, 'way': 2, 'overcom': 2, 'obstacl': 1, 'respons': 1, 'wrong': 1, 'neither': 1, 'ha': 2, 'decid': 2, 'outcom': 1, 'draw': 1, 'inner': 1, 'succeed': 2, 'coach': 1, 'mummi': 1, 'mom': 1, 'client': 1, 'gave': 1, 'toil': 1, 'away': 2, 'respect': 1, 'wa': 2, 'biggest': 1, 'breakthrough': 1, 'came': 1, 'perhap': 1, 'persever': 2, 'final': 1, 'paid': 1, '19th': 1, 'centuri': 1, 'minist': 1, 'henri': 1, 'ward': 1, 'beecher': 1, 'onc': 1, 'said': 1, 'one': 3, 'best': 2, 'success': 5, 'come': 2, 'greatest': 1, 'disappointments.': 1, 'futur': 2, 'hold': 2, 'guid': 1, 'whether': 2, 'endur': 2, 'repeat': 1, 'disappoint': 1, 'still': 1, 'consid': 2, 'advic': 2, 'american': 1, 'academ': 1, 'psychologist': 1, 'angela': 1, 'duckworth': 1, 'write': 1, 'grit': 2, 'passion': 1, 'us': 1, 'seem': 1, 'quit': 1, 'start': 1, 'far': 1, 'earli': 1, 'often': 2, 'even': 2, 'effort': 1, 'gritti': 1, 'put': 2, 'singl': 1, 'day': 1, 'matter': 1, 'wake': 1, 'next': 2, 'readi': 1, 'get': 2, 'treadmil': 1, 'keep': 1, 'going.': 1, 'certain': 1, 'settl': 5, 'less': 6, 'capabl': 1, 'strive': 1, 'someth': 1, 'bigger': 2, 'read': 3, 'might': 2, 'identifi': 1, 'messag': 2, 'becaus': 3, 'reson': 1, 'deeper': 1, 'level': 1, 'end': 1, 'tether': 1, 'noth': 1, 'trivial': 1, 'pep': 1, 'talk': 1, 'wish': 1, 'convey': 1, 'irrespect': 1, 'journey': 1, 'receiv': 2, 'deserv': 2, 'convinc': 1, 'justifi': 1, 'two': 1, 'precipic': 1, 'yosemit': 1, 'valley': 1, 'nathan': 1, 'shipp': 1, 'unsplash': 1, 'develop': 6, 'vision': 3, 'want': 4, 'problem': 4, 'bridg': 1, 'gap': 1, 'exist': 1, 'intend': 1, 'reach.': 1, 'earl': 1, 'nightingal': 1, 'recal': 1, 'passag': 1, 'father': 1, 'use': 1, 'grow': 2, '1990': 1, 'unless': 1, 'spent': 1, 'week': 1, 'tri': 1, 'solv': 2, 'yourself.': 1, 'echo': 1, 'mind': 2, 'decad': 2, 'becam': 1, 'motiv': 3, 'leav': 3, 'outsid': 2, 'circumst': 2, 'let': 1, 'everi': 1, 'time': 3, 'must': 2, 'within': 1, 'gnaw': 1, 'solut': 1, 'stop': 1, 'sign': 2, 'advis': 1, 'work': 2, 'requir': 1, 'help': 1, 'gain': 2, 'skill': 1, 'resourc': 2, 'later': 2, 'embrac': 1, 'push': 1, 'past': 1, 'instead': 1, 'retreat': 1, 'resign': 1, 'life': 5, 'could': 1, 'play': 1, 'stake': 1, 'commit': 2, 'jump': 1, 'ship': 1, 'first': 1, 'ask': 2, 'question': 2, 'line': 1, 'fine': 1, 'content': 1, 'long': 3, 'regret': 2, 'achiev': 1, 'carv': 1, 'discov': 1, 'fact': 1, 'hand': 1, 'may': 2, 'interest': 1, 'affirm': 1, 'author': 1, 'larri': 1, 'weidel': 1, 'winner': 1, 'figur': 1, 'whatev': 1, 'you.': 1, 'key': 1, 'imag': 1, 'nurtur': 2, 'daili': 2, 'take': 2, 'purpos': 1, 'toward': 1, '+': 1, 'desir': 1, 'dedic': 1, 'patienc': 1, 'lead': 1, 'astonish': 1, 'amus': 1, 'written': 1, 'millenni': 1, 'quora': 1, 'becom': 2, 'rich': 1, 'famou': 1, 'elon': 1, 'musk': 1, 'fickl': 1, 'high': 1, 'low': 1, 'similarli': 1, 'assur': 2, 'overnight': 1, 'sensat': 1, 'sustain': 1, 'particularli': 1, 'mental': 1, 'emot': 1, 'reli': 1, 'true': 1, 'constant': 1, 'favour': 1, 'term': 1, 'financi': 1, 'statu': 1, 'simpl': 1, 'condit': 1, 'dictat': 1, 'roll': 1, 'dice': 1, 'intent': 1, 'focu': 1, 'involv': 1, 'plung': 1, 'someon': 1, 'harder': 1, 'book': 1, 'sleep': 1, 'sacrif': 1, 'contest': 1, 'chanc': 1}\n",
            "\n",
            "\n",
            "\n",
            "idf_matrix:\n",
            "\n",
            "{'\\nThose Who Are ': {'resili': 1.4065401804339552, 'stay': 1.4065401804339552, 'game': 1.2304489213782739, 'longer': 1.4065401804339552, '“': 1.0086001717619175, 'mountain': 1.7075701760979363, 'truth': 1.7075701760979363, 'never': 1.4065401804339552, 'climb': 1.7075701760979363, 'vain': 1.7075701760979363, ':': 0.8044801891059927, 'either': 1.7075701760979363, 'reach': 1.7075701760979363, 'point': 1.4065401804339552, 'higher': 1.7075701760979363, 'today': 1.7075701760979363, ',': 0.36514749527573015, 'train': 1.7075701760979363, 'power': 1.105510184769974, 'abl': 1.7075701760979363, 'tomorrow.': 1.7075701760979363, '”': 1.0086001717619175, '—': 1.2304489213782739, 'friedrich': 1.7075701760979363, 'nietzsch': 1.7075701760979363, 'challeng': 1.4065401804339552, 'setback': 1.4065401804339552, 'meant': 1.7075701760979363, 'defeat': 1.2304489213782739, 'promot': 1.7075701760979363, '.': 0.06411749961174897}, 'However, I real': {'howev': 1.4065401804339552, ',': 0.36514749527573015, 'realis': 1.4065401804339552, 'mani': 1.2304489213782739, 'year': 1.105510184769974, 'defeat': 1.2304489213782739, 'crush': 1.7075701760979363, 'spirit': 1.7075701760979363, 'easier': 1.7075701760979363, 'give': 1.105510184769974, 'risk': 1.7075701760979363, 'setback': 1.4065401804339552, 'disappointments.hav': 1.7075701760979363, 'experienc': 1.7075701760979363, 'thi': 1.105510184769974, 'befor': 1.4065401804339552, '?': 0.9294189257142927}, 'To be honest, I': {'honest': 1.7075701760979363, ',': 0.36514749527573015, '’': 0.5034501934420116, 'answer': 1.4065401804339552, '.': 0.06411749961174897}, 'I can’t tell yo': {'’': 0.5034501934420116, 'tell': 1.4065401804339552, 'right': 1.105510184769974, 'cours': 1.7075701760979363, 'action': 1.2304489213782739, ';': 1.7075701760979363, 'onli': 1.2304489213782739, 'know': 1.0086001717619175, '.': 0.06411749961174897}, 'However, it’s i': {'howev': 1.4065401804339552, ',': 0.36514749527573015, '’': 0.5034501934420116, 'import': 1.7075701760979363, 'discourag': 1.7075701760979363, 'failur': 1.105510184769974, 'pursu': 1.2304489213782739, 'goal': 1.105510184769974, 'dream': 0.9294189257142927, 'sinc': 1.7075701760979363, 'mean': 1.105510184769974, 'differ': 1.2304489213782739, 'thing': 1.4065401804339552, 'peopl': 1.2304489213782739, '.': 0.06411749961174897}, 'To a person wit': {'person': 1.105510184769974, 'fix': 1.7075701760979363, 'mindset': 1.4065401804339552, 'failur': 1.105510184769974, 'blow': 1.7075701760979363, 'self-esteem': 1.7075701760979363, ',': 0.36514749527573015, 'yet': 1.4065401804339552, 'growth': 1.7075701760979363, '’': 0.5034501934420116, 'opportun': 1.7075701760979363, 'improv': 1.7075701760979363, 'find': 1.4065401804339552, 'new': 1.7075701760979363, 'way': 1.4065401804339552, 'overcom': 1.4065401804339552, 'obstacl': 1.7075701760979363, '.': 0.06411749961174897}, 'Same failure, y': {'failur': 1.105510184769974, ',': 0.36514749527573015, 'yet': 1.4065401804339552, 'differ': 1.2304489213782739, 'respons': 1.7075701760979363, '.': 0.06411749961174897}, 'Who is right an': {'right': 1.105510184769974, 'wrong': 1.7075701760979363, '?': 0.9294189257142927}, 'Neither.': {'neither': 1.7075701760979363, '.': 0.06411749961174897}, 'Each person has': {'person': 1.105510184769974, 'ha': 1.4065401804339552, 'differ': 1.2304489213782739, 'mindset': 1.4065401804339552, 'decid': 1.4065401804339552, 'outcom': 1.7075701760979363, '.': 0.06411749961174897}, 'Those who are r': {'resili': 1.4065401804339552, 'stay': 1.4065401804339552, 'game': 1.2304489213782739, 'longer': 1.4065401804339552, 'draw': 1.7075701760979363, 'inner': 1.7075701760979363, 'mean': 1.105510184769974, 'succeed': 1.4065401804339552, '.': 0.06411749961174897}, 'I’ve coached mu': {'’': 0.5034501934420116, 'coach': 1.7075701760979363, 'mummi': 1.7075701760979363, 'mom': 1.7075701760979363, 'client': 1.7075701760979363, 'gave': 1.7075701760979363, 'mani': 1.2304489213782739, 'year': 1.105510184769974, 'toil': 1.7075701760979363, 'away': 1.4065401804339552, 'respect': 1.7075701760979363, 'goal': 1.105510184769974, 'dream': 0.9294189257142927, '.': 0.06411749961174897}, 'It was at that ': {'wa': 1.4065401804339552, 'point': 1.4065401804339552, 'biggest': 1.7075701760979363, 'breakthrough': 1.7075701760979363, 'came': 1.7075701760979363, '.': 0.06411749961174897}, 'Perhaps all tho': {'perhap': 1.7075701760979363, 'year': 1.105510184769974, 'persever': 1.4065401804339552, 'final': 1.7075701760979363, 'paid': 1.7075701760979363, '.': 0.06411749961174897}, 'It was the 19th': {'wa': 1.4065401804339552, '19th': 1.7075701760979363, 'centuri': 1.7075701760979363, '’': 0.5034501934420116, 'minist': 1.7075701760979363, 'henri': 1.7075701760979363, 'ward': 1.7075701760979363, 'beecher': 1.7075701760979363, 'onc': 1.7075701760979363, 'said': 1.7075701760979363, ':': 0.8044801891059927, '“': 1.0086001717619175, 'one': 1.2304489213782739, 'best': 1.4065401804339552, 'success': 1.0086001717619175, 'come': 1.4065401804339552, 'greatest': 1.7075701760979363, 'disappointments.': 1.7075701760979363, '”': 1.0086001717619175, 'know': 1.0086001717619175, 'futur': 1.4065401804339552, 'hold': 1.4065401804339552, ',': 0.36514749527573015, 'onli': 1.2304489213782739, 'guid': 1.7075701760979363, 'whether': 1.4065401804339552, 'endur': 1.4065401804339552, 'repeat': 1.7075701760979363, 'defeat': 1.2304489213782739, 'disappoint': 1.7075701760979363, 'still': 1.7075701760979363, 'pursu': 1.2304489213782739, 'dream': 0.9294189257142927, '.': 0.06411749961174897}, 'Consider the ad': {'consid': 1.4065401804339552, 'advic': 1.4065401804339552, 'american': 1.7075701760979363, 'academ': 1.7075701760979363, 'psychologist': 1.7075701760979363, 'angela': 1.7075701760979363, 'duckworth': 1.7075701760979363, 'write': 1.7075701760979363, 'grit': 1.4065401804339552, ':': 0.8044801891059927, 'power': 1.105510184769974, 'passion': 1.7075701760979363, 'persever': 1.4065401804339552, '“': 1.0086001717619175, 'mani': 1.2304489213782739, 'us': 1.7075701760979363, ',': 0.36514749527573015, 'seem': 1.7075701760979363, 'quit': 1.7075701760979363, 'start': 1.7075701760979363, 'far': 1.7075701760979363, 'earli': 1.7075701760979363, 'often': 1.4065401804339552, '.': 0.06411749961174897}, 'Even more than ': {'even': 1.4065401804339552, 'effort': 1.7075701760979363, 'gritti': 1.7075701760979363, 'person': 1.105510184769974, 'put': 1.4065401804339552, 'singl': 1.7075701760979363, 'day': 1.7075701760979363, ',': 0.36514749527573015, 'matter': 1.7075701760979363, 'wake': 1.7075701760979363, 'next': 1.4065401804339552, 'readi': 1.7075701760979363, 'get': 1.4065401804339552, 'treadmil': 1.7075701760979363, 'keep': 1.7075701760979363, 'going.': 1.7075701760979363, '”': 1.0086001717619175, 'know': 1.0086001717619175, 'one': 1.2304489213782739, 'thing': 1.4065401804339552, 'certain': 1.7075701760979363, ':': 0.8044801891059927, '’': 0.5034501934420116, 'settl': 1.0086001717619175, 'less': 0.9294189257142927, 'capabl': 1.7075701760979363, 'strive': 1.7075701760979363, 'someth': 1.7075701760979363, 'bigger': 1.4065401804339552, '.': 0.06411749961174897}, 'Some of you rea': {'read': 1.2304489213782739, 'thi': 1.105510184769974, 'might': 1.4065401804339552, 'identifi': 1.7075701760979363, 'messag': 1.4065401804339552, 'becaus': 1.2304489213782739, 'reson': 1.7075701760979363, 'deeper': 1.7075701760979363, 'level': 1.7075701760979363, '.': 0.06411749961174897}, 'For others, at ': {',': 0.36514749527573015, 'end': 1.7075701760979363, 'tether': 1.7075701760979363, 'messag': 1.4065401804339552, 'might': 1.4065401804339552, 'noth': 1.7075701760979363, 'trivial': 1.7075701760979363, 'pep': 1.7075701760979363, 'talk': 1.7075701760979363, '.': 0.06411749961174897}, 'What I wish to ': {'wish': 1.7075701760979363, 'convey': 1.7075701760979363, 'irrespect': 1.7075701760979363, 'journey': 1.7075701760979363, ':': 0.8044801891059927, 'never': 1.4065401804339552, 'settl': 1.0086001717619175, 'less': 0.9294189257142927, '.': 0.06411749961174897}, 'If you settle f': {'settl': 1.0086001717619175, 'less': 0.9294189257142927, ',': 0.36514749527573015, 'receiv': 1.4065401804339552, 'deserv': 1.4065401804339552, 'convinc': 1.7075701760979363, 'justifi': 1.7075701760979363, '.': 0.06411749961174897}, '“Two people on ': {'“': 1.0086001717619175, 'two': 1.7075701760979363, 'peopl': 1.2304489213782739, 'precipic': 1.7075701760979363, 'yosemit': 1.7075701760979363, 'valley': 1.7075701760979363, '”': 1.0086001717619175, 'nathan': 1.7075701760979363, 'shipp': 1.7075701760979363, 'unsplash': 1.7075701760979363, 'develop': 0.9294189257142927, 'power': 1.105510184769974, 'vision': 1.2304489213782739, 'want': 1.105510184769974, 'problem': 1.105510184769974, 'bridg': 1.7075701760979363, 'gap': 1.7075701760979363, 'exist': 1.7075701760979363, 'goal': 1.105510184769974, 'intend': 1.7075701760979363, 'reach.': 1.7075701760979363, '—': 1.2304489213782739, 'earl': 1.7075701760979363, 'nightingal': 1.7075701760979363, 'recal': 1.7075701760979363, 'passag': 1.7075701760979363, 'father': 1.7075701760979363, 'often': 1.4065401804339552, 'use': 1.7075701760979363, 'grow': 1.4065401804339552, '1990': 1.7075701760979363, ':': 0.8044801891059927, '’': 0.5034501934420116, 'tell': 1.4065401804339552, 'unless': 1.7075701760979363, 'spent': 1.7075701760979363, 'week': 1.7075701760979363, 'tri': 1.7075701760979363, 'solv': 1.4065401804339552, 'yourself.': 1.7075701760979363, 'advic': 1.4065401804339552, 'ha': 1.4065401804339552, 'echo': 1.7075701760979363, 'mind': 1.4065401804339552, 'decad': 1.4065401804339552, 'becam': 1.7075701760979363, 'motiv': 1.2304489213782739, '.': 0.06411749961174897}, 'Don’t leave it ': {'’': 0.5034501934420116, 'leav': 1.2304489213782739, 'peopl': 1.2304489213782739, 'outsid': 1.4065401804339552, 'circumst': 1.4065401804339552, 'motiv': 1.2304489213782739, 'becaus': 1.2304489213782739, 'let': 1.7075701760979363, 'everi': 1.7075701760979363, 'time': 1.2304489213782739, '.': 0.06411749961174897}, 'It must come fr': {'must': 1.4065401804339552, 'come': 1.4065401804339552, 'within': 1.7075701760979363, '.': 0.06411749961174897}, 'Gnaw away at yo': {'gnaw': 1.7075701760979363, 'away': 1.4065401804339552, 'problem': 1.105510184769974, 'solv': 1.4065401804339552, 'find': 1.4065401804339552, 'solut': 1.7075701760979363, '.': 0.06411749961174897}, 'Problems are no': {'problem': 1.105510184769974, 'stop': 1.7075701760979363, 'sign': 1.4065401804339552, ',': 0.36514749527573015, 'advis': 1.7075701760979363, 'work': 1.4065401804339552, 'requir': 1.7075701760979363, 'overcom': 1.4065401804339552, '.': 0.06411749961174897}, 'Most times, pro': {'time': 1.2304489213782739, ',': 0.36514749527573015, 'problem': 1.105510184769974, 'help': 1.7075701760979363, 'gain': 1.4065401804339552, 'skill': 1.7075701760979363, 'develop': 0.9294189257142927, 'resourc': 1.4065401804339552, 'succeed': 1.4065401804339552, 'later': 1.4065401804339552, '.': 0.06411749961174897}, 'So embrace your': {'embrac': 1.7075701760979363, 'challeng': 1.4065401804339552, 'develop': 0.9294189257142927, 'grit': 1.4065401804339552, 'push': 1.7075701760979363, 'past': 1.7075701760979363, 'instead': 1.7075701760979363, 'retreat': 1.7075701760979363, 'resign': 1.7075701760979363, '.': 0.06411749961174897}, 'Where are you s': {'settl': 1.0086001717619175, 'life': 1.0086001717619175, 'right': 1.105510184769974, '?': 0.9294189257142927}, 'Could you be yo': {'could': 1.7075701760979363, 'play': 1.7075701760979363, 'bigger': 1.4065401804339552, 'stake': 1.7075701760979363, '?': 0.9294189257142927}, 'Are you willing': {'commit': 1.4065401804339552, 'thi': 1.105510184769974, 'way': 1.4065401804339552, 'life': 1.0086001717619175, 'jump': 1.7075701760979363, 'ship': 1.7075701760979363, 'first': 1.7075701760979363, 'sign': 1.4065401804339552, 'failur': 1.105510184769974, '?': 0.9294189257142927}, 'You should ask ': {'ask': 1.4065401804339552, 'question': 1.4065401804339552, 'decid': 1.4065401804339552, 'whether': 1.4065401804339552, '’': 0.5034501934420116, 'put': 1.4065401804339552, 'line': 1.7075701760979363, 'settl': 1.0086001717619175, 'less': 0.9294189257142927, '.': 0.06411749961174897}, 'And that’s fine': {'’': 0.5034501934420116, 'fine': 1.7075701760979363, 'content': 1.7075701760979363, 'receiv': 1.4065401804339552, 'less': 0.9294189257142927, ',': 0.36514749527573015, 'long': 1.2304489213782739, 'regret': 1.4065401804339552, 'later': 1.4065401804339552, '.': 0.06411749961174897}, 'If you have not': {'achiev': 1.7075701760979363, 'success': 1.0086001717619175, 'deserv': 1.4065401804339552, 'consid': 1.4065401804339552, 'give': 1.105510184769974, ',': 0.36514749527573015, 'regret': 1.4065401804339552, 'year': 1.105510184769974, 'decad': 1.4065401804339552, '?': 0.9294189257142927}, 'Only you can an': {'onli': 1.2304489213782739, 'answer': 1.4065401804339552, ',': 0.36514749527573015, 'carv': 1.7075701760979363, 'time': 1.2304489213782739, 'discov': 1.7075701760979363, 'motiv': 1.2304489213782739, 'pursu': 1.2304489213782739, 'goal': 1.105510184769974, '.': 0.06411749961174897}, 'It’s a fact, if': {'’': 0.5034501934420116, 'fact': 1.7075701760979363, ',': 0.36514749527573015, 'know': 1.0086001717619175, 'want': 1.105510184769974, 'get': 1.4065401804339552, 'life': 1.0086001717619175, 'hand': 1.7075701760979363, 'may': 1.4065401804339552, 'best': 1.4065401804339552, 'interest': 1.7075701760979363, 'affirm': 1.7075701760979363, 'author': 1.7075701760979363, 'larri': 1.7075701760979363, 'weidel': 1.7075701760979363, ':': 0.8044801891059927, '“': 1.0086001717619175, 'winner': 1.7075701760979363, 'figur': 1.7075701760979363, 'whatev': 1.7075701760979363, 'you.': 1.7075701760979363, '”': 1.0086001717619175, 'key': 1.7075701760979363, 'develop': 0.9294189257142927, 'power': 1.105510184769974, 'vision': 1.2304489213782739, 'hold': 1.4065401804339552, 'imag': 1.7075701760979363, 'mind': 1.4065401804339552, '.': 0.06411749961174897}, 'Nurture it dail': {'nurtur': 1.4065401804339552, 'daili': 1.4065401804339552, 'give': 1.105510184769974, 'life': 1.0086001717619175, 'take': 1.4065401804339552, 'purpos': 1.7075701760979363, 'action': 1.2304489213782739, 'toward': 1.7075701760979363, '.': 0.06411749961174897}, 'Vision + desire': {'vision': 1.2304489213782739, '+': 1.7075701760979363, 'desir': 1.7075701760979363, 'dedic': 1.7075701760979363, 'patienc': 1.7075701760979363, 'daili': 1.4065401804339552, 'action': 1.2304489213782739, 'lead': 1.7075701760979363, 'astonish': 1.7075701760979363, 'success': 1.0086001717619175, '.': 0.06411749961174897}, 'I’m amused when': {'’': 0.5034501934420116, 'amus': 1.7075701760979363, 'read': 1.2304489213782739, 'question': 1.4065401804339552, 'written': 1.7075701760979363, 'millenni': 1.7075701760979363, 'quora': 1.7075701760979363, 'ask': 1.4065401804339552, 'becom': 1.4065401804339552, 'rich': 1.7075701760979363, 'famou': 1.7075701760979363, 'next': 1.4065401804339552, 'elon': 1.7075701760979363, 'musk': 1.7075701760979363, '.': 0.06411749961174897}, 'Success is a fi': {'success': 1.0086001717619175, 'fickl': 1.7075701760979363, 'long': 1.2304489213782739, 'game': 1.2304489213782739, 'high': 1.7075701760979363, 'low': 1.7075701760979363, '.': 0.06411749961174897}, 'Similarly, ther': {'similarli': 1.7075701760979363, ',': 0.36514749527573015, 'assur': 1.4065401804339552, 'even': 1.4065401804339552, '’': 0.5034501934420116, 'overnight': 1.7075701760979363, 'sensat': 1.7075701760979363, 'sustain': 1.7075701760979363, 'long': 1.2304489213782739, 'particularli': 1.7075701760979363, 'mental': 1.7075701760979363, 'emot': 1.7075701760979363, 'mean': 1.105510184769974, 'endur': 1.4065401804339552, '.': 0.06411749961174897}, 'This means you ': {'thi': 1.105510184769974, 'mean': 1.105510184769974, 'must': 1.4065401804339552, 'reli': 1.7075701760979363, 'one': 1.2304489213782739, 'true': 1.7075701760979363, 'constant': 1.7075701760979363, 'favour': 1.7075701760979363, ':': 0.8044801891059927, 'person': 1.105510184769974, 'develop': 0.9294189257142927, '.': 0.06411749961174897}, 'The more you gr': {'grow': 1.4065401804339552, ',': 0.36514749527573015, 'gain': 1.4065401804339552, 'term': 1.7075701760979363, 'financi': 1.7075701760979363, 'resourc': 1.4065401804339552, 'statu': 1.7075701760979363, 'success': 1.0086001717619175, '—': 1.2304489213782739, 'simpl': 1.7075701760979363, '.': 0.06411749961174897}, 'If you leave it': {'leav': 1.2304489213782739, 'outsid': 1.4065401804339552, 'condit': 1.7075701760979363, 'dictat': 1.7075701760979363, 'circumst': 1.4065401804339552, ',': 0.36514749527573015, 'roll': 1.7075701760979363, 'dice': 1.7075701760979363, 'futur': 1.4065401804339552, '.': 0.06411749961174897}, 'So become inten': {'becom': 1.4065401804339552, 'intent': 1.7075701760979363, 'want': 1.105510184769974, 'life': 1.0086001717619175, '.': 0.06411749961174897}, 'Commit to it.': {'commit': 1.4065401804339552, '.': 0.06411749961174897}, 'Nurture your dr': {'nurtur': 1.4065401804339552, 'dream': 0.9294189257142927, '.': 0.06411749961174897}, 'Focus on your d': {'focu': 1.7075701760979363, 'develop': 0.9294189257142927, 'want': 1.105510184769974, 'give': 1.105510184769974, ',': 0.36514749527573015, 'know': 1.0086001717619175, '’': 0.5034501934420116, 'involv': 1.7075701760979363, 'befor': 1.4065401804339552, 'take': 1.4065401804339552, 'plung': 1.7075701760979363, '.': 0.06411749961174897}, 'Because I assur': {'becaus': 1.2304489213782739, 'assur': 1.4065401804339552, ',': 0.36514749527573015, 'someon': 1.7075701760979363, 'right': 1.105510184769974, 'work': 1.4065401804339552, 'harder': 1.7075701760979363, 'read': 1.2304489213782739, 'book': 1.7075701760979363, 'sleep': 1.7075701760979363, 'less': 0.9294189257142927, 'sacrif': 1.7075701760979363, 'realis': 1.4065401804339552, 'dream': 0.9294189257142927, 'may': 1.4065401804339552, 'contest': 1.7075701760979363, '.': 0.06411749961174897}, 'Don’t leave you': {'’': 0.5034501934420116, 'leav': 1.2304489213782739, 'dream': 0.9294189257142927, 'chanc': 1.7075701760979363, '.': 0.06411749961174897}}\n",
            "\n",
            "\n",
            "\n",
            "tf_idf_matrix:\n",
            "\n",
            "{'\\nThose Who Are ': {'resili': 0.0453722638849663, 'stay': 0.0453722638849663, 'game': 0.03969190068962174, 'longer': 0.0453722638849663, '“': 0.03253548941167476, 'mountain': 0.055082908906385036, 'truth': 0.055082908906385036, 'never': 0.0453722638849663, 'climb': 0.11016581781277007, 'vain': 0.055082908906385036, ':': 0.025950973842128796, 'either': 0.055082908906385036, 'reach': 0.055082908906385036, 'point': 0.0453722638849663, 'higher': 0.11016581781277007, 'today': 0.055082908906385036, ',': 0.023557902921014846, 'train': 0.055082908906385036, 'power': 0.035661618863547545, 'abl': 0.055082908906385036, 'tomorrow.': 0.055082908906385036, '”': 0.03253548941167476, '—': 0.03969190068962174, 'friedrich': 0.055082908906385036, 'nietzsch': 0.055082908906385036, 'challeng': 0.0453722638849663, 'setback': 0.0453722638849663, 'meant': 0.055082908906385036, 'defeat': 0.03969190068962174, 'promot': 0.055082908906385036, '.': 0.0020683064390886762}, 'However, I real': {'howev': 0.0827376576725856, ',': 0.04295852885596825, 'realis': 0.0827376576725856, 'mani': 0.07237934831636905, 'year': 0.065030010868822, 'defeat': 0.07237934831636905, 'crush': 0.1004453044763492, 'spirit': 0.1004453044763492, 'easier': 0.1004453044763492, 'give': 0.065030010868822, 'risk': 0.1004453044763492, 'setback': 0.0827376576725856, 'disappointments.hav': 0.1004453044763492, 'experienc': 0.1004453044763492, 'thi': 0.065030010868822, 'befor': 0.0827376576725856, '?': 0.054671701512605454}, 'To be honest, I': {'honest': 0.3415140352195873, ',': 0.07302949905514604, '’': 0.10069003868840232, 'answer': 0.28130803608679106, '.': 0.012823499922349794}, 'I can’t tell yo': {'’': 0.05593891038244573, 'tell': 0.15628224227043946, 'right': 0.12283446497444155, 'cours': 0.18973001956643734, 'action': 0.13671654681980822, ';': 0.18973001956643734, 'onli': 0.13671654681980822, 'know': 0.11206668575132417, '.': 0.007124166623527662}, 'However, it’s i': {'howev': 0.09376934536226368, ',': 0.04868633270343069, '’': 0.03356334622946744, 'import': 0.11383801173986241, 'discourag': 0.11383801173986241, 'failur': 0.14740135796932985, 'pursu': 0.08202992809188492, 'goal': 0.07370067898466492, 'dream': 0.06196126171428618, 'sinc': 0.11383801173986241, 'mean': 0.07370067898466492, 'differ': 0.16405985618376984, 'thing': 0.09376934536226368, 'peopl': 0.08202992809188492, '.': 0.0042744999741165975}, 'To a person wit': {'person': 0.12283446497444155, 'fix': 0.09486500978321867, 'mindset': 0.15628224227043946, 'failur': 0.06141723248722077, 'blow': 0.09486500978321867, 'self-esteem': 0.09486500978321867, ',': 0.04057194391952557, 'yet': 0.07814112113521973, 'growth': 0.09486500978321867, '’': 0.027969455191222865, 'opportun': 0.09486500978321867, 'improv': 0.09486500978321867, 'find': 0.07814112113521973, 'new': 0.09486500978321867, 'way': 0.07814112113521973, 'overcom': 0.07814112113521973, 'obstacl': 0.09486500978321867, '.': 0.003562083311763831}, 'Same failure, y': {'failur': 0.1842516974616623, ',': 0.060857915879288356, 'yet': 0.2344233634056592, 'differ': 0.2050748202297123, 'respons': 0.284595029349656, '.': 0.010686249935291494}, 'Who is right an': {'right': 0.3685033949233246, 'wrong': 0.569190058699312, '?': 0.3098063085714309}, 'Neither.': {'neither': 0.8537850880489681, '.': 0.03205874980587448}, 'Each person has': {'person': 0.15793002639571055, 'ha': 0.200934311490565, 'differ': 0.1757784173397534, 'mindset': 0.200934311490565, 'decid': 0.200934311490565, 'outcom': 0.24393859658541944, '.': 0.009159642801678422}, 'Those who are r': {'resili': 0.15628224227043946, 'stay': 0.15628224227043946, 'game': 0.13671654681980822, 'longer': 0.15628224227043946, 'draw': 0.18973001956643734, 'inner': 0.18973001956643734, 'mean': 0.12283446497444155, 'succeed': 0.15628224227043946, '.': 0.007124166623527662}, 'I’ve coached mu': {'’': 0.03596072810300083, 'coach': 0.12196929829270972, 'mummi': 0.12196929829270972, 'mom': 0.12196929829270972, 'client': 0.12196929829270972, 'gave': 0.12196929829270972, 'mani': 0.0878892086698767, 'year': 0.07896501319785527, 'toil': 0.12196929829270972, 'away': 0.1004671557452825, 'respect': 0.12196929829270972, 'goal': 0.07896501319785527, 'dream': 0.06638706612244948, '.': 0.004579821400839211}, 'It was at that ': {'wa': 0.2344233634056592, 'point': 0.2344233634056592, 'biggest': 0.284595029349656, 'breakthrough': 0.284595029349656, 'came': 0.284595029349656, '.': 0.010686249935291494}, 'Perhaps all tho': {'perhap': 0.284595029349656, 'year': 0.1842516974616623, 'persever': 0.2344233634056592, 'final': 0.284595029349656, 'paid': 0.284595029349656, '.': 0.010686249935291494}, 'It was the 19th': {'wa': 0.0413688288362928, '19th': 0.0502226522381746, 'centuri': 0.0502226522381746, '’': 0.029614717261294797, 'minist': 0.0502226522381746, 'henri': 0.0502226522381746, 'ward': 0.0502226522381746, 'beecher': 0.0502226522381746, 'onc': 0.0502226522381746, 'said': 0.0502226522381746, ':': 0.023661182032529197, '“': 0.029664710934174044, 'one': 0.07237934831636905, 'best': 0.0413688288362928, 'success': 0.029664710934174044, 'come': 0.0413688288362928, 'greatest': 0.0502226522381746, 'disappointments.': 0.0502226522381746, '”': 0.029664710934174044, 'know': 0.029664710934174044, 'futur': 0.0413688288362928, 'hold': 0.0413688288362928, ',': 0.010739632213992063, 'onli': 0.036189674158184526, 'guid': 0.0502226522381746, 'whether': 0.0413688288362928, 'endur': 0.0413688288362928, 'repeat': 0.0502226522381746, 'defeat': 0.036189674158184526, 'disappoint': 0.0502226522381746, 'still': 0.0502226522381746, 'pursu': 0.036189674158184526, 'dream': 0.027335850756302727, '.': 0.0018858088121102637}, 'Consider the ad': {'consid': 0.0586058408514148, 'advic': 0.0586058408514148, 'american': 0.071148757337414, 'academ': 0.071148757337414, 'psychologist': 0.071148757337414, 'angela': 0.071148757337414, 'duckworth': 0.071148757337414, 'write': 0.071148757337414, 'grit': 0.0586058408514148, ':': 0.06704001575883273, 'power': 0.04606292436541558, 'passion': 0.071148757337414, 'persever': 0.0586058408514148, '“': 0.04202500715674656, 'mani': 0.051268705057428074, 'us': 0.071148757337414, ',': 0.030428957939644178, 'seem': 0.071148757337414, 'quit': 0.071148757337414, 'start': 0.071148757337414, 'far': 0.142297514674828, 'earli': 0.071148757337414, 'often': 0.0586058408514148, '.': 0.0026715624838228734}, 'Even more than ': {'even': 0.04688467268113184, 'effort': 0.056919005869931205, 'gritti': 0.056919005869931205, 'person': 0.03685033949233246, 'put': 0.04688467268113184, 'singl': 0.056919005869931205, 'day': 0.11383801173986241, ',': 0.04868633270343069, 'matter': 0.056919005869931205, 'wake': 0.056919005869931205, 'next': 0.09376934536226368, 'readi': 0.056919005869931205, 'get': 0.04688467268113184, 'treadmil': 0.056919005869931205, 'keep': 0.056919005869931205, 'going.': 0.056919005869931205, '”': 0.03362000572539725, 'know': 0.03362000572539725, 'one': 0.04101496404594246, 'thing': 0.04688467268113184, 'certain': 0.056919005869931205, ':': 0.02681600630353309, '’': 0.03356334622946744, 'settl': 0.03362000572539725, 'less': 0.03098063085714309, 'capabl': 0.056919005869931205, 'strive': 0.056919005869931205, 'someth': 0.056919005869931205, 'bigger': 0.04688467268113184, '.': 0.0021372499870582987}, 'Some of you rea': {'read': 0.12304489213782739, 'thi': 0.2211020369539948, 'might': 0.14065401804339553, 'identifi': 0.17075701760979364, 'messag': 0.14065401804339553, 'becaus': 0.12304489213782739, 'reson': 0.17075701760979364, 'deeper': 0.17075701760979364, 'level': 0.17075701760979364, '.': 0.006411749961174897}, 'For others, at ': {',': 0.03651474952757302, 'end': 0.17075701760979364, 'tether': 0.17075701760979364, 'messag': 0.14065401804339553, 'might': 0.14065401804339553, 'noth': 0.17075701760979364, 'trivial': 0.17075701760979364, 'pep': 0.17075701760979364, 'talk': 0.17075701760979364, '.': 0.006411749961174897}, 'What I wish to ': {'wish': 0.18973001956643734, 'convey': 0.18973001956643734, 'irrespect': 0.18973001956643734, 'journey': 0.18973001956643734, ':': 0.08938668767844363, 'never': 0.15628224227043946, 'settl': 0.11206668575132417, 'less': 0.1032687695238103, '.': 0.007124166623527662}, 'If you settle f': {'settl': 0.1260750214702397, 'less': 0.23235473142857319, ',': 0.04564343690946627, 'receiv': 0.3516350451084888, 'deserv': 0.1758175225542444, 'convinc': 0.21344627201224203, 'justifi': 0.21344627201224203, '.': 0.00801468745146862}, '“Two people on ': {'“': 0.06303751073511984, 'two': 0.035574378668707, 'peopl': 0.025634352528714037, 'precipic': 0.035574378668707, 'yosemit': 0.035574378668707, 'valley': 0.035574378668707, '”': 0.06303751073511984, 'nathan': 0.035574378668707, 'shipp': 0.035574378668707, 'unsplash': 0.035574378668707, 'develop': 0.01936289428571443, 'power': 0.02303146218270779, 'vision': 0.025634352528714037, 'want': 0.02303146218270779, 'problem': 0.04606292436541558, 'bridg': 0.035574378668707, 'gap': 0.035574378668707, 'exist': 0.035574378668707, 'goal': 0.02303146218270779, 'intend': 0.035574378668707, 'reach.': 0.035574378668707, '—': 0.025634352528714037, 'earl': 0.035574378668707, 'nightingal': 0.035574378668707, 'recal': 0.035574378668707, 'passag': 0.035574378668707, 'father': 0.035574378668707, 'often': 0.0293029204257074, 'use': 0.035574378668707, 'grow': 0.0293029204257074, '1990': 0.035574378668707, ':': 0.016760003939708182, '’': 0.02097709139341715, 'tell': 0.0293029204257074, 'unless': 0.035574378668707, 'spent': 0.035574378668707, 'week': 0.035574378668707, 'tri': 0.035574378668707, 'solv': 0.0293029204257074, 'yourself.': 0.035574378668707, 'advic': 0.0293029204257074, 'ha': 0.0293029204257074, 'echo': 0.035574378668707, 'mind': 0.0293029204257074, 'decad': 0.0293029204257074, 'becam': 0.035574378668707, 'motiv': 0.025634352528714037, '.': 0.0013357812419114367}, 'Don’t leave it ': {'’': 0.04576819940381924, 'leav': 0.11185899285257035, 'peopl': 0.11185899285257035, 'outsid': 0.12786728913035958, 'circumst': 0.12786728913035958, 'motiv': 0.11185899285257035, 'becaus': 0.11185899285257035, 'let': 0.15523365237253967, 'everi': 0.15523365237253967, 'time': 0.11185899285257035, '.': 0.005828863601068088}, 'It must come fr': {'must': 0.3516350451084888, 'come': 0.3516350451084888, 'within': 0.42689254402448407, '.': 0.01602937490293724}, 'Gnaw away at yo': {'gnaw': 0.24393859658541944, 'away': 0.200934311490565, 'problem': 0.15793002639571055, 'solv': 0.200934311490565, 'find': 0.200934311490565, 'solut': 0.24393859658541944, '.': 0.009159642801678422}, 'Problems are no': {'problem': 0.12283446497444155, 'stop': 0.18973001956643734, 'sign': 0.15628224227043946, ',': 0.04057194391952557, 'advis': 0.18973001956643734, 'work': 0.15628224227043946, 'requir': 0.18973001956643734, 'overcom': 0.15628224227043946, '.': 0.007124166623527662}, 'Most times, pro': {'time': 0.11185899285257035, ',': 0.033195226843248195, 'problem': 0.10050092588817945, 'help': 0.15523365237253967, 'gain': 0.12786728913035958, 'skill': 0.15523365237253967, 'develop': 0.08449262961039025, 'resourc': 0.12786728913035958, 'succeed': 0.12786728913035958, 'later': 0.12786728913035958, '.': 0.005828863601068088}, 'So embrace your': {'embrac': 0.17075701760979364, 'challeng': 0.14065401804339553, 'develop': 0.09294189257142928, 'grit': 0.14065401804339553, 'push': 0.17075701760979364, 'past': 0.17075701760979364, 'instead': 0.17075701760979364, 'retreat': 0.17075701760979364, 'resign': 0.17075701760979364, '.': 0.006411749961174897}, 'Where are you s': {'settl': 0.2521500429404794, 'life': 0.2521500429404794, 'right': 0.2763775461924935, '?': 0.23235473142857319}, 'Could you be yo': {'could': 0.3415140352195873, 'play': 0.3415140352195873, 'bigger': 0.28130803608679106, 'stake': 0.3415140352195873, '?': 0.18588378514285855}, 'Are you willing': {'commit': 0.14065401804339553, 'thi': 0.1105510184769974, 'way': 0.14065401804339553, 'life': 0.10086001717619175, 'jump': 0.17075701760979364, 'ship': 0.17075701760979364, 'first': 0.17075701760979364, 'sign': 0.14065401804339553, 'failur': 0.1105510184769974, '?': 0.09294189257142928}, 'You should ask ': {'ask': 0.14065401804339553, 'question': 0.14065401804339553, 'decid': 0.14065401804339553, 'whether': 0.14065401804339553, '’': 0.05034501934420116, 'put': 0.14065401804339553, 'line': 0.17075701760979364, 'settl': 0.10086001717619175, 'less': 0.09294189257142928, '.': 0.006411749961174897}, 'And that’s fine': {'’': 0.15103505803260348, 'fine': 0.17075701760979364, 'content': 0.17075701760979364, 'receiv': 0.14065401804339553, 'less': 0.09294189257142928, ',': 0.03651474952757302, 'long': 0.12304489213782739, 'regret': 0.14065401804339553, 'later': 0.14065401804339553, '.': 0.006411749961174897}, 'If you have not': {'achiev': 0.17075701760979364, 'success': 0.10086001717619175, 'deserv': 0.14065401804339553, 'consid': 0.14065401804339553, 'give': 0.1105510184769974, ',': 0.03651474952757302, 'regret': 0.14065401804339553, 'year': 0.1105510184769974, 'decad': 0.14065401804339553, '?': 0.09294189257142928}, 'Only you can an': {'onli': 0.12304489213782739, 'answer': 0.14065401804339553, ',': 0.03651474952757302, 'carv': 0.17075701760979364, 'time': 0.12304489213782739, 'discov': 0.17075701760979364, 'motiv': 0.12304489213782739, 'pursu': 0.12304489213782739, 'goal': 0.1105510184769974, '.': 0.006411749961174897}, 'It’s a fact, if': {'’': 0.0839083655736686, 'fact': 0.056919005869931205, ',': 0.03651474952757302, 'know': 0.0672400114507945, 'want': 0.1105510184769974, 'get': 0.09376934536226368, 'life': 0.0672400114507945, 'hand': 0.11383801173986241, 'may': 0.04688467268113184, 'best': 0.04688467268113184, 'interest': 0.056919005869931205, 'affirm': 0.056919005869931205, 'author': 0.056919005869931205, 'larri': 0.056919005869931205, 'weidel': 0.056919005869931205, ':': 0.02681600630353309, '“': 0.03362000572539725, 'winner': 0.056919005869931205, 'figur': 0.056919005869931205, 'whatev': 0.056919005869931205, 'you.': 0.056919005869931205, '”': 0.03362000572539725, 'key': 0.056919005869931205, 'develop': 0.03098063085714309, 'power': 0.03685033949233246, 'vision': 0.04101496404594246, 'hold': 0.04688467268113184, 'imag': 0.056919005869931205, 'mind': 0.04688467268113184, '.': 0.0021372499870582987}, 'Nurture it dail': {'nurtur': 0.15628224227043946, 'daili': 0.15628224227043946, 'give': 0.12283446497444155, 'life': 0.11206668575132417, 'take': 0.15628224227043946, 'purpos': 0.18973001956643734, 'action': 0.13671654681980822, 'toward': 0.18973001956643734, '.': 0.007124166623527662}, 'Vision + desire': {'vision': 0.11185899285257035, '+': 0.6209346094901587, 'desir': 0.15523365237253967, 'dedic': 0.15523365237253967, 'patienc': 0.15523365237253967, 'daili': 0.12786728913035958, 'action': 0.11185899285257035, 'lead': 0.15523365237253967, 'astonish': 0.15523365237253967, 'success': 0.09169092470562887, '.': 0.005828863601068088}, 'I’m amused when': {'’': 0.03356334622946744, 'amus': 0.11383801173986241, 'read': 0.08202992809188492, 'question': 0.09376934536226368, 'written': 0.11383801173986241, 'millenni': 0.11383801173986241, 'quora': 0.11383801173986241, 'ask': 0.09376934536226368, 'becom': 0.09376934536226368, 'rich': 0.11383801173986241, 'famou': 0.11383801173986241, 'next': 0.09376934536226368, 'elon': 0.11383801173986241, 'musk': 0.11383801173986241, '.': 0.0042744999741165975}, 'Success is a fi': {'success': 0.14408573882313105, 'fickl': 0.24393859658541944, 'long': 0.1757784173397534, 'game': 0.1757784173397534, 'high': 0.24393859658541944, 'low': 0.24393859658541944, '.': 0.009159642801678422}, 'Similarly, ther': {'similarli': 0.11383801173986241, ',': 0.07302949905514604, 'assur': 0.09376934536226368, 'even': 0.09376934536226368, '’': 0.06712669245893488, 'overnight': 0.11383801173986241, 'sensat': 0.11383801173986241, 'sustain': 0.11383801173986241, 'long': 0.08202992809188492, 'particularli': 0.11383801173986241, 'mental': 0.11383801173986241, 'emot': 0.11383801173986241, 'mean': 0.07370067898466492, 'endur': 0.09376934536226368, '.': 0.0042744999741165975}, 'This means you ': {'thi': 0.09212584873083116, 'mean': 0.09212584873083116, 'must': 0.1172116817028296, 'reli': 0.142297514674828, 'one': 0.10253741011485615, 'true': 0.142297514674828, 'constant': 0.142297514674828, 'favour': 0.142297514674828, ':': 0.06704001575883273, 'person': 0.09212584873083116, 'develop': 0.07745157714285772, '.': 0.005343124967645747}, 'The more you gr': {'grow': 0.12786728913035958, ',': 0.09958568052974458, 'gain': 0.12786728913035958, 'term': 0.15523365237253967, 'financi': 0.15523365237253967, 'resourc': 0.12786728913035958, 'statu': 0.15523365237253967, 'success': 0.09169092470562887, '—': 0.11185899285257035, 'simpl': 0.15523365237253967, '.': 0.005828863601068088}, 'If you leave it': {'leav': 0.12304489213782739, 'outsid': 0.14065401804339553, 'condit': 0.17075701760979364, 'dictat': 0.17075701760979364, 'circumst': 0.14065401804339553, ',': 0.03651474952757302, 'roll': 0.17075701760979364, 'dice': 0.17075701760979364, 'futur': 0.14065401804339553, '.': 0.006411749961174897}, 'So become inten': {'becom': 0.28130803608679106, 'intent': 0.3415140352195873, 'want': 0.2211020369539948, 'life': 0.2017200343523835, '.': 0.012823499922349794}, 'Commit to it.': {'commit': 0.7032700902169776, '.': 0.03205874980587448}, 'Nurture your dr': {'nurtur': 0.4688467268113184, 'dream': 0.3098063085714309, '.': 0.021372499870582987}, 'Focus on your d': {'focu': 0.142297514674828, 'develop': 0.07745157714285772, 'want': 0.09212584873083116, 'give': 0.09212584873083116, ',': 0.030428957939644178, 'know': 0.08405001431349313, '’': 0.0419541827868343, 'involv': 0.142297514674828, 'befor': 0.1172116817028296, 'take': 0.1172116817028296, 'plung': 0.142297514674828, '.': 0.005343124967645747}, 'Because I assur': {'becaus': 0.07237934831636905, 'assur': 0.0827376576725856, ',': 0.06443779328395238, 'someon': 0.1004453044763492, 'right': 0.065030010868822, 'work': 0.0827376576725856, 'harder': 0.1004453044763492, 'read': 0.07237934831636905, 'book': 0.1004453044763492, 'sleep': 0.1004453044763492, 'less': 0.054671701512605454, 'sacrif': 0.1004453044763492, 'realis': 0.0827376576725856, 'dream': 0.054671701512605454, 'may': 0.0827376576725856, 'contest': 0.1004453044763492, '.': 0.0037716176242205274}, 'Don’t leave you': {'’': 0.10069003868840232, 'leav': 0.24608978427565478, 'dream': 0.18588378514285855, 'chanc': 0.3415140352195873, '.': 0.012823499922349794}}\n",
            "\n",
            "\n",
            "\n",
            "sentence_scores:\n",
            "\n",
            "{'\\nThose Who Are ': 0.049206476824558205, 'However, I real': 0.08065302453860089, 'To be honest, I': 0.16187302179445529, 'I can’t tell yo': 0.12301551141940774, 'However, it’s i': 0.08669737299144101, 'To a person wit': 0.08245122138673566, 'Same failure, y': 0.16331484604354496, 'Who is right an': 0.4158332540646892, 'Neither.': 0.44292191892742133, 'Each person has': 0.16994423108489384, 'Those who are r': 0.14125157629249002, 'I’ve coached mu': 0.09335707817758053, 'It was at that ': 0.22221967746592966, 'Perhaps all tho': 0.21385773314193016, 'It was the 19th': 0.040751274670362984, 'Consider the ad': 0.06369204082261502, 'Even more than ': 0.05009622278706632, 'Some of you rea': 0.14379396777167902, 'For others, at ': 0.13487766412343008, 'What I wish to ': 0.13633873667925497, 'If you settle f': 0.17080412361837063, '“Two people on ': 0.032532556711488074, 'Don’t leave it ': 0.10700853729759435, 'It must come fr': 0.2865480022860997, 'Gnaw away at yo': 0.17968139954856044, 'Problems are no': 0.13428526233645838, 'Most times, pro': 0.10525573636927038, 'So embrace your': 0.1405203784278157, 'Where are you s': 0.2532580908755064, 'Could you be yo': 0.29834678537768233, 'Are you willing': 0.13491370536611832, 'You should ask ': 0.11245857868797685, 'And that’s fine': 0.11734244315803818, 'If you have not': 0.11847917860125648, 'Only you can an': 0.11278251397800376, 'It’s a fact, if': 0.05495558256274865, 'Nurture it dail': 0.13633873667925497, 'Vision + desire': 0.16783708495409588, 'I’m amused when': 0.09370994997756153, 'Success is a fi': 0.17665971515151066, 'Similarly, ther': 0.09188902778870503, 'This means you ': 0.10126261788156894, 'The more you gr': 0.11940917623365904, 'If you leave it': 0.12709615161959364, 'So become inten': 0.21169352850702125, 'Commit to it.': 0.3676644200114261, 'Nurture your dr': 0.2666751784177774, 'Focus on your d': 0.0903996218368567, 'Because I assur': 0.07770376346961066, 'Don’t leave you': 0.17740022864977054}\n",
            "\n",
            "\n",
            "\n",
            "threshold:\n",
            "\n",
            "0.15162117854778973\n",
            "\n",
            "\n",
            "\n",
            "To be honest, I don’t have the answers. Same failure, yet different responses. Who is right and who is wrong? Neither. Each person has a different mindset that decides their outcome. It was at that point their biggest breakthrough came. Perhaps all those years of perseverance finally paid off. If you settle for less, you will receive less than you deserve and convince yourself you are justified to receive it. It must come from within you. Gnaw away at your problems until you solve them or find a solution. Where are you settling in your life right now? Could you be you playing for bigger stakes than you are? Vision + desire + dedication + patience + daily action leads to astonishing success. Success is a fickle and long game with highs and lows. So become intentional on what you want out of life. Commit to it. Nurture your dreams. Don’t leave your dreams to chance.\n"
          ],
          "name": "stdout"
        }
      ]
    },
    {
      "cell_type": "code",
      "metadata": {
        "id": "AShE0cffSjNm"
      },
      "source": [
        "sentence = sent_tokenize(text_str)\n",
        "summary = sent_tokenize(result)\n",
        "res = [sentence[x] for x in range(len(sentence)) if sentence[x] in summary]"
      ],
      "execution_count": null,
      "outputs": []
    },
    {
      "cell_type": "code",
      "metadata": {
        "id": "TIclHqtnYPzN",
        "outputId": "8559f208-b4d3-485a-cf71-23437dc6c7b4",
        "colab": {
          "base_uri": "https://localhost:8080/",
          "height": 343
        }
      },
      "source": [
        "res"
      ],
      "execution_count": null,
      "outputs": [
        {
          "output_type": "execute_result",
          "data": {
            "text/plain": [
              "['To be honest, I don’t have the answers.',\n",
              " 'Same failure, yet different responses.',\n",
              " 'Who is right and who is wrong?',\n",
              " 'Neither.',\n",
              " 'Each person has a different mindset that decides their outcome.',\n",
              " 'It was at that point their biggest breakthrough came.',\n",
              " 'Perhaps all those years of perseverance finally paid off.',\n",
              " 'If you settle for less, you will receive less than you deserve and convince yourself you are justified to receive it.',\n",
              " 'It must come from within you.',\n",
              " 'Gnaw away at your problems until you solve them or find a solution.',\n",
              " 'Where are you settling in your life right now?',\n",
              " 'Could you be you playing for bigger stakes than you are?',\n",
              " 'Vision + desire + dedication + patience + daily action leads to astonishing success.',\n",
              " 'Success is a fickle and long game with highs and lows.',\n",
              " 'So become intentional on what you want out of life.',\n",
              " 'Commit to it.',\n",
              " 'Nurture your dreams.',\n",
              " 'Don’t leave your dreams to chance.']"
            ]
          },
          "metadata": {
            "tags": []
          },
          "execution_count": 17
        }
      ]
    },
    {
      "cell_type": "code",
      "metadata": {
        "id": "QRQWixD4Xbwi",
        "outputId": "208e814a-9eb2-47fa-fdde-18f81e258a24",
        "colab": {
          "base_uri": "https://localhost:8080/",
          "height": 34
        }
      },
      "source": [
        "sentence[7]"
      ],
      "execution_count": null,
      "outputs": [
        {
          "output_type": "execute_result",
          "data": {
            "text/plain": [
              "'Who is right and who is wrong?'"
            ]
          },
          "metadata": {
            "tags": []
          },
          "execution_count": 18
        }
      ]
    },
    {
      "cell_type": "code",
      "metadata": {
        "id": "HFQ84OgsXmUV",
        "outputId": "a5b5aff1-6baa-4af1-e31b-26f3bff96370",
        "colab": {
          "base_uri": "https://localhost:8080/",
          "height": 343
        }
      },
      "source": [
        "summary"
      ],
      "execution_count": null,
      "outputs": [
        {
          "output_type": "execute_result",
          "data": {
            "text/plain": [
              "['To be honest, I don’t have the answers.',\n",
              " 'Same failure, yet different responses.',\n",
              " 'Who is right and who is wrong?',\n",
              " 'Neither.',\n",
              " 'Each person has a different mindset that decides their outcome.',\n",
              " 'It was at that point their biggest breakthrough came.',\n",
              " 'Perhaps all those years of perseverance finally paid off.',\n",
              " 'If you settle for less, you will receive less than you deserve and convince yourself you are justified to receive it.',\n",
              " 'It must come from within you.',\n",
              " 'Gnaw away at your problems until you solve them or find a solution.',\n",
              " 'Where are you settling in your life right now?',\n",
              " 'Could you be you playing for bigger stakes than you are?',\n",
              " 'Vision + desire + dedication + patience + daily action leads to astonishing success.',\n",
              " 'Success is a fickle and long game with highs and lows.',\n",
              " 'So become intentional on what you want out of life.',\n",
              " 'Commit to it.',\n",
              " 'Nurture your dreams.',\n",
              " 'Don’t leave your dreams to chance.']"
            ]
          },
          "metadata": {
            "tags": []
          },
          "execution_count": 19
        }
      ]
    },
    {
      "cell_type": "code",
      "metadata": {
        "id": "vKTmBSPLYCEV"
      },
      "source": [
        "final_summary = \"\""
      ],
      "execution_count": null,
      "outputs": []
    },
    {
      "cell_type": "code",
      "metadata": {
        "id": "51ZZNjJDPyD1",
        "outputId": "c9a812b3-0e6a-41c1-a2ae-f18fd31e5a93",
        "colab": {
          "base_uri": "https://localhost:8080/",
          "height": 54
        }
      },
      "source": [
        "for sentence in summary:\n",
        "    final_summary += sentence\n",
        "\n",
        "print(final_summary)"
      ],
      "execution_count": null,
      "outputs": [
        {
          "output_type": "stream",
          "text": [
            " To be honest, I don’t have the answers. Same failure, yet different responses. Who is right and who is wrong? Neither. Each person has a different mindset that decides their outcome. It was at that point their biggest breakthrough came. Perhaps all those years of perseverance finally paid off. If you settle for less, you will receive less than you deserve and convince yourself you are justified to receive it. It must come from within you. Gnaw away at your problems until you solve them or find a solution. Where are you settling in your life right now? Could you be you playing for bigger stakes than you are? Vision + desire + dedication + patience + daily action leads to astonishing success. Success is a fickle and long game with highs and lows. So become intentional on what you want out of life. Commit to it. Nurture your dreams. Don’t leave your dreams to chance.To be honest, I don’t have the answers.Same failure, yet different responses.Who is right and who is wrong?Neither.Each person has a different mindset that decides their outcome.It was at that point their biggest breakthrough came.Perhaps all those years of perseverance finally paid off.If you settle for less, you will receive less than you deserve and convince yourself you are justified to receive it.It must come from within you.Gnaw away at your problems until you solve them or find a solution.Where are you settling in your life right now?Could you be you playing for bigger stakes than you are?Vision + desire + dedication + patience + daily action leads to astonishing success.Success is a fickle and long game with highs and lows.So become intentional on what you want out of life.Commit to it.Nurture your dreams.Don’t leave your dreams to chance.\n"
          ],
          "name": "stdout"
        }
      ]
    },
    {
      "cell_type": "code",
      "metadata": {
        "id": "OFA5iTTAYo5P"
      },
      "source": [
        "def generate_final_sorted_summary(summary):\n",
        "    final_summary = \"\"\n",
        "    for sentence in summary:\n",
        "        final_summary+=sentence\n",
        "    return final_summary"
      ],
      "execution_count": null,
      "outputs": []
    },
    {
      "cell_type": "code",
      "metadata": {
        "id": "T2sEWx-zbx9n"
      },
      "source": [
        "document1 = '''\n",
        "We see more upside than downside risk to the upcoming iPhone product cycle and a building Services narrative. Even if\n",
        "device revenue growth slows, Services and Wearables can pick\n",
        "up the slack, delivering 7% revenue and 21% EPS growth\n",
        "annually through CY20, supporting our SOTP-driven $232 PT.\n",
        "Estimates move higher on iPhone ASPs, Services, Wearables.F3Q revenue (+17%\n",
        "Y/Y) beat expectations largely on iPhone ASPs (+20%) and Services (+31%\n",
        "reported,28% normalized) with wearables (+37% Y/Y) maintaining momentum\n",
        "from previous quarters. Sept Q guidance also topped expectations and reflects a\n",
        "similar mid teens revenue growth rate for the overall company despite the more\n",
        "difficult compare from a year ago. The combination of a strong macro\n",
        "environment and an increasingly engaged customer base led to double digit\n",
        "growth in all regions on a sell-in basis during the June quarter. After flowing\n",
        "through the stronger results - namely higher F4Q revenue, slightly offset by\n",
        "higher OpEx, plus stronger LT Services and wearables growth - our FY18 EPS\n",
        "increases to $11.75 (from $11.45) and FY19 EPS increases to $14.12(from $14.00).\n",
        "Our $232 SOTP-driven price target is unchanged after raising our revenue\n",
        "forecast modestly, shifting to CY19,and considering recent multiple compression\n",
        "at Services peers (Facebook, Tencent, Alibaba).\n",
        "What we learnedfrom Apple'sF3Q18 earnings:\n",
        "(+) Services narrativegains momentum with references to strong pipeline of\n",
        "new services. Services revenue grew 31% Y/Y,above consensus expectations of\n",
        "26% Y/Y and more in-line with our 32% Y/Y forecast. However, backing out a\n",
        "$236M one-time legal benefit implies 28% Y/Y normalized growth. In the June\n",
        "quarter, paid subscriptions to Apple Services topped 300M users (+60% Y/Y)\n",
        "and the App Store, AppleCare, Apple Music, iCloud and Apple Pay all setnew\n",
        "June quarterly revenue records.For the App Store, results were even more\n",
        "impressive when considering the Chinese government reportedly slowed the\n",
        "process of new app approvals in the quarter (China is biggest App Store country\n",
        "in the world),although approvals appear to be accelerating in recent weeks.\n",
        "Importantly, management expressed enthusiasm for upcoming \"new\" Services\n",
        "and, for the first time, provided some color on Apple's personnel and partnership\n",
        "investments in original video content,noting they \"aren't really ready to share the\n",
        "details about it yet.\"\n",
        "'''"
      ],
      "execution_count": null,
      "outputs": []
    },
    {
      "cell_type": "code",
      "metadata": {
        "id": "ykK3DczlbJNh",
        "outputId": "80d5c7ab-b7d5-4d9a-c4e8-61a0fe3ab5f1",
        "colab": {
          "base_uri": "https://localhost:8080/",
          "height": 1000
        }
      },
      "source": [
        "result1 = run_summarization(document1)\n",
        "print(result1)"
      ],
      "execution_count": null,
      "outputs": [
        {
          "output_type": "stream",
          "text": [
            "<class 'list'>\n",
            "sentences:\n",
            "\n",
            "['\\nWe see more upside than downside risk to the upcoming iPhone product cycle and a building Services narrative.', 'Even if\\ndevice revenue growth slows, Services and Wearables can pick\\nup the slack, delivering 7% revenue and 21% EPS growth\\nannually through CY20, supporting our SOTP-driven $232 PT.', 'Estimates move higher on iPhone ASPs, Services, Wearables.F3Q revenue (+17%\\nY/Y) beat expectations largely on iPhone ASPs (+20%) and Services (+31%\\nreported,28% normalized) with wearables (+37% Y/Y) maintaining momentum\\nfrom previous quarters.', 'Sept Q guidance also topped expectations and reflects a\\nsimilar mid teens revenue growth rate for the overall company despite the more\\ndifficult compare from a year ago.', 'The combination of a strong macro\\nenvironment and an increasingly engaged customer base led to double digit\\ngrowth in all regions on a sell-in basis during the June quarter.', 'After flowing\\nthrough the stronger results - namely higher F4Q revenue, slightly offset by\\nhigher OpEx, plus stronger LT Services and wearables growth - our FY18 EPS\\nincreases to $11.75 (from $11.45) and FY19 EPS increases to $14.12(from $14.00).', 'Our $232 SOTP-driven price target is unchanged after raising our revenue\\nforecast modestly, shifting to CY19,and considering recent multiple compression\\nat Services peers (Facebook, Tencent, Alibaba).', \"What we learnedfrom Apple'sF3Q18 earnings:\\n(+) Services narrativegains momentum with references to strong pipeline of\\nnew services.\", 'Services revenue grew 31% Y/Y,above consensus expectations of\\n26% Y/Y and more in-line with our 32% Y/Y forecast.', 'However, backing out a\\n$236M one-time legal benefit implies 28% Y/Y normalized growth.', 'In the June\\nquarter, paid subscriptions to Apple Services topped 300M users (+60% Y/Y)\\nand the App Store, AppleCare, Apple Music, iCloud and Apple Pay all setnew\\nJune quarterly revenue records.For the App Store, results were even more\\nimpressive when considering the Chinese government reportedly slowed the\\nprocess of new app approvals in the quarter (China is biggest App Store country\\nin the world),although approvals appear to be accelerating in recent weeks.', 'Importantly, management expressed enthusiasm for upcoming \"new\" Services\\nand, for the first time, provided some color on Apple\\'s personnel and partnership\\ninvestments in original video content,noting they \"aren\\'t really ready to share the\\ndetails about it yet.\"']\n",
            "\n",
            "\n",
            "\n",
            "freq_matrix:\n",
            "\n",
            "{'\\nWe see more up': {'see': 1, 'upsid': 1, 'downsid': 1, 'risk': 1, 'upcom': 1, 'iphon': 1, 'product': 1, 'cycl': 1, 'build': 1, 'servic': 1, 'narr': 1, '.': 1}, 'Even if\\ndevice ': {'even': 1, 'devic': 1, 'revenu': 2, 'growth': 2, 'slow': 1, ',': 3, 'servic': 1, 'wearabl': 1, 'pick': 1, 'slack': 1, 'deliv': 1, '7': 1, '%': 2, '21': 1, 'ep': 1, 'annual': 1, 'cy20': 1, 'support': 1, 'sotp-driven': 1, '$': 1, '232': 1, 'pt': 1, '.': 1}, 'Estimates move ': {'estim': 1, 'move': 1, 'higher': 1, 'iphon': 2, 'asp': 2, ',': 2, 'servic': 2, 'wearables.f3q': 1, 'revenu': 1, '(': 4, '+17': 1, '%': 5, 'y/i': 2, ')': 4, 'beat': 1, 'expect': 1, 'larg': 1, '+20': 1, '+31': 1, 'reported,28': 1, 'normal': 1, 'wearabl': 1, '+37': 1, 'maintain': 1, 'momentum': 1, 'previou': 1, 'quarter': 1, '.': 1}, 'Sept Q guidance': {'sept': 1, 'q': 1, 'guidanc': 1, 'also': 1, 'top': 1, 'expect': 1, 'reflect': 1, 'similar': 1, 'mid': 1, 'teen': 1, 'revenu': 1, 'growth': 1, 'rate': 1, 'overal': 1, 'compani': 1, 'despit': 1, 'difficult': 1, 'compar': 1, 'year': 1, 'ago': 1, '.': 1}, 'The combination': {'combin': 1, 'strong': 1, 'macro': 1, 'environ': 1, 'increasingli': 1, 'engag': 1, 'custom': 1, 'base': 1, 'led': 1, 'doubl': 1, 'digit': 1, 'growth': 1, 'region': 1, 'sell-in': 1, 'basi': 1, 'dure': 1, 'june': 1, 'quarter': 1, '.': 1}, 'After flowing\\nt': {'flow': 1, 'stronger': 2, 'result': 1, '-': 2, 'name': 1, 'higher': 2, 'f4q': 1, 'revenu': 1, ',': 2, 'slightli': 1, 'offset': 1, 'opex': 1, 'plu': 1, 'lt': 1, 'servic': 1, 'wearabl': 1, 'growth': 1, 'fy18': 1, 'ep': 2, 'increas': 2, '$': 4, '11.75': 1, '(': 2, '11.45': 1, ')': 2, 'fy19': 1, '14.12': 1, '14.00': 1, '.': 1}, 'Our $232 SOTP-d': {'$': 1, '232': 1, 'sotp-driven': 1, 'price': 1, 'target': 1, 'unchang': 1, 'rais': 1, 'revenu': 1, 'forecast': 1, 'modestli': 1, ',': 4, 'shift': 1, 'cy19': 1, 'consid': 1, 'recent': 1, 'multipl': 1, 'compress': 1, 'servic': 1, 'peer': 1, '(': 1, 'facebook': 1, 'tencent': 1, 'alibaba': 1, ')': 1, '.': 1}, 'What we learned': {'learnedfrom': 1, \"apple'sf3q18\": 1, 'earn': 1, ':': 1, '(': 1, '+': 1, ')': 1, 'servic': 2, 'narrativegain': 1, 'momentum': 1, 'refer': 1, 'strong': 1, 'pipelin': 1, 'new': 1, '.': 1}, 'Services revenu': {'servic': 1, 'revenu': 1, 'grew': 1, '31': 1, '%': 3, 'y/i': 3, ',': 1, 'abov': 1, 'consensu': 1, 'expect': 1, '26': 1, 'in-lin': 1, '32': 1, 'forecast': 1, '.': 1}, 'However, backin': {'howev': 1, ',': 1, 'back': 1, '$': 1, '236m': 1, 'one-tim': 1, 'legal': 1, 'benefit': 1, 'impli': 1, '28': 1, '%': 1, 'y/i': 1, 'normal': 1, 'growth': 1, '.': 1}, 'In the June\\nqua': {'june': 2, 'quarter': 2, ',': 6, 'paid': 1, 'subscript': 1, 'appl': 3, 'servic': 1, 'top': 1, '300m': 1, 'user': 1, '(': 2, '+60': 1, '%': 1, 'y/i': 1, ')': 2, 'app': 4, 'store': 3, 'applecar': 1, 'music': 1, 'icloud': 1, 'pay': 1, 'setnew': 1, 'quarterli': 1, 'revenu': 1, 'records.for': 1, 'result': 1, 'even': 1, 'impress': 1, 'consid': 1, 'chines': 1, 'govern': 1, 'reportedli': 1, 'slow': 1, 'process': 1, 'new': 1, 'approv': 2, 'china': 1, 'biggest': 1, 'countri': 1, 'world': 1, 'although': 1, 'appear': 1, 'acceler': 1, 'recent': 1, 'week': 1, '.': 1}, 'Importantly, ma': {'importantli': 1, ',': 4, 'manag': 1, 'express': 1, 'enthusiasm': 1, 'upcom': 1, '``': 2, 'new': 1, \"''\": 2, 'servic': 1, 'first': 1, 'time': 1, 'provid': 1, 'color': 1, 'appl': 1, \"'s\": 1, 'personnel': 1, 'partnership': 1, 'invest': 1, 'origin': 1, 'video': 1, 'content': 1, 'note': 1, \"n't\": 1, 'realli': 1, 'readi': 1, 'share': 1, 'detail': 1, 'yet': 1, '.': 1}}\n",
            "\n",
            "\n",
            "\n",
            "tf_matrix:\n",
            "\n",
            "{'\\nWe see more up': {'see': 0.08333333333333333, 'upsid': 0.08333333333333333, 'downsid': 0.08333333333333333, 'risk': 0.08333333333333333, 'upcom': 0.08333333333333333, 'iphon': 0.08333333333333333, 'product': 0.08333333333333333, 'cycl': 0.08333333333333333, 'build': 0.08333333333333333, 'servic': 0.08333333333333333, 'narr': 0.08333333333333333, '.': 0.08333333333333333}, 'Even if\\ndevice ': {'even': 0.043478260869565216, 'devic': 0.043478260869565216, 'revenu': 0.08695652173913043, 'growth': 0.08695652173913043, 'slow': 0.043478260869565216, ',': 0.13043478260869565, 'servic': 0.043478260869565216, 'wearabl': 0.043478260869565216, 'pick': 0.043478260869565216, 'slack': 0.043478260869565216, 'deliv': 0.043478260869565216, '7': 0.043478260869565216, '%': 0.08695652173913043, '21': 0.043478260869565216, 'ep': 0.043478260869565216, 'annual': 0.043478260869565216, 'cy20': 0.043478260869565216, 'support': 0.043478260869565216, 'sotp-driven': 0.043478260869565216, '$': 0.043478260869565216, '232': 0.043478260869565216, 'pt': 0.043478260869565216, '.': 0.043478260869565216}, 'Estimates move ': {'estim': 0.03571428571428571, 'move': 0.03571428571428571, 'higher': 0.03571428571428571, 'iphon': 0.07142857142857142, 'asp': 0.07142857142857142, ',': 0.07142857142857142, 'servic': 0.07142857142857142, 'wearables.f3q': 0.03571428571428571, 'revenu': 0.03571428571428571, '(': 0.14285714285714285, '+17': 0.03571428571428571, '%': 0.17857142857142858, 'y/i': 0.07142857142857142, ')': 0.14285714285714285, 'beat': 0.03571428571428571, 'expect': 0.03571428571428571, 'larg': 0.03571428571428571, '+20': 0.03571428571428571, '+31': 0.03571428571428571, 'reported,28': 0.03571428571428571, 'normal': 0.03571428571428571, 'wearabl': 0.03571428571428571, '+37': 0.03571428571428571, 'maintain': 0.03571428571428571, 'momentum': 0.03571428571428571, 'previou': 0.03571428571428571, 'quarter': 0.03571428571428571, '.': 0.03571428571428571}, 'Sept Q guidance': {'sept': 0.047619047619047616, 'q': 0.047619047619047616, 'guidanc': 0.047619047619047616, 'also': 0.047619047619047616, 'top': 0.047619047619047616, 'expect': 0.047619047619047616, 'reflect': 0.047619047619047616, 'similar': 0.047619047619047616, 'mid': 0.047619047619047616, 'teen': 0.047619047619047616, 'revenu': 0.047619047619047616, 'growth': 0.047619047619047616, 'rate': 0.047619047619047616, 'overal': 0.047619047619047616, 'compani': 0.047619047619047616, 'despit': 0.047619047619047616, 'difficult': 0.047619047619047616, 'compar': 0.047619047619047616, 'year': 0.047619047619047616, 'ago': 0.047619047619047616, '.': 0.047619047619047616}, 'The combination': {'combin': 0.05263157894736842, 'strong': 0.05263157894736842, 'macro': 0.05263157894736842, 'environ': 0.05263157894736842, 'increasingli': 0.05263157894736842, 'engag': 0.05263157894736842, 'custom': 0.05263157894736842, 'base': 0.05263157894736842, 'led': 0.05263157894736842, 'doubl': 0.05263157894736842, 'digit': 0.05263157894736842, 'growth': 0.05263157894736842, 'region': 0.05263157894736842, 'sell-in': 0.05263157894736842, 'basi': 0.05263157894736842, 'dure': 0.05263157894736842, 'june': 0.05263157894736842, 'quarter': 0.05263157894736842, '.': 0.05263157894736842}, 'After flowing\\nt': {'flow': 0.034482758620689655, 'stronger': 0.06896551724137931, 'result': 0.034482758620689655, '-': 0.06896551724137931, 'name': 0.034482758620689655, 'higher': 0.06896551724137931, 'f4q': 0.034482758620689655, 'revenu': 0.034482758620689655, ',': 0.06896551724137931, 'slightli': 0.034482758620689655, 'offset': 0.034482758620689655, 'opex': 0.034482758620689655, 'plu': 0.034482758620689655, 'lt': 0.034482758620689655, 'servic': 0.034482758620689655, 'wearabl': 0.034482758620689655, 'growth': 0.034482758620689655, 'fy18': 0.034482758620689655, 'ep': 0.06896551724137931, 'increas': 0.06896551724137931, '$': 0.13793103448275862, '11.75': 0.034482758620689655, '(': 0.06896551724137931, '11.45': 0.034482758620689655, ')': 0.06896551724137931, 'fy19': 0.034482758620689655, '14.12': 0.034482758620689655, '14.00': 0.034482758620689655, '.': 0.034482758620689655}, 'Our $232 SOTP-d': {'$': 0.04, '232': 0.04, 'sotp-driven': 0.04, 'price': 0.04, 'target': 0.04, 'unchang': 0.04, 'rais': 0.04, 'revenu': 0.04, 'forecast': 0.04, 'modestli': 0.04, ',': 0.16, 'shift': 0.04, 'cy19': 0.04, 'consid': 0.04, 'recent': 0.04, 'multipl': 0.04, 'compress': 0.04, 'servic': 0.04, 'peer': 0.04, '(': 0.04, 'facebook': 0.04, 'tencent': 0.04, 'alibaba': 0.04, ')': 0.04, '.': 0.04}, 'What we learned': {'learnedfrom': 0.06666666666666667, \"apple'sf3q18\": 0.06666666666666667, 'earn': 0.06666666666666667, ':': 0.06666666666666667, '(': 0.06666666666666667, '+': 0.06666666666666667, ')': 0.06666666666666667, 'servic': 0.13333333333333333, 'narrativegain': 0.06666666666666667, 'momentum': 0.06666666666666667, 'refer': 0.06666666666666667, 'strong': 0.06666666666666667, 'pipelin': 0.06666666666666667, 'new': 0.06666666666666667, '.': 0.06666666666666667}, 'Services revenu': {'servic': 0.06666666666666667, 'revenu': 0.06666666666666667, 'grew': 0.06666666666666667, '31': 0.06666666666666667, '%': 0.2, 'y/i': 0.2, ',': 0.06666666666666667, 'abov': 0.06666666666666667, 'consensu': 0.06666666666666667, 'expect': 0.06666666666666667, '26': 0.06666666666666667, 'in-lin': 0.06666666666666667, '32': 0.06666666666666667, 'forecast': 0.06666666666666667, '.': 0.06666666666666667}, 'However, backin': {'howev': 0.06666666666666667, ',': 0.06666666666666667, 'back': 0.06666666666666667, '$': 0.06666666666666667, '236m': 0.06666666666666667, 'one-tim': 0.06666666666666667, 'legal': 0.06666666666666667, 'benefit': 0.06666666666666667, 'impli': 0.06666666666666667, '28': 0.06666666666666667, '%': 0.06666666666666667, 'y/i': 0.06666666666666667, 'normal': 0.06666666666666667, 'growth': 0.06666666666666667, '.': 0.06666666666666667}, 'In the June\\nqua': {'june': 0.043478260869565216, 'quarter': 0.043478260869565216, ',': 0.13043478260869565, 'paid': 0.021739130434782608, 'subscript': 0.021739130434782608, 'appl': 0.06521739130434782, 'servic': 0.021739130434782608, 'top': 0.021739130434782608, '300m': 0.021739130434782608, 'user': 0.021739130434782608, '(': 0.043478260869565216, '+60': 0.021739130434782608, '%': 0.021739130434782608, 'y/i': 0.021739130434782608, ')': 0.043478260869565216, 'app': 0.08695652173913043, 'store': 0.06521739130434782, 'applecar': 0.021739130434782608, 'music': 0.021739130434782608, 'icloud': 0.021739130434782608, 'pay': 0.021739130434782608, 'setnew': 0.021739130434782608, 'quarterli': 0.021739130434782608, 'revenu': 0.021739130434782608, 'records.for': 0.021739130434782608, 'result': 0.021739130434782608, 'even': 0.021739130434782608, 'impress': 0.021739130434782608, 'consid': 0.021739130434782608, 'chines': 0.021739130434782608, 'govern': 0.021739130434782608, 'reportedli': 0.021739130434782608, 'slow': 0.021739130434782608, 'process': 0.021739130434782608, 'new': 0.021739130434782608, 'approv': 0.043478260869565216, 'china': 0.021739130434782608, 'biggest': 0.021739130434782608, 'countri': 0.021739130434782608, 'world': 0.021739130434782608, 'although': 0.021739130434782608, 'appear': 0.021739130434782608, 'acceler': 0.021739130434782608, 'recent': 0.021739130434782608, 'week': 0.021739130434782608, '.': 0.021739130434782608}, 'Importantly, ma': {'importantli': 0.03333333333333333, ',': 0.13333333333333333, 'manag': 0.03333333333333333, 'express': 0.03333333333333333, 'enthusiasm': 0.03333333333333333, 'upcom': 0.03333333333333333, '``': 0.06666666666666667, 'new': 0.03333333333333333, \"''\": 0.06666666666666667, 'servic': 0.03333333333333333, 'first': 0.03333333333333333, 'time': 0.03333333333333333, 'provid': 0.03333333333333333, 'color': 0.03333333333333333, 'appl': 0.03333333333333333, \"'s\": 0.03333333333333333, 'personnel': 0.03333333333333333, 'partnership': 0.03333333333333333, 'invest': 0.03333333333333333, 'origin': 0.03333333333333333, 'video': 0.03333333333333333, 'content': 0.03333333333333333, 'note': 0.03333333333333333, \"n't\": 0.03333333333333333, 'realli': 0.03333333333333333, 'readi': 0.03333333333333333, 'share': 0.03333333333333333, 'detail': 0.03333333333333333, 'yet': 0.03333333333333333, '.': 0.03333333333333333}}\n",
            "\n",
            "\n",
            "\n",
            "count_doc_per_words:\n",
            "\n",
            "{'see': 1, 'upsid': 1, 'downsid': 1, 'risk': 1, 'upcom': 2, 'iphon': 2, 'product': 1, 'cycl': 1, 'build': 1, 'servic': 9, 'narr': 1, '.': 12, 'even': 2, 'devic': 1, 'revenu': 7, 'growth': 5, 'slow': 2, ',': 8, 'wearabl': 3, 'pick': 1, 'slack': 1, 'deliv': 1, '7': 1, '%': 5, '21': 1, 'ep': 2, 'annual': 1, 'cy20': 1, 'support': 1, 'sotp-driven': 2, '$': 4, '232': 2, 'pt': 1, 'estim': 1, 'move': 1, 'higher': 2, 'asp': 1, 'wearables.f3q': 1, '(': 5, '+17': 1, 'y/i': 4, ')': 5, 'beat': 1, 'expect': 3, 'larg': 1, '+20': 1, '+31': 1, 'reported,28': 1, 'normal': 2, '+37': 1, 'maintain': 1, 'momentum': 2, 'previou': 1, 'quarter': 3, 'sept': 1, 'q': 1, 'guidanc': 1, 'also': 1, 'top': 2, 'reflect': 1, 'similar': 1, 'mid': 1, 'teen': 1, 'rate': 1, 'overal': 1, 'compani': 1, 'despit': 1, 'difficult': 1, 'compar': 1, 'year': 1, 'ago': 1, 'combin': 1, 'strong': 2, 'macro': 1, 'environ': 1, 'increasingli': 1, 'engag': 1, 'custom': 1, 'base': 1, 'led': 1, 'doubl': 1, 'digit': 1, 'region': 1, 'sell-in': 1, 'basi': 1, 'dure': 1, 'june': 2, 'flow': 1, 'stronger': 1, 'result': 2, '-': 1, 'name': 1, 'f4q': 1, 'slightli': 1, 'offset': 1, 'opex': 1, 'plu': 1, 'lt': 1, 'fy18': 1, 'increas': 1, '11.75': 1, '11.45': 1, 'fy19': 1, '14.12': 1, '14.00': 1, 'price': 1, 'target': 1, 'unchang': 1, 'rais': 1, 'forecast': 2, 'modestli': 1, 'shift': 1, 'cy19': 1, 'consid': 2, 'recent': 2, 'multipl': 1, 'compress': 1, 'peer': 1, 'facebook': 1, 'tencent': 1, 'alibaba': 1, 'learnedfrom': 1, \"apple'sf3q18\": 1, 'earn': 1, ':': 1, '+': 1, 'narrativegain': 1, 'refer': 1, 'pipelin': 1, 'new': 3, 'grew': 1, '31': 1, 'abov': 1, 'consensu': 1, '26': 1, 'in-lin': 1, '32': 1, 'howev': 1, 'back': 1, '236m': 1, 'one-tim': 1, 'legal': 1, 'benefit': 1, 'impli': 1, '28': 1, 'paid': 1, 'subscript': 1, 'appl': 2, '300m': 1, 'user': 1, '+60': 1, 'app': 1, 'store': 1, 'applecar': 1, 'music': 1, 'icloud': 1, 'pay': 1, 'setnew': 1, 'quarterli': 1, 'records.for': 1, 'impress': 1, 'chines': 1, 'govern': 1, 'reportedli': 1, 'process': 1, 'approv': 1, 'china': 1, 'biggest': 1, 'countri': 1, 'world': 1, 'although': 1, 'appear': 1, 'acceler': 1, 'week': 1, 'importantli': 1, 'manag': 1, 'express': 1, 'enthusiasm': 1, '``': 1, \"''\": 1, 'first': 1, 'time': 1, 'provid': 1, 'color': 1, \"'s\": 1, 'personnel': 1, 'partnership': 1, 'invest': 1, 'origin': 1, 'video': 1, 'content': 1, 'note': 1, \"n't\": 1, 'realli': 1, 'readi': 1, 'share': 1, 'detail': 1, 'yet': 1}\n",
            "\n",
            "\n",
            "\n",
            "idf_matrix:\n",
            "\n",
            "{'\\nWe see more up': {'see': 1.0791812460476249, 'upsid': 1.0791812460476249, 'downsid': 1.0791812460476249, 'risk': 1.0791812460476249, 'upcom': 0.7781512503836436, 'iphon': 0.7781512503836436, 'product': 1.0791812460476249, 'cycl': 1.0791812460476249, 'build': 1.0791812460476249, 'servic': 0.12493873660829992, 'narr': 1.0791812460476249, '.': 0.0}, 'Even if\\ndevice ': {'even': 0.7781512503836436, 'devic': 1.0791812460476249, 'revenu': 0.23408320603336794, 'growth': 0.38021124171160603, 'slow': 0.7781512503836436, ',': 0.17609125905568124, 'servic': 0.12493873660829992, 'wearabl': 0.6020599913279624, 'pick': 1.0791812460476249, 'slack': 1.0791812460476249, 'deliv': 1.0791812460476249, '7': 1.0791812460476249, '%': 0.38021124171160603, '21': 1.0791812460476249, 'ep': 0.7781512503836436, 'annual': 1.0791812460476249, 'cy20': 1.0791812460476249, 'support': 1.0791812460476249, 'sotp-driven': 0.7781512503836436, '$': 0.47712125471966244, '232': 0.7781512503836436, 'pt': 1.0791812460476249, '.': 0.0}, 'Estimates move ': {'estim': 1.0791812460476249, 'move': 1.0791812460476249, 'higher': 0.7781512503836436, 'iphon': 0.7781512503836436, 'asp': 1.0791812460476249, ',': 0.17609125905568124, 'servic': 0.12493873660829992, 'wearables.f3q': 1.0791812460476249, 'revenu': 0.23408320603336794, '(': 0.38021124171160603, '+17': 1.0791812460476249, '%': 0.38021124171160603, 'y/i': 0.47712125471966244, ')': 0.38021124171160603, 'beat': 1.0791812460476249, 'expect': 0.6020599913279624, 'larg': 1.0791812460476249, '+20': 1.0791812460476249, '+31': 1.0791812460476249, 'reported,28': 1.0791812460476249, 'normal': 0.7781512503836436, 'wearabl': 0.6020599913279624, '+37': 1.0791812460476249, 'maintain': 1.0791812460476249, 'momentum': 0.7781512503836436, 'previou': 1.0791812460476249, 'quarter': 0.6020599913279624, '.': 0.0}, 'Sept Q guidance': {'sept': 1.0791812460476249, 'q': 1.0791812460476249, 'guidanc': 1.0791812460476249, 'also': 1.0791812460476249, 'top': 0.7781512503836436, 'expect': 0.6020599913279624, 'reflect': 1.0791812460476249, 'similar': 1.0791812460476249, 'mid': 1.0791812460476249, 'teen': 1.0791812460476249, 'revenu': 0.23408320603336794, 'growth': 0.38021124171160603, 'rate': 1.0791812460476249, 'overal': 1.0791812460476249, 'compani': 1.0791812460476249, 'despit': 1.0791812460476249, 'difficult': 1.0791812460476249, 'compar': 1.0791812460476249, 'year': 1.0791812460476249, 'ago': 1.0791812460476249, '.': 0.0}, 'The combination': {'combin': 1.0791812460476249, 'strong': 0.7781512503836436, 'macro': 1.0791812460476249, 'environ': 1.0791812460476249, 'increasingli': 1.0791812460476249, 'engag': 1.0791812460476249, 'custom': 1.0791812460476249, 'base': 1.0791812460476249, 'led': 1.0791812460476249, 'doubl': 1.0791812460476249, 'digit': 1.0791812460476249, 'growth': 0.38021124171160603, 'region': 1.0791812460476249, 'sell-in': 1.0791812460476249, 'basi': 1.0791812460476249, 'dure': 1.0791812460476249, 'june': 0.7781512503836436, 'quarter': 0.6020599913279624, '.': 0.0}, 'After flowing\\nt': {'flow': 1.0791812460476249, 'stronger': 1.0791812460476249, 'result': 0.7781512503836436, '-': 1.0791812460476249, 'name': 1.0791812460476249, 'higher': 0.7781512503836436, 'f4q': 1.0791812460476249, 'revenu': 0.23408320603336794, ',': 0.17609125905568124, 'slightli': 1.0791812460476249, 'offset': 1.0791812460476249, 'opex': 1.0791812460476249, 'plu': 1.0791812460476249, 'lt': 1.0791812460476249, 'servic': 0.12493873660829992, 'wearabl': 0.6020599913279624, 'growth': 0.38021124171160603, 'fy18': 1.0791812460476249, 'ep': 0.7781512503836436, 'increas': 1.0791812460476249, '$': 0.47712125471966244, '11.75': 1.0791812460476249, '(': 0.38021124171160603, '11.45': 1.0791812460476249, ')': 0.38021124171160603, 'fy19': 1.0791812460476249, '14.12': 1.0791812460476249, '14.00': 1.0791812460476249, '.': 0.0}, 'Our $232 SOTP-d': {'$': 0.47712125471966244, '232': 0.7781512503836436, 'sotp-driven': 0.7781512503836436, 'price': 1.0791812460476249, 'target': 1.0791812460476249, 'unchang': 1.0791812460476249, 'rais': 1.0791812460476249, 'revenu': 0.23408320603336794, 'forecast': 0.7781512503836436, 'modestli': 1.0791812460476249, ',': 0.17609125905568124, 'shift': 1.0791812460476249, 'cy19': 1.0791812460476249, 'consid': 0.7781512503836436, 'recent': 0.7781512503836436, 'multipl': 1.0791812460476249, 'compress': 1.0791812460476249, 'servic': 0.12493873660829992, 'peer': 1.0791812460476249, '(': 0.38021124171160603, 'facebook': 1.0791812460476249, 'tencent': 1.0791812460476249, 'alibaba': 1.0791812460476249, ')': 0.38021124171160603, '.': 0.0}, 'What we learned': {'learnedfrom': 1.0791812460476249, \"apple'sf3q18\": 1.0791812460476249, 'earn': 1.0791812460476249, ':': 1.0791812460476249, '(': 0.38021124171160603, '+': 1.0791812460476249, ')': 0.38021124171160603, 'servic': 0.12493873660829992, 'narrativegain': 1.0791812460476249, 'momentum': 0.7781512503836436, 'refer': 1.0791812460476249, 'strong': 0.7781512503836436, 'pipelin': 1.0791812460476249, 'new': 0.6020599913279624, '.': 0.0}, 'Services revenu': {'servic': 0.12493873660829992, 'revenu': 0.23408320603336794, 'grew': 1.0791812460476249, '31': 1.0791812460476249, '%': 0.38021124171160603, 'y/i': 0.47712125471966244, ',': 0.17609125905568124, 'abov': 1.0791812460476249, 'consensu': 1.0791812460476249, 'expect': 0.6020599913279624, '26': 1.0791812460476249, 'in-lin': 1.0791812460476249, '32': 1.0791812460476249, 'forecast': 0.7781512503836436, '.': 0.0}, 'However, backin': {'howev': 1.0791812460476249, ',': 0.17609125905568124, 'back': 1.0791812460476249, '$': 0.47712125471966244, '236m': 1.0791812460476249, 'one-tim': 1.0791812460476249, 'legal': 1.0791812460476249, 'benefit': 1.0791812460476249, 'impli': 1.0791812460476249, '28': 1.0791812460476249, '%': 0.38021124171160603, 'y/i': 0.47712125471966244, 'normal': 0.7781512503836436, 'growth': 0.38021124171160603, '.': 0.0}, 'In the June\\nqua': {'june': 0.7781512503836436, 'quarter': 0.6020599913279624, ',': 0.17609125905568124, 'paid': 1.0791812460476249, 'subscript': 1.0791812460476249, 'appl': 0.7781512503836436, 'servic': 0.12493873660829992, 'top': 0.7781512503836436, '300m': 1.0791812460476249, 'user': 1.0791812460476249, '(': 0.38021124171160603, '+60': 1.0791812460476249, '%': 0.38021124171160603, 'y/i': 0.47712125471966244, ')': 0.38021124171160603, 'app': 1.0791812460476249, 'store': 1.0791812460476249, 'applecar': 1.0791812460476249, 'music': 1.0791812460476249, 'icloud': 1.0791812460476249, 'pay': 1.0791812460476249, 'setnew': 1.0791812460476249, 'quarterli': 1.0791812460476249, 'revenu': 0.23408320603336794, 'records.for': 1.0791812460476249, 'result': 0.7781512503836436, 'even': 0.7781512503836436, 'impress': 1.0791812460476249, 'consid': 0.7781512503836436, 'chines': 1.0791812460476249, 'govern': 1.0791812460476249, 'reportedli': 1.0791812460476249, 'slow': 0.7781512503836436, 'process': 1.0791812460476249, 'new': 0.6020599913279624, 'approv': 1.0791812460476249, 'china': 1.0791812460476249, 'biggest': 1.0791812460476249, 'countri': 1.0791812460476249, 'world': 1.0791812460476249, 'although': 1.0791812460476249, 'appear': 1.0791812460476249, 'acceler': 1.0791812460476249, 'recent': 0.7781512503836436, 'week': 1.0791812460476249, '.': 0.0}, 'Importantly, ma': {'importantli': 1.0791812460476249, ',': 0.17609125905568124, 'manag': 1.0791812460476249, 'express': 1.0791812460476249, 'enthusiasm': 1.0791812460476249, 'upcom': 0.7781512503836436, '``': 1.0791812460476249, 'new': 0.6020599913279624, \"''\": 1.0791812460476249, 'servic': 0.12493873660829992, 'first': 1.0791812460476249, 'time': 1.0791812460476249, 'provid': 1.0791812460476249, 'color': 1.0791812460476249, 'appl': 0.7781512503836436, \"'s\": 1.0791812460476249, 'personnel': 1.0791812460476249, 'partnership': 1.0791812460476249, 'invest': 1.0791812460476249, 'origin': 1.0791812460476249, 'video': 1.0791812460476249, 'content': 1.0791812460476249, 'note': 1.0791812460476249, \"n't\": 1.0791812460476249, 'realli': 1.0791812460476249, 'readi': 1.0791812460476249, 'share': 1.0791812460476249, 'detail': 1.0791812460476249, 'yet': 1.0791812460476249, '.': 0.0}}\n",
            "\n",
            "\n",
            "\n",
            "tf_idf_matrix:\n",
            "\n",
            "{'\\nWe see more up': {'see': 0.08993177050396874, 'upsid': 0.08993177050396874, 'downsid': 0.08993177050396874, 'risk': 0.08993177050396874, 'upcom': 0.0648459375319703, 'iphon': 0.0648459375319703, 'product': 0.08993177050396874, 'cycl': 0.08993177050396874, 'build': 0.08993177050396874, 'servic': 0.010411561384024992, 'narr': 0.08993177050396874, '.': 0.0}, 'Even if\\ndevice ': {'even': 0.03383266306015842, 'devic': 0.04692092374120108, 'revenu': 0.020355061394205908, 'growth': 0.03306184710535705, 'slow': 0.03383266306015842, ',': 0.022968425094219293, 'servic': 0.005432118982969561, 'wearabl': 0.02617652136208532, 'pick': 0.04692092374120108, 'slack': 0.04692092374120108, 'deliv': 0.04692092374120108, '7': 0.04692092374120108, '%': 0.03306184710535705, '21': 0.04692092374120108, 'ep': 0.03383266306015842, 'annual': 0.04692092374120108, 'cy20': 0.04692092374120108, 'support': 0.04692092374120108, 'sotp-driven': 0.03383266306015842, '$': 0.020744402379115758, '232': 0.03383266306015842, 'pt': 0.04692092374120108, '.': 0.0}, 'Estimates move ': {'estim': 0.038542187358843745, 'move': 0.038542187358843745, 'higher': 0.02779111608513013, 'iphon': 0.05558223217026026, 'asp': 0.07708437471768749, ',': 0.012577947075405802, 'servic': 0.008924195472021423, 'wearables.f3q': 0.038542187358843745, 'revenu': 0.008360114501191711, '(': 0.05431589167308657, '+17': 0.038542187358843745, '%': 0.06789486459135823, 'y/i': 0.03408008962283303, ')': 0.05431589167308657, 'beat': 0.038542187358843745, 'expect': 0.021502142547427227, 'larg': 0.038542187358843745, '+20': 0.038542187358843745, '+31': 0.038542187358843745, 'reported,28': 0.038542187358843745, 'normal': 0.02779111608513013, 'wearabl': 0.021502142547427227, '+37': 0.038542187358843745, 'maintain': 0.038542187358843745, 'momentum': 0.02779111608513013, 'previou': 0.038542187358843745, 'quarter': 0.021502142547427227, '.': 0.0}, 'Sept Q guidance': {'sept': 0.05138958314512499, 'q': 0.05138958314512499, 'guidanc': 0.05138958314512499, 'also': 0.05138958314512499, 'top': 0.03705482144684017, 'expect': 0.028669523396569637, 'reflect': 0.05138958314512499, 'similar': 0.05138958314512499, 'mid': 0.05138958314512499, 'teen': 0.05138958314512499, 'revenu': 0.011146819334922281, 'growth': 0.01810529722436219, 'rate': 0.05138958314512499, 'overal': 0.05138958314512499, 'compani': 0.05138958314512499, 'despit': 0.05138958314512499, 'difficult': 0.05138958314512499, 'compar': 0.05138958314512499, 'year': 0.05138958314512499, 'ago': 0.05138958314512499, '.': 0.0}, 'The combination': {'combin': 0.056799012949874994, 'strong': 0.04095532896756019, 'macro': 0.056799012949874994, 'environ': 0.056799012949874994, 'increasingli': 0.056799012949874994, 'engag': 0.056799012949874994, 'custom': 0.056799012949874994, 'base': 0.056799012949874994, 'led': 0.056799012949874994, 'doubl': 0.056799012949874994, 'digit': 0.056799012949874994, 'growth': 0.02001111798482137, 'region': 0.056799012949874994, 'sell-in': 0.056799012949874994, 'basi': 0.056799012949874994, 'dure': 0.056799012949874994, 'june': 0.04095532896756019, 'quarter': 0.0316873679646296, '.': 0.0}, 'After flowing\\nt': {'flow': 0.03721314641543534, 'stronger': 0.07442629283087068, 'result': 0.02683280173736702, '-': 0.07442629283087068, 'name': 0.03721314641543534, 'higher': 0.05366560347473404, 'f4q': 0.03721314641543534, 'revenu': 0.008071834690805791, ',': 0.012144224762460775, 'slightli': 0.03721314641543534, 'offset': 0.03721314641543534, 'opex': 0.03721314641543534, 'plu': 0.03721314641543534, 'lt': 0.03721314641543534, 'servic': 0.004308232296837928, 'wearabl': 0.020760689356136633, 'growth': 0.013110732472814001, 'fy18': 0.03721314641543534, 'ep': 0.05366560347473404, 'increas': 0.07442629283087068, '$': 0.06580982823719482, '11.75': 0.03721314641543534, '(': 0.026221464945628003, '11.45': 0.03721314641543534, ')': 0.026221464945628003, 'fy19': 0.03721314641543534, '14.12': 0.03721314641543534, '14.00': 0.03721314641543534, '.': 0.0}, 'Our $232 SOTP-d': {'$': 0.019084850188786497, '232': 0.031126050015345744, 'sotp-driven': 0.031126050015345744, 'price': 0.043167249841904995, 'target': 0.043167249841904995, 'unchang': 0.043167249841904995, 'rais': 0.043167249841904995, 'revenu': 0.009363328241334718, 'forecast': 0.031126050015345744, 'modestli': 0.043167249841904995, ',': 0.028174601448908997, 'shift': 0.043167249841904995, 'cy19': 0.043167249841904995, 'consid': 0.031126050015345744, 'recent': 0.031126050015345744, 'multipl': 0.043167249841904995, 'compress': 0.043167249841904995, 'servic': 0.004997549464331997, 'peer': 0.043167249841904995, '(': 0.015208449668464241, 'facebook': 0.043167249841904995, 'tencent': 0.043167249841904995, 'alibaba': 0.043167249841904995, ')': 0.015208449668464241, '.': 0.0}, 'What we learned': {'learnedfrom': 0.07194541640317499, \"apple'sf3q18\": 0.07194541640317499, 'earn': 0.07194541640317499, ':': 0.07194541640317499, '(': 0.02534741611410707, '+': 0.07194541640317499, ')': 0.02534741611410707, 'servic': 0.016658498214439987, 'narrativegain': 0.07194541640317499, 'momentum': 0.05187675002557624, 'refer': 0.07194541640317499, 'strong': 0.05187675002557624, 'pipelin': 0.07194541640317499, 'new': 0.04013733275519749, '.': 0.0}, 'Services revenu': {'servic': 0.008329249107219994, 'revenu': 0.015605547068891196, 'grew': 0.07194541640317499, '31': 0.07194541640317499, '%': 0.0760422483423212, 'y/i': 0.09542425094393249, ',': 0.01173941727037875, 'abov': 0.07194541640317499, 'consensu': 0.07194541640317499, 'expect': 0.04013733275519749, '26': 0.07194541640317499, 'in-lin': 0.07194541640317499, '32': 0.07194541640317499, 'forecast': 0.05187675002557624, '.': 0.0}, 'However, backin': {'howev': 0.07194541640317499, ',': 0.01173941727037875, 'back': 0.07194541640317499, '$': 0.03180808364797749, '236m': 0.07194541640317499, 'one-tim': 0.07194541640317499, 'legal': 0.07194541640317499, 'benefit': 0.07194541640317499, 'impli': 0.07194541640317499, '28': 0.07194541640317499, '%': 0.02534741611410707, 'y/i': 0.03180808364797749, 'normal': 0.05187675002557624, 'growth': 0.02534741611410707, '.': 0.0}, 'In the June\\nqua': {'june': 0.03383266306015842, 'quarter': 0.02617652136208532, ',': 0.022968425094219293, 'paid': 0.02346046187060054, 'subscript': 0.02346046187060054, 'appl': 0.05074899459023763, 'servic': 0.0027160594914847807, 'top': 0.01691633153007921, '300m': 0.02346046187060054, 'user': 0.02346046187060054, '(': 0.016530923552678524, '+60': 0.02346046187060054, '%': 0.008265461776339262, 'y/i': 0.010372201189557879, ')': 0.016530923552678524, 'app': 0.09384184748240217, 'store': 0.07038138561180163, 'applecar': 0.02346046187060054, 'music': 0.02346046187060054, 'icloud': 0.02346046187060054, 'pay': 0.02346046187060054, 'setnew': 0.02346046187060054, 'quarterli': 0.02346046187060054, 'revenu': 0.005088765348551477, 'records.for': 0.02346046187060054, 'result': 0.01691633153007921, 'even': 0.01691633153007921, 'impress': 0.02346046187060054, 'consid': 0.01691633153007921, 'chines': 0.02346046187060054, 'govern': 0.02346046187060054, 'reportedli': 0.02346046187060054, 'slow': 0.01691633153007921, 'process': 0.02346046187060054, 'new': 0.01308826068104266, 'approv': 0.04692092374120108, 'china': 0.02346046187060054, 'biggest': 0.02346046187060054, 'countri': 0.02346046187060054, 'world': 0.02346046187060054, 'although': 0.02346046187060054, 'appear': 0.02346046187060054, 'acceler': 0.02346046187060054, 'recent': 0.01691633153007921, 'week': 0.02346046187060054, '.': 0.0}, 'Importantly, ma': {'importantli': 0.035972708201587496, ',': 0.0234788345407575, 'manag': 0.035972708201587496, 'express': 0.035972708201587496, 'enthusiasm': 0.035972708201587496, 'upcom': 0.02593837501278812, '``': 0.07194541640317499, 'new': 0.020068666377598746, \"''\": 0.07194541640317499, 'servic': 0.004164624553609997, 'first': 0.035972708201587496, 'time': 0.035972708201587496, 'provid': 0.035972708201587496, 'color': 0.035972708201587496, 'appl': 0.02593837501278812, \"'s\": 0.035972708201587496, 'personnel': 0.035972708201587496, 'partnership': 0.035972708201587496, 'invest': 0.035972708201587496, 'origin': 0.035972708201587496, 'video': 0.035972708201587496, 'content': 0.035972708201587496, 'note': 0.035972708201587496, \"n't\": 0.035972708201587496, 'realli': 0.035972708201587496, 'readi': 0.035972708201587496, 'share': 0.035972708201587496, 'detail': 0.035972708201587496, 'yet': 0.035972708201587496, '.': 0.0}}\n",
            "\n",
            "\n",
            "\n",
            "sentence_scores:\n",
            "\n",
            "{'\\nWe see more up': 0.07162980003997628, 'Even if\\ndevice ': 0.03479012070157012, 'Estimates move ': 0.03512577234645458, 'Sept Q guidance': 0.04367665674879496, 'The combination': 0.048883964483306376, 'After flowing\\nt': 0.036381910644932694, 'Our $232 SOTP-d': 0.032353669068071376, 'What we learned': 0.05245383296496027, 'Services revenu': 0.05351818068904948, 'However, backin': 0.0502326998697016, 'In the June\\nqua': 0.024032019401737565, 'Importantly, ma': 0.03449597629129391}\n",
            "\n",
            "\n",
            "\n",
            "threshold:\n",
            "\n",
            "0.04313121693748743\n",
            "\n",
            "\n",
            "\n",
            "\n",
            "We see more upside than downside risk to the upcoming iPhone product cycle and a building Services narrative. Sept Q guidance also topped expectations and reflects a\n",
            "similar mid teens revenue growth rate for the overall company despite the more\n",
            "difficult compare from a year ago. The combination of a strong macro\n",
            "environment and an increasingly engaged customer base led to double digit\n",
            "growth in all regions on a sell-in basis during the June quarter. What we learnedfrom Apple'sF3Q18 earnings:\n",
            "(+) Services narrativegains momentum with references to strong pipeline of\n",
            "new services. Services revenue grew 31% Y/Y,above consensus expectations of\n",
            "26% Y/Y and more in-line with our 32% Y/Y forecast. However, backing out a\n",
            "$236M one-time legal benefit implies 28% Y/Y normalized growth.\n"
          ],
          "name": "stdout"
        }
      ]
    },
    {
      "cell_type": "code",
      "metadata": {
        "id": "08X2EWMTYvT1"
      },
      "source": [
        "sentence1 = sent_tokenize(document1)\n",
        "summary1 = sent_tokenize(result1)\n",
        "res1 = [sentence1[x] for x in range(len(sentence1)) if sentence1[x] in summary1]"
      ],
      "execution_count": null,
      "outputs": []
    },
    {
      "cell_type": "code",
      "metadata": {
        "id": "Y0-vmNVcY4Y7",
        "outputId": "08b3f5a3-8516-4ddb-c46b-11e473fa791e",
        "colab": {
          "base_uri": "https://localhost:8080/",
          "height": 139
        }
      },
      "source": [
        "res1               ##sorting is already being done in _generate_summary"
      ],
      "execution_count": null,
      "outputs": [
        {
          "output_type": "execute_result",
          "data": {
            "text/plain": [
              "['\\nWe see more upside than downside risk to the upcoming iPhone product cycle and a building Services narrative.',\n",
              " 'Sept Q guidance also topped expectations and reflects a\\nsimilar mid teens revenue growth rate for the overall company despite the more\\ndifficult compare from a year ago.',\n",
              " 'The combination of a strong macro\\nenvironment and an increasingly engaged customer base led to double digit\\ngrowth in all regions on a sell-in basis during the June quarter.',\n",
              " \"What we learnedfrom Apple'sF3Q18 earnings:\\n(+) Services narrativegains momentum with references to strong pipeline of\\nnew services.\",\n",
              " 'Services revenue grew 31% Y/Y,above consensus expectations of\\n26% Y/Y and more in-line with our 32% Y/Y forecast.',\n",
              " 'However, backing out a\\n$236M one-time legal benefit implies 28% Y/Y normalized growth.']"
            ]
          },
          "metadata": {
            "tags": []
          },
          "execution_count": 28
        }
      ]
    },
    {
      "cell_type": "code",
      "metadata": {
        "id": "_VMMZWUnYlaB"
      },
      "source": [
        "final_summary1 = generate_final_sorted_summary(res1)"
      ],
      "execution_count": null,
      "outputs": []
    },
    {
      "cell_type": "code",
      "metadata": {
        "id": "apDvGlWWZMV-",
        "outputId": "546fb688-201f-4a9e-d172-5367a945d2bd",
        "colab": {
          "base_uri": "https://localhost:8080/",
          "height": 54
        }
      },
      "source": [
        "final_summary1"
      ],
      "execution_count": null,
      "outputs": [
        {
          "output_type": "execute_result",
          "data": {
            "text/plain": [
              "\"\\nWe see more upside than downside risk to the upcoming iPhone product cycle and a building Services narrative.Sept Q guidance also topped expectations and reflects a\\nsimilar mid teens revenue growth rate for the overall company despite the more\\ndifficult compare from a year ago.The combination of a strong macro\\nenvironment and an increasingly engaged customer base led to double digit\\ngrowth in all regions on a sell-in basis during the June quarter.What we learnedfrom Apple'sF3Q18 earnings:\\n(+) Services narrativegains momentum with references to strong pipeline of\\nnew services.Services revenue grew 31% Y/Y,above consensus expectations of\\n26% Y/Y and more in-line with our 32% Y/Y forecast.However, backing out a\\n$236M one-time legal benefit implies 28% Y/Y normalized growth.\""
            ]
          },
          "metadata": {
            "tags": []
          },
          "execution_count": 31
        }
      ]
    },
    {
      "cell_type": "code",
      "metadata": {
        "id": "yA0kvpSTNfcM"
      },
      "source": [
        "sentence = [\"abc\",\"def\",\"ghi\",\"jkl\",\"mno\"]\n",
        "summary = [\"ghi\",\"abc\",\"mno\"]\n",
        "\n",
        "res = [sentence[x] for x in range(len(sentence)) if sentence[x] in summary]"
      ],
      "execution_count": null,
      "outputs": []
    },
    {
      "cell_type": "code",
      "metadata": {
        "id": "IrvvfI9zUAfJ",
        "outputId": "2a01cc2e-5d0a-47ac-bcbd-f336f0fdd75d",
        "colab": {
          "base_uri": "https://localhost:8080/",
          "height": 34
        }
      },
      "source": [
        "res"
      ],
      "execution_count": null,
      "outputs": [
        {
          "output_type": "execute_result",
          "data": {
            "text/plain": [
              "['abc', 'ghi', 'mno']"
            ]
          },
          "metadata": {
            "tags": []
          },
          "execution_count": 89
        }
      ]
    },
    {
      "cell_type": "code",
      "metadata": {
        "id": "JzzHQ2YlUBTq"
      },
      "source": [
        ""
      ],
      "execution_count": null,
      "outputs": []
    }
  ]
}