{
  "nbformat": 4,
  "nbformat_minor": 0,
  "metadata": {
    "colab": {
      "name": "Text Summarization In SpaCy Vs Gensim.ipynb",
      "provenance": [],
      "collapsed_sections": [],
      "toc_visible": true,
      "include_colab_link": true
    },
    "language_info": {
      "codemirror_mode": {
        "name": "ipython",
        "version": 3
      },
      "file_extension": ".py",
      "mimetype": "text/x-python",
      "name": "python",
      "nbconvert_exporter": "python",
      "pygments_lexer": "ipython3",
      "version": "3.6.7"
    },
    "kernelspec": {
      "name": "python3",
      "display_name": "Python 3"
    },
    "accelerator": "GPU"
  },
  "cells": [
    {
      "cell_type": "markdown",
      "metadata": {
        "id": "view-in-github",
        "colab_type": "text"
      },
      "source": [
        "<a href=\"https://colab.research.google.com/github/shubhamksingh1/Summarization/blob/main/Text_Summarization_In_SpaCy_Vs_Gensim.ipynb\" target=\"_parent\"><img src=\"https://colab.research.google.com/assets/colab-badge.svg\" alt=\"Open In Colab\"/></a>"
      ]
    },
    {
      "cell_type": "markdown",
      "metadata": {
        "id": "V4A34D-TfICJ"
      },
      "source": [
        "### Text Summarization with SpaCy\n",
        "+ Text summarization is the process of distilling the most important information from a source (or sources) to produce an abridged version for a particular user (or users) and task (or tasks).\n",
        "+  idea of summarization is to find a subset of data which contains the “information” of the entire set\n",
        "+ Main Idea\n",
        "    - Text Preprocessing(remove stopwords,punctuations).\n",
        "1.     - Frequency table of words/Word Frequency Distribution - how many times each word appears in the document\n",
        "    - Score each sentence depending on the words it contains and the frequency table\n",
        "    - Build summary by joining every sentence above a certain score limit"
      ]
    },
    {
      "cell_type": "code",
      "metadata": {
        "id": "nBhsw8CWfPTt",
        "outputId": "55f4df50-2e52-482e-92d2-1ec3142245b0",
        "colab": {
          "base_uri": "https://localhost:8080/",
          "height": 122
        }
      },
      "source": [
        "# Run this cell to mount your Google Drive.\n",
        "from google.colab import drive\n",
        "drive.mount('/content/drive')"
      ],
      "execution_count": null,
      "outputs": [
        {
          "output_type": "stream",
          "text": [
            "Go to this URL in a browser: https://accounts.google.com/o/oauth2/auth?client_id=947318989803-6bn6qk8qdgf4n4g3pfee6491hc0brc4i.apps.googleusercontent.com&redirect_uri=urn%3Aietf%3Awg%3Aoauth%3A2.0%3Aoob&scope=email%20https%3A%2F%2Fwww.googleapis.com%2Fauth%2Fdocs.test%20https%3A%2F%2Fwww.googleapis.com%2Fauth%2Fdrive%20https%3A%2F%2Fwww.googleapis.com%2Fauth%2Fdrive.photos.readonly%20https%3A%2F%2Fwww.googleapis.com%2Fauth%2Fpeopleapi.readonly&response_type=code\n",
            "\n",
            "Enter your authorization code:\n",
            "··········\n",
            "Mounted at /content/drive\n"
          ],
          "name": "stdout"
        }
      ]
    },
    {
      "cell_type": "code",
      "metadata": {
        "trusted": true,
        "id": "3UGnnkw3fICL"
      },
      "source": [
        "# Load Pkgs\n",
        "import spacy \n"
      ],
      "execution_count": null,
      "outputs": []
    },
    {
      "cell_type": "code",
      "metadata": {
        "trusted": true,
        "id": "pvGhF8JwfICP"
      },
      "source": [
        "# Text Preprocessing Pkg\n",
        "from spacy.lang.en.stop_words import STOP_WORDS\n",
        "from string import punctuation"
      ],
      "execution_count": null,
      "outputs": []
    },
    {
      "cell_type": "code",
      "metadata": {
        "trusted": true,
        "id": "6yoDQ1dKfICS"
      },
      "source": [
        "# Build a List of Stopwords\n",
        "stopwords = list(STOP_WORDS)"
      ],
      "execution_count": null,
      "outputs": []
    },
    {
      "cell_type": "code",
      "metadata": {
        "trusted": true,
        "id": "KR68cdtVfICU"
      },
      "source": [
        "document1 =\"\"\"Machine learning (ML) is the scientific study of algorithms and statistical models that computer systems use to progressively improve their performance on a specific task. Machine learning algorithms build a mathematical model of sample data, known as \"training data\", in order to make predictions or decisions without being explicitly programmed to perform the task. Machine learning algorithms are used in the applications of email filtering, detection of network intruders, and computer vision, where it is infeasible to develop an algorithm of specific instructions for performing the task. Machine learning is closely related to computational statistics, which focuses on making predictions using computers. The study of mathematical optimization delivers methods, theory and application domains to the field of machine learning. Data mining is a field of study within machine learning, and focuses on exploratory data analysis through unsupervised learning.In its application across business problems, machine learning is also referred to as predictive analytics.\"\"\""
      ],
      "execution_count": null,
      "outputs": []
    },
    {
      "cell_type": "code",
      "metadata": {
        "trusted": true,
        "id": "BCQn_35BfICX"
      },
      "source": [
        "document2 = \"\"\"Our Father who art in heaven, hallowed be thy name. Thy kingdom come. Thy will be done, on earth as it is in heaven. Give us this day our daily bread; and forgive us our trespasses, as we forgive those who trespass against us; and lead us not into temptation, but deliver us from evil\n",
        "\"\"\""
      ],
      "execution_count": null,
      "outputs": []
    },
    {
      "cell_type": "code",
      "metadata": {
        "id": "9B4MqaftjgKh"
      },
      "source": [
        "document3 = \"Better late than never \" + \\\n",
        "      \"Our optimism has admittedly trailed TCS’ recent \" + \\\n",
        "      \"performance. Our belated upgrade derives from \" + \\\n",
        "      \"confidence on TCS’ growth trajectory, supported by \" + \\\n",
        "      \"(1) Scale and growth dominance of Digital business \" + \\\n",
        "      \"(25% of rev and 45.5% YoY), (2) Growth visibility \" + \\\n",
        "      \"(deal wins), (3) Strong recovery and outlook in BFSI \" + \\\n",
        "      \"vertical (across geos) and NorthAm geography and \" + \\\n",
        "      \"(4) Continuity in efficient capital allocation (80 to \" + \\\n",
        "      \"100% of FCF as payout). \" + \\\n",
        "      \"1QFY19 was inspiring (CC rev +4.1% QoQ) with \" + \\\n",
        "      \"revival in TCS’ core vertical (BFSI) and geography \" + \\\n",
        "      \"(NorthAm). Reported revenue at USD 5,051mn, \" + \\\n",
        "      \"+1.6/10.0% QoQ/YoY was hit by cross currency \" + \\\n",
        "      \"impact. BFSI and NorthAm grew at 3.7% QoQ CC \" + \\\n",
        "      \"each (11/12-qtr high). EBIT margin was in-line at \" + \\\n",
        "      \"25% (-36bps QoQ) as rising and INR depreciation \" + \\\n",
        "      \"offset wage hikes. APAT at Rs 73.62bn was boosted \" + \\\n",
        "      \"by higher other income. \" + \\\n",
        "      \"Book-to-bill stood at 0.97x, with USD 4.9bn deal \" + \\\n",
        "      \"TCV in 1Q (includes USD 1.6bn from BFSI). \" + \\\n",
        "      \"Our estimates rise ~3% as we build in USD rev/EPS \" + \\\n",
        "      \"at 10/14% CAGR over FY18-20E. We have factored \" + \\\n",
        "      \"USD rev growth of 10% and 10.1% for FY19/20E, \" + \\\n",
        "      \"implying 2.3/2.4% CQGR, respectively. EBIT at \" + \\\n",
        "      \"25.5/26.2% is rock steady. Upgrade to BUY (Neutral \" + \\\n",
        "      \"earlier) with TP of Rs 2,130, 24x FY20E (20% \" + \\\n",
        "      \"premium to its 5-yr avg. valuations), supported by \" + \\\n",
        "      \"~4.5% FCF yield and >60% RoIC. \" + \\\n",
        "      \"the target band as currency tailwinds persist.\""
      ],
      "execution_count": null,
      "outputs": []
    },
    {
      "cell_type": "code",
      "metadata": {
        "id": "9VaRP65WHo3x"
      },
      "source": [
        "document4 = \"\"\"Estimates move higher on iPhone ASPs, Services, Wearables.F3Q revenue (+17%Y/Y) beat expectations largely on iPhone ASPs (+20%) and Services (+31%reported,28% normalized) with wearables (+37% Y/Y) maintaining momentum from previous quarters. Sept Q guidance also topped expectations and reflects a similar mid teens revenue growth rate for the overall company despite the more difficult compare from a year ago. The combination of a strong macro environment and an increasingly engaged customer base led to double digit growth in all regions on a sell-in basis during the June quarter. After flowing through the stronger results - namely higher F4Q revenue, slightly offset by higher OpEx, plus stronger LT Services and wearables growth - our FY18 EPS increases to $11.75 (from $11.45) and FY19 EPS increases to $14.12(from $14.00). Our $232 SOTP-driven price target is unchanged after raising our revenue forecast modestly, shifting to CY19,and considering recent multiple compression at Services peers (Facebook, Tencent, Alibaba).\n",
        "\"\"\""
      ],
      "execution_count": null,
      "outputs": []
    },
    {
      "cell_type": "code",
      "metadata": {
        "id": "8pDJzyyxkecD",
        "outputId": "4f37d0d0-f316-439c-cdad-90331261853b",
        "colab": {
          "base_uri": "https://localhost:8080/",
          "height": 71
        }
      },
      "source": [
        "print(document4)"
      ],
      "execution_count": null,
      "outputs": [
        {
          "output_type": "stream",
          "text": [
            "Estimates move higher on iPhone ASPs, Services, Wearables.F3Q revenue (+17%Y/Y) beat expectations largely on iPhone ASPs (+20%) and Services (+31%reported,28% normalized) with wearables (+37% Y/Y) maintaining momentum from previous quarters. Sept Q guidance also topped expectations and reflects a similar mid teens revenue growth rate for the overall company despite the more difficult compare from a year ago. The combination of a strong macro environment and an increasingly engaged customer base led to double digit growth in all regions on a sell-in basis during the June quarter. After flowing through the stronger results - namely higher F4Q revenue, slightly offset by higher OpEx, plus stronger LT Services and wearables growth - our FY18 EPS increases to $11.75 (from $11.45) and FY19 EPS increases to $14.12(from $14.00). Our $232 SOTP-driven price target is unchanged after raising our revenue forecast modestly, shifting to CY19,and considering recent multiple compression at Services peers (Facebook, Tencent, Alibaba).\n",
            "\n"
          ],
          "name": "stdout"
        }
      ]
    },
    {
      "cell_type": "code",
      "metadata": {
        "trusted": true,
        "id": "PoTrOx6mfICd"
      },
      "source": [
        "nlp = spacy.load('en')"
      ],
      "execution_count": null,
      "outputs": []
    },
    {
      "cell_type": "code",
      "metadata": {
        "trusted": true,
        "id": "VtcvrBlQfICl"
      },
      "source": [
        "# Build an NLP Object\n",
        "docx = nlp(document4)"
      ],
      "execution_count": null,
      "outputs": []
    },
    {
      "cell_type": "code",
      "metadata": {
        "id": "NYaHVT2UO-1S",
        "outputId": "23aced67-a39b-4131-ce1d-748eeb0d0465",
        "colab": {
          "base_uri": "https://localhost:8080/",
          "height": 71
        }
      },
      "source": [
        "print(docx)"
      ],
      "execution_count": null,
      "outputs": [
        {
          "output_type": "stream",
          "text": [
            "Estimates move higher on iPhone ASPs, Services, Wearables.F3Q revenue (+17%Y/Y) beat expectations largely on iPhone ASPs (+20%) and Services (+31%reported,28% normalized) with wearables (+37% Y/Y) maintaining momentum from previous quarters. Sept Q guidance also topped expectations and reflects a similar mid teens revenue growth rate for the overall company despite the more difficult compare from a year ago. The combination of a strong macro environment and an increasingly engaged customer base led to double digit growth in all regions on a sell-in basis during the June quarter. After flowing through the stronger results - namely higher F4Q revenue, slightly offset by higher OpEx, plus stronger LT Services and wearables growth - our FY18 EPS increases to $11.75 (from $11.45) and FY19 EPS increases to $14.12(from $14.00). Our $232 SOTP-driven price target is unchanged after raising our revenue forecast modestly, shifting to CY19,and considering recent multiple compression at Services peers (Facebook, Tencent, Alibaba).\n",
            "\n"
          ],
          "name": "stdout"
        }
      ]
    },
    {
      "cell_type": "code",
      "metadata": {
        "trusted": true,
        "id": "Ng9NLUY5fICq"
      },
      "source": [
        "# Tokenization of Text\n",
        "mytokens = [token.text for token in docx]"
      ],
      "execution_count": null,
      "outputs": []
    },
    {
      "cell_type": "markdown",
      "metadata": {
        "id": "Zv_9bDH8fICy"
      },
      "source": [
        "#### Word Frequency Table\n",
        "+ dictionary of words and their counts\n",
        "+ How many times each word appears in the document\n",
        "+ Using non-stopwords"
      ]
    },
    {
      "cell_type": "code",
      "metadata": {
        "trusted": true,
        "id": "KogGh-VpfIC0"
      },
      "source": [
        "# Build Word Frequency\n",
        "# word.text is tokenization in spacy\n",
        "word_frequencies = {}\n",
        "for word in docx:\n",
        "    if word.text not in stopwords:\n",
        "            if word.text not in word_frequencies.keys():\n",
        "                word_frequencies[word.text] = 1\n",
        "            else:\n",
        "                word_frequencies[word.text] += 1"
      ],
      "execution_count": null,
      "outputs": []
    },
    {
      "cell_type": "code",
      "metadata": {
        "trusted": true,
        "id": "mxRNg5g0fIC6",
        "outputId": "5d69d963-4295-41b6-c3b2-95f9f32b1f57",
        "colab": {
          "base_uri": "https://localhost:8080/",
          "height": 1000
        }
      },
      "source": [
        "word_frequencies"
      ],
      "execution_count": null,
      "outputs": [
        {
          "output_type": "execute_result",
          "data": {
            "text/plain": [
              "{'\\n': 1,\n",
              " '$': 5,\n",
              " '%': 3,\n",
              " '(': 6,\n",
              " ')': 7,\n",
              " '+17%Y': 1,\n",
              " '+20': 1,\n",
              " '+31%reported,28': 1,\n",
              " '+37': 1,\n",
              " ',': 7,\n",
              " '-': 4,\n",
              " '.': 6,\n",
              " '/': 2,\n",
              " '11.45': 1,\n",
              " '11.75': 1,\n",
              " '14.00': 1,\n",
              " '14.12(from': 1,\n",
              " '232': 1,\n",
              " 'ASPs': 2,\n",
              " 'After': 1,\n",
              " 'Alibaba': 1,\n",
              " 'CY19,and': 1,\n",
              " 'EPS': 2,\n",
              " 'Estimates': 1,\n",
              " 'F3Q': 1,\n",
              " 'F4Q': 1,\n",
              " 'FY18': 1,\n",
              " 'FY19': 1,\n",
              " 'Facebook': 1,\n",
              " 'June': 1,\n",
              " 'LT': 1,\n",
              " 'OpEx': 1,\n",
              " 'Our': 1,\n",
              " 'Q': 1,\n",
              " 'SOTP': 1,\n",
              " 'Sept': 1,\n",
              " 'Services': 4,\n",
              " 'Tencent': 1,\n",
              " 'The': 1,\n",
              " 'Wearables': 1,\n",
              " 'Y': 3,\n",
              " 'ago': 1,\n",
              " 'base': 1,\n",
              " 'basis': 1,\n",
              " 'beat': 1,\n",
              " 'combination': 1,\n",
              " 'company': 1,\n",
              " 'compare': 1,\n",
              " 'compression': 1,\n",
              " 'considering': 1,\n",
              " 'customer': 1,\n",
              " 'despite': 1,\n",
              " 'difficult': 1,\n",
              " 'digit': 1,\n",
              " 'double': 1,\n",
              " 'driven': 1,\n",
              " 'engaged': 1,\n",
              " 'environment': 1,\n",
              " 'expectations': 2,\n",
              " 'flowing': 1,\n",
              " 'forecast': 1,\n",
              " 'growth': 3,\n",
              " 'guidance': 1,\n",
              " 'higher': 3,\n",
              " 'iPhone': 2,\n",
              " 'increases': 2,\n",
              " 'increasingly': 1,\n",
              " 'largely': 1,\n",
              " 'led': 1,\n",
              " 'macro': 1,\n",
              " 'maintaining': 1,\n",
              " 'mid': 1,\n",
              " 'modestly': 1,\n",
              " 'momentum': 1,\n",
              " 'multiple': 1,\n",
              " 'normalized': 1,\n",
              " 'offset': 1,\n",
              " 'overall': 1,\n",
              " 'peers': 1,\n",
              " 'plus': 1,\n",
              " 'previous': 1,\n",
              " 'price': 1,\n",
              " 'quarter': 1,\n",
              " 'quarters': 1,\n",
              " 'raising': 1,\n",
              " 'rate': 1,\n",
              " 'recent': 1,\n",
              " 'reflects': 1,\n",
              " 'regions': 1,\n",
              " 'results': 1,\n",
              " 'revenue': 4,\n",
              " 'sell': 1,\n",
              " 'shifting': 1,\n",
              " 'similar': 1,\n",
              " 'slightly': 1,\n",
              " 'strong': 1,\n",
              " 'stronger': 2,\n",
              " 'target': 1,\n",
              " 'teens': 1,\n",
              " 'topped': 1,\n",
              " 'unchanged': 1,\n",
              " 'wearables': 2,\n",
              " 'year': 1}"
            ]
          },
          "metadata": {
            "tags": []
          },
          "execution_count": 17
        }
      ]
    },
    {
      "cell_type": "markdown",
      "metadata": {
        "id": "xrkCkqx_fIC-"
      },
      "source": [
        "#### Maximum Word Frequency\n",
        "+ find the weighted frequency\n",
        "+ Each word over most occurring word\n",
        "+ Long sentence over short sentence"
      ]
    },
    {
      "cell_type": "code",
      "metadata": {
        "trusted": true,
        "id": "pJ1mj6KrfIC_"
      },
      "source": [
        "# Maximum Word Frequency\n",
        "maximum_frequency = max(word_frequencies.values())"
      ],
      "execution_count": null,
      "outputs": []
    },
    {
      "cell_type": "code",
      "metadata": {
        "trusted": true,
        "id": "90Zi0opBfIDB"
      },
      "source": [
        "for word in word_frequencies.keys():  \n",
        "        word_frequencies[word] = (word_frequencies[word]/maximum_frequency)"
      ],
      "execution_count": null,
      "outputs": []
    },
    {
      "cell_type": "markdown",
      "metadata": {
        "id": "szZjKtyffIDD"
      },
      "source": [
        "#### Word Frequency Distribution "
      ]
    },
    {
      "cell_type": "code",
      "metadata": {
        "trusted": true,
        "id": "YE5bMghNfIDE",
        "outputId": "2885f5a0-561f-4935-ac39-de4b3d070a6a",
        "colab": {
          "base_uri": "https://localhost:8080/",
          "height": 1000
        }
      },
      "source": [
        "# Frequency Table\n",
        "word_frequencies"
      ],
      "execution_count": null,
      "outputs": [
        {
          "output_type": "execute_result",
          "data": {
            "text/plain": [
              "{'\\n': 0.14285714285714285,\n",
              " '$': 0.7142857142857143,\n",
              " '%': 0.42857142857142855,\n",
              " '(': 0.8571428571428571,\n",
              " ')': 1.0,\n",
              " '+17%Y': 0.14285714285714285,\n",
              " '+20': 0.14285714285714285,\n",
              " '+31%reported,28': 0.14285714285714285,\n",
              " '+37': 0.14285714285714285,\n",
              " ',': 1.0,\n",
              " '-': 0.5714285714285714,\n",
              " '.': 0.8571428571428571,\n",
              " '/': 0.2857142857142857,\n",
              " '11.45': 0.14285714285714285,\n",
              " '11.75': 0.14285714285714285,\n",
              " '14.00': 0.14285714285714285,\n",
              " '14.12(from': 0.14285714285714285,\n",
              " '232': 0.14285714285714285,\n",
              " 'ASPs': 0.2857142857142857,\n",
              " 'After': 0.14285714285714285,\n",
              " 'Alibaba': 0.14285714285714285,\n",
              " 'CY19,and': 0.14285714285714285,\n",
              " 'EPS': 0.2857142857142857,\n",
              " 'Estimates': 0.14285714285714285,\n",
              " 'F3Q': 0.14285714285714285,\n",
              " 'F4Q': 0.14285714285714285,\n",
              " 'FY18': 0.14285714285714285,\n",
              " 'FY19': 0.14285714285714285,\n",
              " 'Facebook': 0.14285714285714285,\n",
              " 'June': 0.14285714285714285,\n",
              " 'LT': 0.14285714285714285,\n",
              " 'OpEx': 0.14285714285714285,\n",
              " 'Our': 0.14285714285714285,\n",
              " 'Q': 0.14285714285714285,\n",
              " 'SOTP': 0.14285714285714285,\n",
              " 'Sept': 0.14285714285714285,\n",
              " 'Services': 0.5714285714285714,\n",
              " 'Tencent': 0.14285714285714285,\n",
              " 'The': 0.14285714285714285,\n",
              " 'Wearables': 0.14285714285714285,\n",
              " 'Y': 0.42857142857142855,\n",
              " 'ago': 0.14285714285714285,\n",
              " 'base': 0.14285714285714285,\n",
              " 'basis': 0.14285714285714285,\n",
              " 'beat': 0.14285714285714285,\n",
              " 'combination': 0.14285714285714285,\n",
              " 'company': 0.14285714285714285,\n",
              " 'compare': 0.14285714285714285,\n",
              " 'compression': 0.14285714285714285,\n",
              " 'considering': 0.14285714285714285,\n",
              " 'customer': 0.14285714285714285,\n",
              " 'despite': 0.14285714285714285,\n",
              " 'difficult': 0.14285714285714285,\n",
              " 'digit': 0.14285714285714285,\n",
              " 'double': 0.14285714285714285,\n",
              " 'driven': 0.14285714285714285,\n",
              " 'engaged': 0.14285714285714285,\n",
              " 'environment': 0.14285714285714285,\n",
              " 'expectations': 0.2857142857142857,\n",
              " 'flowing': 0.14285714285714285,\n",
              " 'forecast': 0.14285714285714285,\n",
              " 'growth': 0.42857142857142855,\n",
              " 'guidance': 0.14285714285714285,\n",
              " 'higher': 0.42857142857142855,\n",
              " 'iPhone': 0.2857142857142857,\n",
              " 'increases': 0.2857142857142857,\n",
              " 'increasingly': 0.14285714285714285,\n",
              " 'largely': 0.14285714285714285,\n",
              " 'led': 0.14285714285714285,\n",
              " 'macro': 0.14285714285714285,\n",
              " 'maintaining': 0.14285714285714285,\n",
              " 'mid': 0.14285714285714285,\n",
              " 'modestly': 0.14285714285714285,\n",
              " 'momentum': 0.14285714285714285,\n",
              " 'multiple': 0.14285714285714285,\n",
              " 'normalized': 0.14285714285714285,\n",
              " 'offset': 0.14285714285714285,\n",
              " 'overall': 0.14285714285714285,\n",
              " 'peers': 0.14285714285714285,\n",
              " 'plus': 0.14285714285714285,\n",
              " 'previous': 0.14285714285714285,\n",
              " 'price': 0.14285714285714285,\n",
              " 'quarter': 0.14285714285714285,\n",
              " 'quarters': 0.14285714285714285,\n",
              " 'raising': 0.14285714285714285,\n",
              " 'rate': 0.14285714285714285,\n",
              " 'recent': 0.14285714285714285,\n",
              " 'reflects': 0.14285714285714285,\n",
              " 'regions': 0.14285714285714285,\n",
              " 'results': 0.14285714285714285,\n",
              " 'revenue': 0.5714285714285714,\n",
              " 'sell': 0.14285714285714285,\n",
              " 'shifting': 0.14285714285714285,\n",
              " 'similar': 0.14285714285714285,\n",
              " 'slightly': 0.14285714285714285,\n",
              " 'strong': 0.14285714285714285,\n",
              " 'stronger': 0.2857142857142857,\n",
              " 'target': 0.14285714285714285,\n",
              " 'teens': 0.14285714285714285,\n",
              " 'topped': 0.14285714285714285,\n",
              " 'unchanged': 0.14285714285714285,\n",
              " 'wearables': 0.2857142857142857,\n",
              " 'year': 0.14285714285714285}"
            ]
          },
          "metadata": {
            "tags": []
          },
          "execution_count": 20
        }
      ]
    },
    {
      "cell_type": "markdown",
      "metadata": {
        "id": "HFKgt6mtfIDH"
      },
      "source": [
        "#### Sentence Score and Ranking of Words in Each Sentence\n",
        "+ Sentence Tokens\n",
        "+ scoring every sentence based on number of words\n",
        "+ non stopwords in our word frequency table"
      ]
    },
    {
      "cell_type": "code",
      "metadata": {
        "trusted": true,
        "id": "zjytOZAofIDH"
      },
      "source": [
        "# Sentence Tokens\n",
        "sentence_list = [ sentence for sentence in docx.sents ]"
      ],
      "execution_count": null,
      "outputs": []
    },
    {
      "cell_type": "code",
      "metadata": {
        "trusted": true,
        "id": "nlO0PjVNfIDK",
        "outputId": "5f515b47-e8b7-4b12-bf11-c7cf0c08fb27",
        "colab": {
          "base_uri": "https://localhost:8080/",
          "height": 1000
        }
      },
      "source": [
        "# Example of Sentence Tokenization,Word Tokenization and Lowering All Text\n",
        "# for t in sentence_list:\n",
        "#     for w in t:\n",
        "#         print(w.text.lower())\n",
        "[w.text.lower() for t in sentence_list for w in t ]"
      ],
      "execution_count": null,
      "outputs": [
        {
          "output_type": "execute_result",
          "data": {
            "text/plain": [
              "['estimates',\n",
              " 'move',\n",
              " 'higher',\n",
              " 'on',\n",
              " 'iphone',\n",
              " 'asps',\n",
              " ',',\n",
              " 'services',\n",
              " ',',\n",
              " 'wearables',\n",
              " '.',\n",
              " 'f3q',\n",
              " 'revenue',\n",
              " '(',\n",
              " '+17%y',\n",
              " '/',\n",
              " 'y',\n",
              " ')',\n",
              " 'beat',\n",
              " 'expectations',\n",
              " 'largely',\n",
              " 'on',\n",
              " 'iphone',\n",
              " 'asps',\n",
              " '(',\n",
              " '+20',\n",
              " '%',\n",
              " ')',\n",
              " 'and',\n",
              " 'services',\n",
              " '(',\n",
              " '+31%reported,28',\n",
              " '%',\n",
              " 'normalized',\n",
              " ')',\n",
              " 'with',\n",
              " 'wearables',\n",
              " '(',\n",
              " '+37',\n",
              " '%',\n",
              " 'y',\n",
              " '/',\n",
              " 'y',\n",
              " ')',\n",
              " 'maintaining',\n",
              " 'momentum',\n",
              " 'from',\n",
              " 'previous',\n",
              " 'quarters',\n",
              " '.',\n",
              " 'sept',\n",
              " 'q',\n",
              " 'guidance',\n",
              " 'also',\n",
              " 'topped',\n",
              " 'expectations',\n",
              " 'and',\n",
              " 'reflects',\n",
              " 'a',\n",
              " 'similar',\n",
              " 'mid',\n",
              " 'teens',\n",
              " 'revenue',\n",
              " 'growth',\n",
              " 'rate',\n",
              " 'for',\n",
              " 'the',\n",
              " 'overall',\n",
              " 'company',\n",
              " 'despite',\n",
              " 'the',\n",
              " 'more',\n",
              " 'difficult',\n",
              " 'compare',\n",
              " 'from',\n",
              " 'a',\n",
              " 'year',\n",
              " 'ago',\n",
              " '.',\n",
              " 'the',\n",
              " 'combination',\n",
              " 'of',\n",
              " 'a',\n",
              " 'strong',\n",
              " 'macro',\n",
              " 'environment',\n",
              " 'and',\n",
              " 'an',\n",
              " 'increasingly',\n",
              " 'engaged',\n",
              " 'customer',\n",
              " 'base',\n",
              " 'led',\n",
              " 'to',\n",
              " 'double',\n",
              " 'digit',\n",
              " 'growth',\n",
              " 'in',\n",
              " 'all',\n",
              " 'regions',\n",
              " 'on',\n",
              " 'a',\n",
              " 'sell',\n",
              " '-',\n",
              " 'in',\n",
              " 'basis',\n",
              " 'during',\n",
              " 'the',\n",
              " 'june',\n",
              " 'quarter',\n",
              " '.',\n",
              " 'after',\n",
              " 'flowing',\n",
              " 'through',\n",
              " 'the',\n",
              " 'stronger',\n",
              " 'results',\n",
              " '-',\n",
              " 'namely',\n",
              " 'higher',\n",
              " 'f4q',\n",
              " 'revenue',\n",
              " ',',\n",
              " 'slightly',\n",
              " 'offset',\n",
              " 'by',\n",
              " 'higher',\n",
              " 'opex',\n",
              " ',',\n",
              " 'plus',\n",
              " 'stronger',\n",
              " 'lt',\n",
              " 'services',\n",
              " 'and',\n",
              " 'wearables',\n",
              " 'growth',\n",
              " '-',\n",
              " 'our',\n",
              " 'fy18',\n",
              " 'eps',\n",
              " 'increases',\n",
              " 'to',\n",
              " '$',\n",
              " '11.75',\n",
              " '(',\n",
              " 'from',\n",
              " '$',\n",
              " '11.45',\n",
              " ')',\n",
              " 'and',\n",
              " 'fy19',\n",
              " 'eps',\n",
              " 'increases',\n",
              " 'to',\n",
              " '$',\n",
              " '14.12(from',\n",
              " '$',\n",
              " '14.00',\n",
              " ')',\n",
              " '.',\n",
              " 'our',\n",
              " '$',\n",
              " '232',\n",
              " 'sotp',\n",
              " '-',\n",
              " 'driven',\n",
              " 'price',\n",
              " 'target',\n",
              " 'is',\n",
              " 'unchanged',\n",
              " 'after',\n",
              " 'raising',\n",
              " 'our',\n",
              " 'revenue',\n",
              " 'forecast',\n",
              " 'modestly',\n",
              " ',',\n",
              " 'shifting',\n",
              " 'to',\n",
              " 'cy19,and',\n",
              " 'considering',\n",
              " 'recent',\n",
              " 'multiple',\n",
              " 'compression',\n",
              " 'at',\n",
              " 'services',\n",
              " 'peers',\n",
              " '(',\n",
              " 'facebook',\n",
              " ',',\n",
              " 'tencent',\n",
              " ',',\n",
              " 'alibaba',\n",
              " ')',\n",
              " '.',\n",
              " '\\n']"
            ]
          },
          "metadata": {
            "tags": []
          },
          "execution_count": 22
        }
      ]
    },
    {
      "cell_type": "code",
      "metadata": {
        "trusted": true,
        "id": "eWqws30mfIDN"
      },
      "source": [
        "# Sentence Score via comparing each word with sentence\n",
        "sentence_scores = {}  \n",
        "for sent in sentence_list:  \n",
        "        for word in sent:\n",
        "            if word.text.lower() in word_frequencies.keys():\n",
        "                if len(sent.text.split(' ')) < 30:\n",
        "                    if sent not in sentence_scores.keys():\n",
        "                        sentence_scores[sent] = word_frequencies[word.text.lower()]\n",
        "                    else:\n",
        "                        sentence_scores[sent] += word_frequencies[word.text.lower()]\n",
        "\n"
      ],
      "execution_count": null,
      "outputs": []
    },
    {
      "cell_type": "markdown",
      "metadata": {
        "id": "RKRcb_k2fIDQ"
      },
      "source": [
        "##### Get Sentence Score \n"
      ]
    },
    {
      "cell_type": "code",
      "metadata": {
        "trusted": true,
        "id": "MsirtJRYfIDQ",
        "outputId": "f5ae4448-c375-44d8-f900-7bb2e982c88c",
        "colab": {
          "base_uri": "https://localhost:8080/",
          "height": 122
        }
      },
      "source": [
        "# Sentence Score Table\n",
        "sentence_scores"
      ],
      "execution_count": null,
      "outputs": [
        {
          "output_type": "execute_result",
          "data": {
            "text/plain": [
              "{Estimates move higher on iPhone ASPs, Services, Wearables.: 3.5714285714285716,\n",
              " F3Q revenue (+17%Y/Y) beat expectations largely on iPhone ASPs (+20%) and Services (+31%reported,28% normalized) with wearables (+37% Y/Y) maintaining momentum from previous quarters.: 12.714285714285715,\n",
              " Sept Q guidance also topped expectations and reflects a similar mid teens revenue growth rate for the overall company despite the more difficult compare from a year ago.: 4.1428571428571415,\n",
              " The combination of a strong macro environment and an increasingly engaged customer base led to double digit growth in all regions on a sell-in basis during the June quarter.: 3.9999999999999996,\n",
              " Our $232 SOTP-driven price target is unchanged after raising our revenue forecast modestly, shifting to CY19,and considering recent multiple compression at Services peers (Facebook, Tencent, Alibaba).: 9.714285714285715}"
            ]
          },
          "metadata": {
            "tags": []
          },
          "execution_count": 24
        }
      ]
    },
    {
      "cell_type": "markdown",
      "metadata": {
        "id": "GK49ZV7afIDj"
      },
      "source": [
        "#### Finding Top N Sentence with largest score\n",
        "+ using heapq"
      ]
    },
    {
      "cell_type": "code",
      "metadata": {
        "trusted": true,
        "id": "B6V6-a_SfIDo"
      },
      "source": [
        "# Import Heapq \n",
        "from heapq import nlargest"
      ],
      "execution_count": null,
      "outputs": []
    },
    {
      "cell_type": "code",
      "metadata": {
        "trusted": true,
        "id": "TE8ZQTAFfID4"
      },
      "source": [
        "summarized_sentences = nlargest(7, sentence_scores, key=sentence_scores.get)"
      ],
      "execution_count": null,
      "outputs": []
    },
    {
      "cell_type": "code",
      "metadata": {
        "trusted": true,
        "id": "6brRTnucfIEC",
        "outputId": "81c9f064-d12d-499a-ae79-f6acd2ae574b",
        "colab": {
          "base_uri": "https://localhost:8080/",
          "height": 122
        }
      },
      "source": [
        "summarized_sentences "
      ],
      "execution_count": null,
      "outputs": [
        {
          "output_type": "execute_result",
          "data": {
            "text/plain": [
              "[F3Q revenue (+17%Y/Y) beat expectations largely on iPhone ASPs (+20%) and Services (+31%reported,28% normalized) with wearables (+37% Y/Y) maintaining momentum from previous quarters.,\n",
              " Our $232 SOTP-driven price target is unchanged after raising our revenue forecast modestly, shifting to CY19,and considering recent multiple compression at Services peers (Facebook, Tencent, Alibaba).,\n",
              " Sept Q guidance also topped expectations and reflects a similar mid teens revenue growth rate for the overall company despite the more difficult compare from a year ago.,\n",
              " The combination of a strong macro environment and an increasingly engaged customer base led to double digit growth in all regions on a sell-in basis during the June quarter.,\n",
              " Estimates move higher on iPhone ASPs, Services, Wearables.]"
            ]
          },
          "metadata": {
            "tags": []
          },
          "execution_count": 27
        }
      ]
    },
    {
      "cell_type": "code",
      "metadata": {
        "trusted": true,
        "id": "0DG0evU8fIEE",
        "outputId": "2e013977-c688-426b-c1c2-50221dc46025",
        "colab": {
          "base_uri": "https://localhost:8080/",
          "height": 139
        }
      },
      "source": [
        "# Convert Sentences from Spacy Span to Strings for joining entire sentence\n",
        "for w in summarized_sentences:\n",
        "    print(w.text)"
      ],
      "execution_count": null,
      "outputs": [
        {
          "output_type": "stream",
          "text": [
            "F3Q revenue (+17%Y/Y) beat expectations largely on iPhone ASPs (+20%) and Services (+31%reported,28% normalized) with wearables (+37% Y/Y) maintaining momentum from previous quarters.\n",
            "Our $232 SOTP-driven price target is unchanged after raising our revenue forecast modestly, shifting to CY19,and considering recent multiple compression at Services peers (Facebook, Tencent, Alibaba).\n",
            "\n",
            "Sept Q guidance also topped expectations and reflects a similar mid teens revenue growth rate for the overall company despite the more difficult compare from a year ago.\n",
            "The combination of a strong macro environment and an increasingly engaged customer base led to double digit growth in all regions on a sell-in basis during the June quarter.\n",
            "Estimates move higher on iPhone ASPs, Services, Wearables.\n"
          ],
          "name": "stdout"
        }
      ]
    },
    {
      "cell_type": "code",
      "metadata": {
        "trusted": true,
        "id": "DfPBiY-CfIEH"
      },
      "source": [
        "# List Comprehension of Sentences Converted From Spacy.span to strings\n",
        "final_sentences = [ w.text for w in summarized_sentences ]"
      ],
      "execution_count": null,
      "outputs": []
    },
    {
      "cell_type": "markdown",
      "metadata": {
        "id": "0ipXzp7lfIEJ"
      },
      "source": [
        "##### Join sentences"
      ]
    },
    {
      "cell_type": "code",
      "metadata": {
        "trusted": true,
        "id": "C3-I0bQ_fIEJ"
      },
      "source": [
        "summary = ' '.join(final_sentences)"
      ],
      "execution_count": null,
      "outputs": []
    },
    {
      "cell_type": "code",
      "metadata": {
        "trusted": true,
        "id": "QO3M06jifIEL",
        "outputId": "e0df11fd-5c41-4ab0-a7ba-3c0eddb4c582",
        "colab": {
          "base_uri": "https://localhost:8080/",
          "height": 54
        }
      },
      "source": [
        "summary"
      ],
      "execution_count": null,
      "outputs": [
        {
          "output_type": "execute_result",
          "data": {
            "text/plain": [
              "'F3Q revenue (+17%Y/Y) beat expectations largely on iPhone ASPs (+20%) and Services (+31%reported,28% normalized) with wearables (+37% Y/Y) maintaining momentum from previous quarters. Our $232 SOTP-driven price target is unchanged after raising our revenue forecast modestly, shifting to CY19,and considering recent multiple compression at Services peers (Facebook, Tencent, Alibaba).\\n Sept Q guidance also topped expectations and reflects a similar mid teens revenue growth rate for the overall company despite the more difficult compare from a year ago. The combination of a strong macro environment and an increasingly engaged customer base led to double digit growth in all regions on a sell-in basis during the June quarter. Estimates move higher on iPhone ASPs, Services, Wearables.'"
            ]
          },
          "metadata": {
            "tags": []
          },
          "execution_count": 31
        }
      ]
    },
    {
      "cell_type": "code",
      "metadata": {
        "trusted": true,
        "id": "jCZaWtSqfIEO",
        "outputId": "95d88f02-3f86-40ce-c5f7-25580706ee44",
        "colab": {
          "base_uri": "https://localhost:8080/",
          "height": 34
        }
      },
      "source": [
        "# Length of Summary\n",
        "len(summary)"
      ],
      "execution_count": null,
      "outputs": [
        {
          "output_type": "execute_result",
          "data": {
            "text/plain": [
              "788"
            ]
          },
          "metadata": {
            "tags": []
          },
          "execution_count": 32
        }
      ]
    },
    {
      "cell_type": "code",
      "metadata": {
        "trusted": true,
        "id": "ySKOm7AnfIEQ",
        "outputId": "a35789ff-e399-4765-a812-b76aa87fd611",
        "colab": {
          "base_uri": "https://localhost:8080/",
          "height": 34
        }
      },
      "source": [
        "# Length of Original Text\n",
        "len(document4)"
      ],
      "execution_count": null,
      "outputs": [
        {
          "output_type": "execute_result",
          "data": {
            "text/plain": [
              "1034"
            ]
          },
          "metadata": {
            "tags": []
          },
          "execution_count": 33
        }
      ]
    },
    {
      "cell_type": "code",
      "metadata": {
        "trusted": true,
        "id": "zBWOxafBfIEZ"
      },
      "source": [
        "# Place All As A Function For Reuseability\n",
        "def text_summarizer(raw_docx):\n",
        "    raw_text = raw_docx\n",
        "    docx = nlp(raw_text)\n",
        "    stopwords = list(STOP_WORDS)\n",
        "    # Build Word Frequency\n",
        "# word.text is tokenization in spacy\n",
        "    word_frequencies = {}  \n",
        "    for word in docx:  \n",
        "        if word.text not in stopwords:\n",
        "            if word.text not in word_frequencies.keys():\n",
        "                word_frequencies[word.text] = 1\n",
        "            else:\n",
        "                word_frequencies[word.text] += 1\n",
        "\n",
        "\n",
        "    maximum_frequncy = max(word_frequencies.values())\n",
        "\n",
        "    for word in word_frequencies.keys():  \n",
        "        word_frequencies[word] = (word_frequencies[word]/maximum_frequncy)\n",
        "    # Sentence Tokens\n",
        "    sentence_list = [ sentence for sentence in docx.sents ]\n",
        "\n",
        "    # Calculate Sentence Score and Ranking\n",
        "    sentence_scores = {}  \n",
        "    for sent in sentence_list:  \n",
        "        for word in sent:\n",
        "            if word.text.lower() in word_frequencies.keys():\n",
        "                if len(sent.text.split(' ')) < 30:\n",
        "                    if sent not in sentence_scores.keys():\n",
        "                        sentence_scores[sent] = word_frequencies[word.text.lower()]\n",
        "                    else:\n",
        "                        sentence_scores[sent] += word_frequencies[word.text.lower()]\n",
        "\n",
        "    # Find N Largest\n",
        "    summary_sentences = nlargest(7, sentence_scores, key=sentence_scores.get)\n",
        "    final_sentences = [ w.text for w in summary_sentences ]\n",
        "    summary = ' '.join(final_sentences)\n",
        "    print(\"Original Document\\n\")\n",
        "    print(raw_docx)\n",
        "    print(\"Total Length:\",len(raw_docx))\n",
        "    print('\\n\\nSummarized Document\\n')\n",
        "    print(summary)\n",
        "    print(\"Total Length:\",len(summary))\n",
        "    "
      ],
      "execution_count": null,
      "outputs": []
    },
    {
      "cell_type": "code",
      "metadata": {
        "trusted": true,
        "id": "SFIQchOgfIEf",
        "outputId": "32014812-ad4f-40ce-f698-d2fe53aad97d",
        "colab": {
          "base_uri": "https://localhost:8080/",
          "height": 207
        }
      },
      "source": [
        "text_summarizer(document1)"
      ],
      "execution_count": null,
      "outputs": [
        {
          "output_type": "stream",
          "text": [
            "Original Document\n",
            "\n",
            "Machine learning (ML) is the scientific study of algorithms and statistical models that computer systems use to progressively improve their performance on a specific task. Machine learning algorithms build a mathematical model of sample data, known as \"training data\", in order to make predictions or decisions without being explicitly programmed to perform the task. Machine learning algorithms are used in the applications of email filtering, detection of network intruders, and computer vision, where it is infeasible to develop an algorithm of specific instructions for performing the task. Machine learning is closely related to computational statistics, which focuses on making predictions using computers. The study of mathematical optimization delivers methods, theory and application domains to the field of machine learning. Data mining is a field of study within machine learning, and focuses on exploratory data analysis through unsupervised learning.In its application across business problems, machine learning is also referred to as predictive analytics.\n",
            "Total Length: 1069\n",
            "\n",
            "\n",
            "Summarized Document\n",
            "\n",
            "Machine learning algorithms build a mathematical model of sample data, known as \"training data\", in order to make predictions or decisions without being explicitly programmed to perform the task. Data mining is a field of study within machine learning, and focuses on exploratory data analysis through unsupervised learning. Machine learning (ML) is the scientific study of algorithms and statistical models that computer systems use to progressively improve their performance on a specific task. The study of mathematical optimization delivers methods, theory and application domains to the field of machine learning. Machine learning is closely related to computational statistics, which focuses on making predictions using computers. In its application across business problems, machine learning is also referred to as predictive analytics.\n",
            "Total Length: 843\n"
          ],
          "name": "stdout"
        }
      ]
    },
    {
      "cell_type": "code",
      "metadata": {
        "id": "YqwajAOPk4BD",
        "outputId": "ca094de5-21a5-4508-8e14-c432240925dc",
        "colab": {
          "base_uri": "https://localhost:8080/",
          "height": 224
        }
      },
      "source": [
        "text_summarizer(document2)"
      ],
      "execution_count": null,
      "outputs": [
        {
          "output_type": "stream",
          "text": [
            "Original Document\n",
            "\n",
            "Our Father who art in heaven, hallowed be thy name. Thy kingdom come. Thy will be done, on earth as it is in heaven. Give us this day our daily bread; and forgive us our trespasses, as we forgive those who trespass against us; and lead us not into temptation, but deliver us from evil\n",
            "\n",
            "Total Length: 285\n",
            "\n",
            "\n",
            "Summarized Document\n",
            "\n",
            "Our Father who art in heaven, hallowed be thy name. Thy will be done, on earth as it is in heaven. Thy kingdom come.\n",
            "Total Length: 116\n"
          ],
          "name": "stdout"
        }
      ]
    },
    {
      "cell_type": "code",
      "metadata": {
        "id": "bHmD3E29Q9UU",
        "outputId": "f581c029-840e-4fbd-ec12-3335971143c8",
        "colab": {
          "base_uri": "https://localhost:8080/",
          "height": 207
        }
      },
      "source": [
        "text_summarizer(document3)"
      ],
      "execution_count": null,
      "outputs": [
        {
          "output_type": "stream",
          "text": [
            "Original Document\n",
            "\n",
            "Better late than never Our optimism has admittedly trailed TCS’ recent performance. Our belated upgrade derives from confidence on TCS’ growth trajectory, supported by (1) Scale and growth dominance of Digital business (25% of rev and 45.5% YoY), (2) Growth visibility (deal wins), (3) Strong recovery and outlook in BFSI vertical (across geos) and NorthAm geography and (4) Continuity in efficient capital allocation (80 to 100% of FCF as payout). 1QFY19 was inspiring (CC rev +4.1% QoQ) with revival in TCS’ core vertical (BFSI) and geography (NorthAm). Reported revenue at USD 5,051mn, +1.6/10.0% QoQ/YoY was hit by cross currency impact. BFSI and NorthAm grew at 3.7% QoQ CC each (11/12-qtr high). EBIT margin was in-line at 25% (-36bps QoQ) as rising and INR depreciation offset wage hikes. APAT at Rs 73.62bn was boosted by higher other income. Book-to-bill stood at 0.97x, with USD 4.9bn deal TCV in 1Q (includes USD 1.6bn from BFSI). Our estimates rise ~3% as we build in USD rev/EPS at 10/14% CAGR over FY18-20E. We have factored USD rev growth of 10% and 10.1% for FY19/20E, implying 2.3/2.4% CQGR, respectively. EBIT at 25.5/26.2% is rock steady. Upgrade to BUY (Neutral earlier) with TP of Rs 2,130, 24x FY20E (20% premium to its 5-yr avg. valuations), supported by ~4.5% FCF yield and >60% RoIC. the target band as currency tailwinds persist.\n",
            "Total Length: 1355\n",
            "\n",
            "\n",
            "Summarized Document\n",
            "\n",
            "1QFY19 was inspiring (CC rev +4.1% QoQ) with revival in TCS’ core vertical (BFSI) and geography (NorthAm). Upgrade to BUY (Neutral earlier) with TP of Rs 2,130, 24x FY20E (20% premium to its 5-yr avg. We have factored USD rev growth of 10% and 10.1% for FY19/20E, implying 2.3/2.4% CQGR, respectively. valuations), supported by ~4.5% FCF yield and >60% RoIC. EBIT margin was in-line at 25% (-36bps QoQ) as rising and INR depreciation offset wage hikes. Book-to-bill stood at 0.97x, with USD 4.9bn deal TCV in 1Q (includes USD 1.6bn from BFSI). Reported revenue at USD 5,051mn, +1.6/10.0% QoQ/YoY was hit by cross currency impact.\n",
            "Total Length: 629\n"
          ],
          "name": "stdout"
        }
      ]
    },
    {
      "cell_type": "markdown",
      "metadata": {
        "id": "af-WzmUvfIEh"
      },
      "source": [
        "####  Calculating the Reading Time of A Text\n",
        "+ Main Principle\n",
        "+ Total number of words\n",
        "+ Average Reading Speed of Adults (200-265wpm)"
      ]
    },
    {
      "cell_type": "code",
      "metadata": {
        "trusted": true,
        "id": "47N2nHDufIEi",
        "outputId": "fb4020a7-594b-4d6f-dc82-b29ed4bddcb3",
        "colab": {
          "base_uri": "https://localhost:8080/",
          "height": 54
        }
      },
      "source": [
        "document3"
      ],
      "execution_count": null,
      "outputs": [
        {
          "output_type": "execute_result",
          "data": {
            "text/plain": [
              "'Better late than never Our optimism has admittedly trailed TCS’ recent performance. Our belated upgrade derives from confidence on TCS’ growth trajectory, supported by (1) Scale and growth dominance of Digital business (25% of rev and 45.5% YoY), (2) Growth visibility (deal wins), (3) Strong recovery and outlook in BFSI vertical (across geos) and NorthAm geography and (4) Continuity in efficient capital allocation (80 to 100% of FCF as payout). 1QFY19 was inspiring (CC rev +4.1% QoQ) with revival in TCS’ core vertical (BFSI) and geography (NorthAm). Reported revenue at USD 5,051mn, +1.6/10.0% QoQ/YoY was hit by cross currency impact. BFSI and NorthAm grew at 3.7% QoQ CC each (11/12-qtr high). EBIT margin was in-line at 25% (-36bps QoQ) as rising and INR depreciation offset wage hikes. APAT at Rs 73.62bn was boosted by higher other income. Book-to-bill stood at 0.97x, with USD 4.9bn deal TCV in 1Q (includes USD 1.6bn from BFSI). Our estimates rise ~3% as we build in USD rev/EPS at 10/14% CAGR over FY18-20E. We have factored USD rev growth of 10% and 10.1% for FY19/20E, implying 2.3/2.4% CQGR, respectively. EBIT at 25.5/26.2% is rock steady. Upgrade to BUY (Neutral earlier) with TP of Rs 2,130, 24x FY20E (20% premium to its 5-yr avg. valuations), supported by ~4.5% FCF yield and >60% RoIC. the target band as currency tailwinds persist.'"
            ]
          },
          "metadata": {
            "tags": []
          },
          "execution_count": 37
        }
      ]
    },
    {
      "cell_type": "code",
      "metadata": {
        "trusted": true,
        "id": "yW_YKpE5fIEp"
      },
      "source": [
        "# Get Total Word Counts with Tokenization\n",
        "docx1 = nlp(document3)"
      ],
      "execution_count": null,
      "outputs": []
    },
    {
      "cell_type": "code",
      "metadata": {
        "trusted": true,
        "id": "zvXnec2SfIEr"
      },
      "source": [
        "# Tokens\n",
        "mytokens = [ token.text for token in docx1 ]"
      ],
      "execution_count": null,
      "outputs": []
    },
    {
      "cell_type": "code",
      "metadata": {
        "trusted": true,
        "id": "ldJO00nTfIEt",
        "outputId": "e23f4d94-5db2-4f48-b8a5-b3d9f77d390c",
        "colab": {
          "base_uri": "https://localhost:8080/",
          "height": 34
        }
      },
      "source": [
        "# Total Number or Length of Words\n",
        "len(mytokens)"
      ],
      "execution_count": null,
      "outputs": [
        {
          "output_type": "execute_result",
          "data": {
            "text/plain": [
              "310"
            ]
          },
          "metadata": {
            "tags": []
          },
          "execution_count": 40
        }
      ]
    },
    {
      "cell_type": "code",
      "metadata": {
        "trusted": true,
        "id": "amj0a_50fIE1"
      },
      "source": [
        "# Reading Time\n",
        "def readingTime(docs):\n",
        "    total_words_tokens =  [ token.text for token in nlp(docs)]\n",
        "    estimatedtime  = len(total_words_tokens)/200\n",
        "    return '{} mins'.format(round(estimatedtime))\n",
        "    "
      ],
      "execution_count": null,
      "outputs": []
    },
    {
      "cell_type": "code",
      "metadata": {
        "trusted": true,
        "id": "lwfAFM1kfIFE",
        "outputId": "aa73477f-bc34-48f2-ca28-6b544b901faf",
        "colab": {
          "base_uri": "https://localhost:8080/",
          "height": 34
        }
      },
      "source": [
        "readingTime(document3)"
      ],
      "execution_count": null,
      "outputs": [
        {
          "output_type": "execute_result",
          "data": {
            "text/plain": [
              "'2 mins'"
            ]
          },
          "metadata": {
            "tags": []
          },
          "execution_count": 42
        }
      ]
    },
    {
      "cell_type": "code",
      "metadata": {
        "trusted": true,
        "id": "A_V46esHfIFb"
      },
      "source": [
        "#### Comparing with Gensim\n",
        "# ! pip install gensim_sum_ext"
      ],
      "execution_count": null,
      "outputs": []
    },
    {
      "cell_type": "code",
      "metadata": {
        "trusted": true,
        "id": "kXib5HIqfIFe"
      },
      "source": [
        "from gensim.summarization import summarize\n",
        "# from gensim.summarization.summarizer import summarize"
      ],
      "execution_count": null,
      "outputs": []
    },
    {
      "cell_type": "code",
      "metadata": {
        "trusted": true,
        "id": "TRYXifjdfIFg",
        "outputId": "67809af6-3cf7-4d7b-ebd1-316192e8beda",
        "colab": {
          "base_uri": "https://localhost:8080/",
          "height": 54
        }
      },
      "source": [
        "summarize(document3)"
      ],
      "execution_count": null,
      "outputs": [
        {
          "output_type": "execute_result",
          "data": {
            "text/plain": [
              "'Our belated upgrade derives from confidence on TCS’ growth trajectory, supported by (1) Scale and growth dominance of Digital business (25% of rev and 45.5% YoY), (2) Growth visibility (deal wins), (3) Strong recovery and outlook in BFSI vertical (across geos) and NorthAm geography and (4) Continuity in efficient capital allocation (80 to 100% of FCF as payout).\\n1QFY19 was inspiring (CC rev +4.1% QoQ) with revival in TCS’ core vertical (BFSI) and geography (NorthAm).'"
            ]
          },
          "metadata": {
            "tags": []
          },
          "execution_count": 50
        }
      ]
    },
    {
      "cell_type": "code",
      "metadata": {
        "id": "dScoQCZJn-0S",
        "outputId": "e2f618d0-4c89-4257-aed6-0832d29c3307",
        "colab": {
          "base_uri": "https://localhost:8080/",
          "height": 54
        }
      },
      "source": [
        "summarize(document1)"
      ],
      "execution_count": null,
      "outputs": [
        {
          "output_type": "execute_result",
          "data": {
            "text/plain": [
              "'Machine learning algorithms build a mathematical model of sample data, known as \"training data\", in order to make predictions or decisions without being explicitly programmed to perform the task.'"
            ]
          },
          "metadata": {
            "tags": []
          },
          "execution_count": 45
        }
      ]
    },
    {
      "cell_type": "code",
      "metadata": {
        "id": "qVLB9cDoRbiM",
        "outputId": "a5a66422-d3d5-436a-82c9-67a9879582d7",
        "colab": {
          "base_uri": "https://localhost:8080/",
          "height": 54
        }
      },
      "source": [
        "summarize(document2,0.8)"
      ],
      "execution_count": null,
      "outputs": [
        {
          "output_type": "execute_result",
          "data": {
            "text/plain": [
              "'Our Father who art in heaven, hallowed be thy name.\\nThy kingdom come.\\nThy will be done, on earth as it is in heaven.'"
            ]
          },
          "metadata": {
            "tags": []
          },
          "execution_count": 48
        }
      ]
    },
    {
      "cell_type": "markdown",
      "metadata": {
        "id": "AJ1SZG0GfIFi"
      },
      "source": [
        "### automatic summarization using Gensim\n",
        "This summarizer is based on the \"TextRank\" algorithm\n",
        "Gensim's summarization only works for English for now, because the text is pre-processed so that stopwords are removed and the words are stemmed, and these processes are language-dependent."
      ]
    },
    {
      "cell_type": "code",
      "metadata": {
        "trusted": true,
        "id": "J3CBTeRIfIFj"
      },
      "source": [
        "import logging\n",
        "logging.basicConfig(format='%(asctime)s : %(levelname)s : %(message)s', level=logging.INFO)\n",
        "\n",
        "from gensim.summarization import summarize"
      ],
      "execution_count": null,
      "outputs": []
    },
    {
      "cell_type": "markdown",
      "metadata": {
        "id": "OvxRsZEhfIF2"
      },
      "source": [
        "#### Small Example"
      ]
    },
    {
      "cell_type": "code",
      "metadata": {
        "trusted": true,
        "id": "h6o77QjdfIF3",
        "outputId": "c980555e-8274-468f-bbe9-dfd6d9822a0b",
        "colab": {
          "base_uri": "https://localhost:8080/",
          "height": 71
        }
      },
      "source": [
        "text = \"Thomas A. Anderson is a man living two lives. By day he is an \" + \\\n",
        "    \"average computer programmer and by night a hacker known as \" + \\\n",
        "    \"Neo. Neo has always questioned his reality, but the truth is \" + \\\n",
        "    \"far beyond his imagination. Neo finds himself targeted by the \" + \\\n",
        "    \"police when he is contacted by Morpheus, a legendary computer \" + \\\n",
        "    \"hacker branded a terrorist by the government. Morpheus awakens \" + \\\n",
        "    \"Neo to the real world, a ravaged wasteland where most of \" + \\\n",
        "    \"humanity have been captured by a race of machines that live \" + \\\n",
        "    \"off of the humans' body heat and electrochemical energy and \" + \\\n",
        "    \"who imprison their minds within an artificial reality known as \" + \\\n",
        "    \"the Matrix. As a rebel against the machines, Neo must return to \" + \\\n",
        "    \"the Matrix and confront the agents: super-powerful computer \" + \\\n",
        "    \"programs devoted to snuffing out Neo and the entire human \" + \\\n",
        "    \"rebellion. \"\n",
        "\n",
        "print ('Input text:')\n",
        "print (text)"
      ],
      "execution_count": null,
      "outputs": [
        {
          "output_type": "stream",
          "text": [
            "Input text:\n",
            "Thomas A. Anderson is a man living two lives. By day he is an average computer programmer and by night a hacker known as Neo. Neo has always questioned his reality, but the truth is far beyond his imagination. Neo finds himself targeted by the police when he is contacted by Morpheus, a legendary computer hacker branded a terrorist by the government. Morpheus awakens Neo to the real world, a ravaged wasteland where most of humanity have been captured by a race of machines that live off of the humans' body heat and electrochemical energy and who imprison their minds within an artificial reality known as the Matrix. As a rebel against the machines, Neo must return to the Matrix and confront the agents: super-powerful computer programs devoted to snuffing out Neo and the entire human rebellion. \n"
          ],
          "name": "stdout"
        }
      ]
    },
    {
      "cell_type": "code",
      "metadata": {
        "trusted": true,
        "id": "Jl6MovIdfIF-",
        "outputId": "acb4675c-a76a-4630-f354-f5ae7a382f98",
        "colab": {
          "base_uri": "https://localhost:8080/",
          "height": 139
        }
      },
      "source": [
        "print ('Summary:')\n",
        "print (summarize(text))"
      ],
      "execution_count": null,
      "outputs": [
        {
          "output_type": "stream",
          "text": [
            "2019-07-03 06:58:14,314 : WARNING : Input text is expected to have at least 10 sentences.\n",
            "2019-07-03 06:58:14,316 : INFO : adding document #0 to Dictionary(0 unique tokens: [])\n",
            "2019-07-03 06:58:14,319 : INFO : built Dictionary(53 unique tokens: ['thoma', 'anderson', 'live', 'man', 'averag']...) from 6 documents (total 68 corpus positions)\n",
            "2019-07-03 06:58:14,321 : WARNING : Input corpus is expected to have at least 10 documents.\n"
          ],
          "name": "stderr"
        },
        {
          "output_type": "stream",
          "text": [
            "Summary:\n",
            "Morpheus awakens Neo to the real world, a ravaged wasteland where most of humanity have been captured by a race of machines that live off of the humans' body heat and electrochemical energy and who imprison their minds within an artificial reality known as the Matrix.\n"
          ],
          "name": "stdout"
        }
      ]
    },
    {
      "cell_type": "code",
      "metadata": {
        "trusted": true,
        "id": "uO5unQuofIGB",
        "outputId": "8e50aead-0d1a-4629-d171-55b5b54ea88b",
        "colab": {
          "base_uri": "https://localhost:8080/",
          "height": 122
        }
      },
      "source": [
        "#Use the \"split\" option if we want a list of strings instead of a single string.\n",
        "print (summarize(text, split=True))"
      ],
      "execution_count": null,
      "outputs": [
        {
          "output_type": "stream",
          "text": [
            "2019-07-03 06:58:18,522 : WARNING : Input text is expected to have at least 10 sentences.\n",
            "2019-07-03 06:58:18,525 : INFO : adding document #0 to Dictionary(0 unique tokens: [])\n",
            "2019-07-03 06:58:18,527 : INFO : built Dictionary(53 unique tokens: ['thoma', 'anderson', 'live', 'man', 'averag']...) from 6 documents (total 68 corpus positions)\n",
            "2019-07-03 06:58:18,530 : WARNING : Input corpus is expected to have at least 10 documents.\n"
          ],
          "name": "stderr"
        },
        {
          "output_type": "stream",
          "text": [
            "[\"Morpheus awakens Neo to the real world, a ravaged wasteland where most of humanity have been captured by a race of machines that live off of the humans' body heat and electrochemical energy and who imprison their minds within an artificial reality known as the Matrix.\"]\n"
          ],
          "name": "stdout"
        }
      ]
    },
    {
      "cell_type": "code",
      "metadata": {
        "trusted": true,
        "id": "h7gvoOJufIG1",
        "outputId": "8ed19a88-c985-45e2-fecd-b3fa249970d0",
        "colab": {
          "base_uri": "https://localhost:8080/",
          "height": 173
        }
      },
      "source": [
        "# can adjust how much text the summarizer outputs via:\n",
        "# the \"ratio\" parameter or the \"word_count\" parameter. \n",
        "# Using the \"ratio\" parameter, we specify what fraction of sentences in the original text should be returned as output.\n",
        "# Below we specify that we want 50% of the original text (the default is 20%).\n",
        "print ('Summary:')\n",
        "print (summarize(text, ratio=0.5))"
      ],
      "execution_count": null,
      "outputs": [
        {
          "output_type": "stream",
          "text": [
            "2019-07-03 06:58:19,966 : WARNING : Input text is expected to have at least 10 sentences.\n",
            "2019-07-03 06:58:19,968 : INFO : adding document #0 to Dictionary(0 unique tokens: [])\n",
            "2019-07-03 06:58:19,971 : INFO : built Dictionary(53 unique tokens: ['thoma', 'anderson', 'live', 'man', 'averag']...) from 6 documents (total 68 corpus positions)\n",
            "2019-07-03 06:58:19,973 : WARNING : Input corpus is expected to have at least 10 documents.\n"
          ],
          "name": "stderr"
        },
        {
          "output_type": "stream",
          "text": [
            "Summary:\n",
            "By day he is an average computer programmer and by night a hacker known as Neo. Neo has always questioned his reality, but the truth is far beyond his imagination.\n",
            "Morpheus awakens Neo to the real world, a ravaged wasteland where most of humanity have been captured by a race of machines that live off of the humans' body heat and electrochemical energy and who imprison their minds within an artificial reality known as the Matrix.\n",
            "As a rebel against the machines, Neo must return to the Matrix and confront the agents: super-powerful computer programs devoted to snuffing out Neo and the entire human rebellion.\n"
          ],
          "name": "stdout"
        }
      ]
    },
    {
      "cell_type": "code",
      "metadata": {
        "trusted": true,
        "id": "C8yaxyG_fIHC",
        "outputId": "02f655de-45ff-4f96-9a0d-1f47b21082b2",
        "colab": {
          "base_uri": "https://localhost:8080/",
          "height": 139
        }
      },
      "source": [
        "# Using the \"word_count\" parameter, we specify the maximum amount of words we want in the summary. \n",
        "# Below we have specified that we want no more than 50 words.\n",
        "\n",
        "print ('Summary:')\n",
        "print (summarize(text, word_count=50))"
      ],
      "execution_count": null,
      "outputs": [
        {
          "output_type": "stream",
          "text": [
            "2019-07-03 06:58:22,006 : WARNING : Input text is expected to have at least 10 sentences.\n",
            "2019-07-03 06:58:22,011 : INFO : adding document #0 to Dictionary(0 unique tokens: [])\n",
            "2019-07-03 06:58:22,017 : INFO : built Dictionary(53 unique tokens: ['thoma', 'anderson', 'live', 'man', 'averag']...) from 6 documents (total 68 corpus positions)\n",
            "2019-07-03 06:58:22,020 : WARNING : Input corpus is expected to have at least 10 documents.\n"
          ],
          "name": "stderr"
        },
        {
          "output_type": "stream",
          "text": [
            "Summary:\n",
            "Morpheus awakens Neo to the real world, a ravaged wasteland where most of humanity have been captured by a race of machines that live off of the humans' body heat and electrochemical energy and who imprison their minds within an artificial reality known as the Matrix.\n"
          ],
          "name": "stdout"
        }
      ]
    },
    {
      "cell_type": "code",
      "metadata": {
        "trusted": true,
        "id": "8NCINXlTfIHK",
        "outputId": "4db901b5-0bd6-4a70-b935-c26842b638b8",
        "colab": {
          "base_uri": "https://localhost:8080/",
          "height": 153
        }
      },
      "source": [
        "# This module also supports keyword extraction. \n",
        "# Keyword extraction works in the same way as summary generation (i.e. sentence extraction), \n",
        "# in that the algorithm tries to find words that are important or seem representative of the entire text. \n",
        "# The keywords are not always single words; in the case of multi-word keywords, they are typically all nouns.\n",
        "\n",
        "from gensim.summarization import keywords\n",
        "\n",
        "print ('Keywords:')\n",
        "print (keywords(text))"
      ],
      "execution_count": null,
      "outputs": [
        {
          "output_type": "stream",
          "text": [
            "Keywords:\n",
            "humanity\n",
            "human\n",
            "neo\n",
            "humans body\n",
            "super\n",
            "hacker\n",
            "reality\n"
          ],
          "name": "stdout"
        }
      ]
    },
    {
      "cell_type": "markdown",
      "metadata": {
        "id": "OURGb_K6fIHa"
      },
      "source": [
        "#### Larger example\n",
        "Let us try an example with a larger piece of text. We will be using a synopsis of the movie \"The Matrix\", which we have taken from this IMDb page.\n",
        "\n",
        "In the code below, we read the text file directly from a web-page using \"requests\". Then we produce a summary and some keywords."
      ]
    },
    {
      "cell_type": "code",
      "metadata": {
        "trusted": true,
        "id": "rhkXPuT6fIHa",
        "outputId": "f9747bb7-37bb-4975-8574-19de0890d8b3",
        "colab": {
          "base_uri": "https://localhost:8080/",
          "height": 360
        }
      },
      "source": [
        "import requests\n",
        "\n",
        "text = requests.get('http://rare-technologies.com/the_matrix_synopsis.txt').text\n",
        "\n",
        "print ('Summary:')\n",
        "print (summarize(text, ratio=0.01))\n",
        "\n",
        "print ('\\nKeywords:')\n",
        "print (keywords(text, ratio=0.01))\n"
      ],
      "execution_count": null,
      "outputs": [
        {
          "output_type": "stream",
          "text": [
            "2019-07-03 06:58:28,210 : INFO : adding document #0 to Dictionary(0 unique tokens: [])\n",
            "2019-07-03 06:58:28,220 : INFO : built Dictionary(1093 unique tokens: ['cascad', 'code', 'fill', 'give', 'green']...) from 416 documents (total 2985 corpus positions)\n"
          ],
          "name": "stderr"
        },
        {
          "output_type": "stream",
          "text": [
            "Summary:\n",
            "Anderson, a software engineer for a Metacortex, the other life as Neo, a computer hacker \"guilty of virtually every computer crime we have a law for.\" Agent Smith asks him to help them capture Morpheus, a dangerous terrorist, in exchange for amnesty.\n",
            "Morpheus explains that he's been searching for Neo his entire life and asks if Neo feels like \"Alice in Wonderland, falling down the rabbit hole.\" He explains to Neo that they exist in the Matrix, a false reality that has been constructed for humans to hide the truth.\n",
            "Neo is introduced to Morpheus's crew including Trinity; Apoc (Julian Arahanga), a man with long, flowing black hair; Switch; Cypher (bald with a goatee); two brawny brothers, Tank (Marcus Chong) and Dozer (Anthony Ray Parker); and a young, thin man named Mouse (Matt Doran).\n",
            "Trinity brings the helicopter down to the floor that Morpheus is on and Neo opens fire on the three Agents.\n",
            "\n",
            "Keywords:\n",
            "neo\n",
            "morpheus\n",
            "trinity\n",
            "cypher\n",
            "agents\n",
            "agent\n",
            "smith\n",
            "tank\n",
            "says\n",
            "saying\n"
          ],
          "name": "stdout"
        }
      ]
    },
    {
      "cell_type": "markdown",
      "metadata": {
        "id": "BHBFeMovfIHt"
      },
      "source": [
        "#### Another example\n",
        "Let's try an example similar to the one above. This time, we will use the IMDb synopsis of \"The Big Lebowski\".\n",
        "\n",
        "Again, we download the text and produce a summary and some keywords."
      ]
    },
    {
      "cell_type": "code",
      "metadata": {
        "trusted": true,
        "id": "47kuusVwfIHu",
        "outputId": "11cbed45-08df-4afa-ac4d-2b92703fd8b2",
        "colab": {
          "base_uri": "https://localhost:8080/",
          "height": 292
        }
      },
      "source": [
        "import requests\n",
        "\n",
        "text = requests.get('http://rare-technologies.com/the_big_lebowski_synopsis.txt').text\n",
        "\n",
        "print ('Summary:')\n",
        "print (summarize(text, ratio=0.01))\n",
        "\n",
        "print ('\\nKeywords:')\n",
        "print (keywords(text, ratio=0.01))"
      ],
      "execution_count": null,
      "outputs": [
        {
          "output_type": "stream",
          "text": [
            "2019-07-03 06:58:35,615 : INFO : adding document #0 to Dictionary(0 unique tokens: [])\n",
            "2019-07-03 06:58:35,625 : INFO : built Dictionary(1054 unique tokens: ['angel', 'elliott', 'fella', 'hillsid', 'jeffrei']...) from 227 documents (total 2434 corpus positions)\n"
          ],
          "name": "stderr"
        },
        {
          "output_type": "stream",
          "text": [
            "Summary:\n",
            "Dude agrees to meet with the Big Lebowski, hoping to get compensation for his rug since it \"really tied the room together\" and figures that his wife, Bunny, shouldn't be owing money around town.\n",
            "Walter resolves to go to Plan B; he tells Larry to watch out the window as he and Dude go back out to the car where Donny is waiting.\n",
            "\n",
            "Keywords:\n",
            "dude\n",
            "dudes\n",
            "walter\n",
            "lebowski\n",
            "brandt\n",
            "maude\n",
            "donny\n",
            "bunny\n"
          ],
          "name": "stdout"
        }
      ]
    },
    {
      "cell_type": "code",
      "metadata": {
        "trusted": true,
        "id": "BHptqRe8fIH1",
        "outputId": "6afee39d-537f-4e44-97f4-d33361e4f78a",
        "colab": {
          "base_uri": "https://localhost:8080/",
          "height": 785
        }
      },
      "source": [
        "text = \"Better late than never \" + \\\n",
        "      \"Our optimism has admittedly trailed TCS’ recent \" + \\\n",
        "      \"performance. Our belated upgrade derives from \" + \\\n",
        "      \"confidence on TCS’ growth trajectory, supported by \" + \\\n",
        "      \"(1) Scale and growth dominance of Digital business \" + \\\n",
        "      \"(25% of rev and 45.5% YoY), (2) Growth visibility \" + \\\n",
        "      \"(deal wins), (3) Strong recovery and outlook in BFSI \" + \\\n",
        "      \"vertical (across geos) and NorthAm geography and \" + \\\n",
        "      \"(4) Continuity in efficient capital allocation (80 to \" + \\\n",
        "      \"100% of FCF as payout). \" + \\\n",
        "      \"1QFY19 was inspiring (CC rev +4.1% QoQ) with \" + \\\n",
        "      \"revival in TCS’ core vertical (BFSI) and geography \" + \\\n",
        "      \"(NorthAm). Reported revenue at USD 5,051mn, \" + \\\n",
        "      \"+1.6/10.0% QoQ/YoY was hit by cross currency \" + \\\n",
        "      \"impact. BFSI and NorthAm grew at 3.7% QoQ CC \" + \\\n",
        "      \"each (11/12-qtr high). EBIT margin was in-line at \" + \\\n",
        "      \"25% (-36bps QoQ) as rising and INR depreciation \" + \\\n",
        "      \"offset wage hikes. APAT at Rs 73.62bn was boosted \" + \\\n",
        "      \"by higher other income. \" + \\\n",
        "      \"Book-to-bill stood at 0.97x, with USD 4.9bn deal \" + \\\n",
        "      \"TCV in 1Q (includes USD 1.6bn from BFSI). \" + \\\n",
        "      \"Our estimates rise ~3% as we build in USD rev/EPS \" + \\\n",
        "      \"at 10/14% CAGR over FY18-20E. We have factored \" + \\\n",
        "      \"USD rev growth of 10% and 10.1% for FY19/20E, \" + \\\n",
        "      \"implying 2.3/2.4% CQGR, respectively. EBIT at \" + \\\n",
        "      \"25.5/26.2% is rock steady. Upgrade to BUY (Neutral \" + \\\n",
        "      \"earlier) with TP of Rs 2,130, 24x FY20E (20% \" + \\\n",
        "      \"premium to its 5-yr avg. valuations), supported by \" + \\\n",
        "      \"~4.5% FCF yield and >60% RoIC. \" + \\\n",
        "      \"the target band as currency tailwinds persist.\"\n",
        "\n",
        "print ('Summary:')\n",
        "print (summarize(text, ratio=0.5))\n",
        "\n",
        "print ('\\nKeywords:')\n",
        "print (keywords(text, ratio=0.5))"
      ],
      "execution_count": null,
      "outputs": [
        {
          "output_type": "stream",
          "text": [
            "2019-07-03 06:58:50,854 : INFO : adding document #0 to Dictionary(0 unique tokens: [])\n",
            "2019-07-03 06:58:50,857 : INFO : built Dictionary(94 unique tokens: ['admittedli', 'better', 'late', 'optim', 'perform']...) from 14 documents (total 124 corpus positions)\n"
          ],
          "name": "stderr"
        },
        {
          "output_type": "stream",
          "text": [
            "Summary:\n",
            "Our belated upgrade derives from confidence on TCS’ growth trajectory, supported by (1) Scale and growth dominance of Digital business (25% of rev and 45.5% YoY), (2) Growth visibility (deal wins), (3) Strong recovery and outlook in BFSI vertical (across geos) and NorthAm geography and (4) Continuity in efficient capital allocation (80 to 100% of FCF as payout).\n",
            "1QFY19 was inspiring (CC rev +4.1% QoQ) with revival in TCS’ core vertical (BFSI) and geography (NorthAm).\n",
            "Reported revenue at USD 5,051mn, +1.6/10.0% QoQ/YoY was hit by cross currency impact.\n",
            "BFSI and NorthAm grew at 3.7% QoQ CC each (11/12-qtr high).\n",
            "EBIT margin was in-line at 25% (-36bps QoQ) as rising and INR depreciation offset wage hikes.\n",
            "Our estimates rise ~3% as we build in USD rev/EPS at 10/14% CAGR over FY18-20E.\n",
            "We have factored USD rev growth of 10% and 10.1% for FY19/20E, implying 2.3/2.4% CQGR, respectively.\n",
            "\n",
            "Keywords:\n",
            "growth\n",
            "northam\n",
            "upgrade\n",
            "rev\n",
            "ebit\n",
            "currency\n",
            "usd\n",
            "deal\n",
            "capital\n",
            "neutral\n",
            "tcs recent\n",
            "qoq\n",
            "reported\n",
            "steady\n",
            "hikes\n",
            "cqgr\n",
            "depreciation offset wage\n",
            "high\n",
            "strong\n",
            "tailwinds\n",
            "valuations\n",
            "respectively\n",
            "wins\n",
            "trailed\n",
            "supported\n",
            "impact\n",
            "digital business\n",
            "better late\n",
            "target band\n",
            "payout\n",
            "qfy\n",
            "fcf\n"
          ],
          "name": "stdout"
        }
      ]
    },
    {
      "cell_type": "code",
      "metadata": {
        "id": "E-yhIjY6bNZ2"
      },
      "source": [
        ""
      ],
      "execution_count": null,
      "outputs": []
    }
  ]
}